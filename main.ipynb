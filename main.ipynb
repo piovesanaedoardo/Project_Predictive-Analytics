{
 "cells": [
  {
   "cell_type": "markdown",
   "metadata": {},
   "source": [
    "# Selection of Calibration Windows for Day-Ahead Electricity Price Forecasting\n",
    "## by Grzegorz Marcjasz, Tomasz Serafin and Rafał Weron "
   ]
  },
  {
   "cell_type": "code",
   "execution_count": 51,
   "metadata": {},
   "outputs": [],
   "source": [
    "# libraries\n",
    "import numpy as np\n",
    "import matplotlib.pyplot as plt\n",
    "import pandas as pd\n",
    "from scipy.stats import median_abs_deviation"
   ]
  },
  {
   "cell_type": "markdown",
   "metadata": {},
   "source": [
    "### Data Preparation\n"
   ]
  },
  {
   "cell_type": "code",
   "execution_count": 117,
   "metadata": {},
   "outputs": [],
   "source": [
    "df_day_ahead_epex = pd.read_csv('Day_Ahead_Epex.csv', sep=';')\n",
    "df_NP2018_complete = pd.read_csv('NP2018_complete.csv')\n",
    "# remove the first column\n",
    "df_NP2018_complete = df_NP2018_complete.iloc[:,1:]\n",
    "df_PJM = pd.read_csv('PJM.csv', sep=';')"
   ]
  },
  {
   "cell_type": "code",
   "execution_count": 53,
   "metadata": {},
   "outputs": [],
   "source": [
    "def normalize_prices(prices):\n",
    "    a = np.median(prices)\n",
    "    b = median_abs_deviation(prices)\n",
    "    p = 1/b * (prices - a)\n",
    "    return p, a, b\n",
    "\n",
    "def apply_vst(p): # apply the area hyperbolic sine transformation to the normalized prices\n",
    "    X = np.arcsinh(p)\n",
    "    return X\n",
    "\n",
    "def inverse_transform(forecast, a, b): # apply the inverse of VST to the forecast to obtain the price prediction\n",
    "    price_predictions = b * np.sinh(forecast) + a\n",
    "    return price_predictions"
   ]
  },
  {
   "cell_type": "markdown",
   "metadata": {},
   "source": [
    "#### df_epex"
   ]
  },
  {
   "cell_type": "code",
   "execution_count": 54,
   "metadata": {},
   "outputs": [
    {
     "data": {
      "text/html": [
       "<div>\n",
       "<style scoped>\n",
       "    .dataframe tbody tr th:only-of-type {\n",
       "        vertical-align: middle;\n",
       "    }\n",
       "\n",
       "    .dataframe tbody tr th {\n",
       "        vertical-align: top;\n",
       "    }\n",
       "\n",
       "    .dataframe thead th {\n",
       "        text-align: right;\n",
       "    }\n",
       "</style>\n",
       "<table border=\"1\" class=\"dataframe\">\n",
       "  <thead>\n",
       "    <tr style=\"text-align: right;\">\n",
       "      <th></th>\n",
       "      <th>Date</th>\n",
       "      <th>Hour</th>\n",
       "      <th>Price</th>\n",
       "      <th>load</th>\n",
       "      <th>placeholder2</th>\n",
       "      <th>Day</th>\n",
       "    </tr>\n",
       "  </thead>\n",
       "  <tbody>\n",
       "    <tr>\n",
       "      <th>0</th>\n",
       "      <td>20130101</td>\n",
       "      <td>1</td>\n",
       "      <td>31.05</td>\n",
       "      <td>42497.0</td>\n",
       "      <td>2798.0</td>\n",
       "      <td>2</td>\n",
       "    </tr>\n",
       "    <tr>\n",
       "      <th>1</th>\n",
       "      <td>20130101</td>\n",
       "      <td>2</td>\n",
       "      <td>30.47</td>\n",
       "      <td>41463.0</td>\n",
       "      <td>2417.0</td>\n",
       "      <td>2</td>\n",
       "    </tr>\n",
       "    <tr>\n",
       "      <th>2</th>\n",
       "      <td>20130101</td>\n",
       "      <td>3</td>\n",
       "      <td>28.92</td>\n",
       "      <td>40812.0</td>\n",
       "      <td>2036.0</td>\n",
       "      <td>2</td>\n",
       "    </tr>\n",
       "    <tr>\n",
       "      <th>3</th>\n",
       "      <td>20130101</td>\n",
       "      <td>4</td>\n",
       "      <td>27.88</td>\n",
       "      <td>40246.0</td>\n",
       "      <td>1706.0</td>\n",
       "      <td>2</td>\n",
       "    </tr>\n",
       "    <tr>\n",
       "      <th>4</th>\n",
       "      <td>20130101</td>\n",
       "      <td>5</td>\n",
       "      <td>26.96</td>\n",
       "      <td>40088.0</td>\n",
       "      <td>1427.0</td>\n",
       "      <td>2</td>\n",
       "    </tr>\n",
       "  </tbody>\n",
       "</table>\n",
       "</div>"
      ],
      "text/plain": [
       "       Date  Hour  Price     load  placeholder2  Day\n",
       "0  20130101     1  31.05  42497.0        2798.0    2\n",
       "1  20130101     2  30.47  41463.0        2417.0    2\n",
       "2  20130101     3  28.92  40812.0        2036.0    2\n",
       "3  20130101     4  27.88  40246.0        1706.0    2\n",
       "4  20130101     5  26.96  40088.0        1427.0    2"
      ]
     },
     "execution_count": 54,
     "metadata": {},
     "output_type": "execute_result"
    }
   ],
   "source": [
    "df_NP2018_complete.head()"
   ]
  },
  {
   "cell_type": "markdown",
   "metadata": {},
   "source": [
    "#### df_NP2018"
   ]
  },
  {
   "cell_type": "markdown",
   "metadata": {},
   "source": [
    "##### noramlization"
   ]
  },
  {
   "cell_type": "code",
   "execution_count": 55,
   "metadata": {},
   "outputs": [],
   "source": [
    "# Extract 'comed price' column and convert to numpy array\n",
    "prices = df_NP2018_complete['Price'].values\n",
    "\n",
    "# Normalize prices\n",
    "p, a, b = normalize_prices(prices)\n",
    "\n",
    "# Apply VST\n",
    "X = apply_vst(p)\n",
    "\n",
    "# Update DataFrame\n",
    "df_NP2018_complete['Price_norm'] = X"
   ]
  },
  {
   "cell_type": "markdown",
   "metadata": {},
   "source": [
    "#### df_PJM"
   ]
  },
  {
   "cell_type": "code",
   "execution_count": 56,
   "metadata": {},
   "outputs": [],
   "source": [
    "df_PJM['sunday'] = np.where(df_PJM['day'] == 7, 1, 0)\n",
    "df_PJM['saturday'] = np.where(df_PJM['day'] == 6, 1, 0)\n",
    "df_PJM['monday'] = np.where(df_PJM['day'] ==  1, 1, 0)\n"
   ]
  },
  {
   "cell_type": "markdown",
   "metadata": {},
   "source": [
    "##### price normalization"
   ]
  },
  {
   "cell_type": "code",
   "execution_count": 57,
   "metadata": {},
   "outputs": [],
   "source": [
    "# Extract 'comed price' column and convert to numpy array\n",
    "prices = df_PJM['comed price'].values\n",
    "\n",
    "# Normalize prices\n",
    "p, a, b = normalize_prices(prices)\n",
    "\n",
    "# Apply VST\n",
    "X = apply_vst(p)\n",
    "\n",
    "# Update DataFrame\n",
    "df_PJM['comed_price_norma'] = X"
   ]
  },
  {
   "cell_type": "code",
   "execution_count": 65,
   "metadata": {},
   "outputs": [],
   "source": [
    "price = df_PJM[\"comed price\"]\n",
    "exogenos = df_PJM[\"rto load forecast\"]\n",
    "sunday = df_PJM[\"sunday\"]\n",
    "saturday = df_PJM[\"saturday\"]\n",
    "monday = df_PJM[\"monday\"]\n",
    "df_PJM['Min_Comed_Price'] = df_PJM.groupby('date')['comed price'].transform('min')\n",
    "df_PJM['Max_Comed_Price'] = df_PJM.groupby('date')['comed price'].transform('max')\n",
    "df_PJM[\"min_norm\"] = df_PJM.groupby('date')['comed_price_norma'].transform('min')\n",
    "df_PJM[\"max_norm\"] = df_PJM.groupby('date')['comed_price_norma'].transform('max')"
   ]
  },
  {
   "cell_type": "code",
   "execution_count": 66,
   "metadata": {},
   "outputs": [
    {
     "data": {
      "text/html": [
       "<div>\n",
       "<style scoped>\n",
       "    .dataframe tbody tr th:only-of-type {\n",
       "        vertical-align: middle;\n",
       "    }\n",
       "\n",
       "    .dataframe tbody tr th {\n",
       "        vertical-align: top;\n",
       "    }\n",
       "\n",
       "    .dataframe thead th {\n",
       "        text-align: right;\n",
       "    }\n",
       "</style>\n",
       "<table border=\"1\" class=\"dataframe\">\n",
       "  <thead>\n",
       "    <tr style=\"text-align: right;\">\n",
       "      <th></th>\n",
       "      <th>date</th>\n",
       "      <th>hour</th>\n",
       "      <th>comed price</th>\n",
       "      <th>rto load forecast</th>\n",
       "      <th>comed load foecast</th>\n",
       "      <th>day</th>\n",
       "      <th>sunday</th>\n",
       "      <th>saturday</th>\n",
       "      <th>monday</th>\n",
       "      <th>comed_price_norma</th>\n",
       "      <th>Min_Comed_Price</th>\n",
       "      <th>Max_Comed_Price</th>\n",
       "      <th>for_d_1</th>\n",
       "      <th>min_norm</th>\n",
       "      <th>max_norm</th>\n",
       "    </tr>\n",
       "  </thead>\n",
       "  <tbody>\n",
       "    <tr>\n",
       "      <th>0</th>\n",
       "      <td>20110102</td>\n",
       "      <td>0</td>\n",
       "      <td>17.141179</td>\n",
       "      <td>68590.0</td>\n",
       "      <td>11432.0</td>\n",
       "      <td>1</td>\n",
       "      <td>0</td>\n",
       "      <td>0</td>\n",
       "      <td>1</td>\n",
       "      <td>-1.387638</td>\n",
       "      <td>10.690926</td>\n",
       "      <td>51.389987</td>\n",
       "      <td>NaN</td>\n",
       "      <td>-1.81086</td>\n",
       "      <td>2.083361</td>\n",
       "    </tr>\n",
       "    <tr>\n",
       "      <th>1</th>\n",
       "      <td>20110102</td>\n",
       "      <td>1</td>\n",
       "      <td>14.179616</td>\n",
       "      <td>65896.0</td>\n",
       "      <td>10862.0</td>\n",
       "      <td>1</td>\n",
       "      <td>0</td>\n",
       "      <td>0</td>\n",
       "      <td>1</td>\n",
       "      <td>-1.602532</td>\n",
       "      <td>10.690926</td>\n",
       "      <td>51.389987</td>\n",
       "      <td>17.141179</td>\n",
       "      <td>-1.81086</td>\n",
       "      <td>2.083361</td>\n",
       "    </tr>\n",
       "    <tr>\n",
       "      <th>2</th>\n",
       "      <td>20110102</td>\n",
       "      <td>2</td>\n",
       "      <td>12.736793</td>\n",
       "      <td>64511.0</td>\n",
       "      <td>10486.0</td>\n",
       "      <td>1</td>\n",
       "      <td>0</td>\n",
       "      <td>0</td>\n",
       "      <td>1</td>\n",
       "      <td>-1.693663</td>\n",
       "      <td>10.690926</td>\n",
       "      <td>51.389987</td>\n",
       "      <td>14.179616</td>\n",
       "      <td>-1.81086</td>\n",
       "      <td>2.083361</td>\n",
       "    </tr>\n",
       "    <tr>\n",
       "      <th>3</th>\n",
       "      <td>20110102</td>\n",
       "      <td>3</td>\n",
       "      <td>11.096262</td>\n",
       "      <td>63935.0</td>\n",
       "      <td>10318.0</td>\n",
       "      <td>1</td>\n",
       "      <td>0</td>\n",
       "      <td>0</td>\n",
       "      <td>1</td>\n",
       "      <td>-1.788647</td>\n",
       "      <td>10.690926</td>\n",
       "      <td>51.389987</td>\n",
       "      <td>12.736793</td>\n",
       "      <td>-1.81086</td>\n",
       "      <td>2.083361</td>\n",
       "    </tr>\n",
       "    <tr>\n",
       "      <th>4</th>\n",
       "      <td>20110102</td>\n",
       "      <td>4</td>\n",
       "      <td>10.690926</td>\n",
       "      <td>64321.0</td>\n",
       "      <td>10208.0</td>\n",
       "      <td>1</td>\n",
       "      <td>0</td>\n",
       "      <td>0</td>\n",
       "      <td>1</td>\n",
       "      <td>-1.810860</td>\n",
       "      <td>10.690926</td>\n",
       "      <td>51.389987</td>\n",
       "      <td>11.096262</td>\n",
       "      <td>-1.81086</td>\n",
       "      <td>2.083361</td>\n",
       "    </tr>\n",
       "  </tbody>\n",
       "</table>\n",
       "</div>"
      ],
      "text/plain": [
       "       date  hour  comed price  rto load forecast  comed load foecast  day  \\\n",
       "0  20110102     0    17.141179            68590.0             11432.0    1   \n",
       "1  20110102     1    14.179616            65896.0             10862.0    1   \n",
       "2  20110102     2    12.736793            64511.0             10486.0    1   \n",
       "3  20110102     3    11.096262            63935.0             10318.0    1   \n",
       "4  20110102     4    10.690926            64321.0             10208.0    1   \n",
       "\n",
       "   sunday  saturday  monday  comed_price_norma  Min_Comed_Price  \\\n",
       "0       0         0       1          -1.387638        10.690926   \n",
       "1       0         0       1          -1.602532        10.690926   \n",
       "2       0         0       1          -1.693663        10.690926   \n",
       "3       0         0       1          -1.788647        10.690926   \n",
       "4       0         0       1          -1.810860        10.690926   \n",
       "\n",
       "   Max_Comed_Price    for_d_1  min_norm  max_norm  \n",
       "0        51.389987        NaN  -1.81086  2.083361  \n",
       "1        51.389987  17.141179  -1.81086  2.083361  \n",
       "2        51.389987  14.179616  -1.81086  2.083361  \n",
       "3        51.389987  12.736793  -1.81086  2.083361  \n",
       "4        51.389987  11.096262  -1.81086  2.083361  "
      ]
     },
     "execution_count": 66,
     "metadata": {},
     "output_type": "execute_result"
    }
   ],
   "source": [
    "df_PJM.head()"
   ]
  },
  {
   "cell_type": "markdown",
   "metadata": {},
   "source": [
    "## Arx1"
   ]
  },
  {
   "cell_type": "markdown",
   "metadata": {},
   "source": [
    "#### df_PJM"
   ]
  },
  {
   "cell_type": "markdown",
   "metadata": {},
   "source": [
    "##### not normalized"
   ]
  },
  {
   "cell_type": "code",
   "execution_count": 61,
   "metadata": {},
   "outputs": [
    {
     "name": "stdout",
     "output_type": "stream",
     "text": [
      "errors for model 1:  3.095383368363987\n"
     ]
    }
   ],
   "source": [
    "load = df_PJM[\"rto load forecast\"]\n",
    "errors = []\n",
    "T = 150\n",
    "for h in range(24):\n",
    "    p_hour = df_PJM.loc[h::24,'comed price'].values # hourly data selection\n",
    "    exogenos = df_PJM.loc[h::24,'rto load forecast'].values\n",
    "    sunday = df_PJM.loc[h::24,'sunday'].values\n",
    "    monday = df_PJM.loc[h::24,'monday'].values\n",
    "    saturday = df_PJM.loc[h::24,'saturday'].values\n",
    "    c_d_min = df_PJM.loc[h::24,'Min_Comed_Price'].values\n",
    "    h_errors = []\n",
    "    # Initialize an empty list to store the forecasts\n",
    "    forecasts = []\n",
    "    for day in range(T,len(price)//24):\n",
    "            cal_data = price[(day-T):day].values # calibration data \n",
    "            Y = cal_data[7:T]\n",
    "            X1 = cal_data[6:T-1] \n",
    "            X2 = cal_data[5:T-2] \n",
    "            X3 = cal_data[0:T-7]\n",
    "            X4 = c_d_min[7:T]\n",
    "            X5 = exogenos[7:T]  #C_d_h\n",
    "            X6 = sunday[7:T] # sunday\n",
    "            X7 = monday[7:T] # monday\n",
    "            X8 = saturday[7:T] # saturday\n",
    "            X0 = np.ones(np.size(X1)) \n",
    "            X = np.stack([X0,X1,X2, X3,X4,X5, X6, X7, X8],axis = 1)\n",
    "            betas = np.dot(np.linalg.inv(np.dot(X.T,X)), np.dot(X.T,Y))\n",
    "            X_fut = np.array([1,cal_data[T-1],cal_data[T-2],cal_data[T-7],c_d_min[day], exogenos[day],sunday[day],monday[day],saturday[day]])\n",
    "            forecast = np.dot(X_fut,betas)\n",
    "            forecasts.append(forecast)\n",
    "            real = price[day]\n",
    "            err = real - forecast\n",
    "            errors1 = (np.abs(err))\n",
    "            errors.append(errors1)\n",
    "print(\"errors for model 1: \" , np.mean(errors))\n",
    "\n"
   ]
  },
  {
   "cell_type": "code",
   "execution_count": 62,
   "metadata": {},
   "outputs": [],
   "source": [
    "# Convert the list of forecasts to a numpy array\n",
    "forecasts = np.array(forecasts)\n",
    "\n",
    "# Apply inverse transformation\n",
    "price_predictions = inverse_transform(forecasts, a, b)"
   ]
  },
  {
   "cell_type": "markdown",
   "metadata": {},
   "source": [
    "#### df_NP2018_complete"
   ]
  },
  {
   "cell_type": "code",
   "execution_count": 118,
   "metadata": {},
   "outputs": [
    {
     "data": {
      "text/html": [
       "<div>\n",
       "<style scoped>\n",
       "    .dataframe tbody tr th:only-of-type {\n",
       "        vertical-align: middle;\n",
       "    }\n",
       "\n",
       "    .dataframe tbody tr th {\n",
       "        vertical-align: top;\n",
       "    }\n",
       "\n",
       "    .dataframe thead th {\n",
       "        text-align: right;\n",
       "    }\n",
       "</style>\n",
       "<table border=\"1\" class=\"dataframe\">\n",
       "  <thead>\n",
       "    <tr style=\"text-align: right;\">\n",
       "      <th></th>\n",
       "      <th>Date</th>\n",
       "      <th>Hour</th>\n",
       "      <th>Price</th>\n",
       "      <th>load</th>\n",
       "      <th>placeholder2</th>\n",
       "      <th>Day</th>\n",
       "    </tr>\n",
       "  </thead>\n",
       "  <tbody>\n",
       "    <tr>\n",
       "      <th>0</th>\n",
       "      <td>20130101</td>\n",
       "      <td>1</td>\n",
       "      <td>31.05</td>\n",
       "      <td>42497.0</td>\n",
       "      <td>2798.0</td>\n",
       "      <td>2</td>\n",
       "    </tr>\n",
       "    <tr>\n",
       "      <th>1</th>\n",
       "      <td>20130101</td>\n",
       "      <td>2</td>\n",
       "      <td>30.47</td>\n",
       "      <td>41463.0</td>\n",
       "      <td>2417.0</td>\n",
       "      <td>2</td>\n",
       "    </tr>\n",
       "    <tr>\n",
       "      <th>2</th>\n",
       "      <td>20130101</td>\n",
       "      <td>3</td>\n",
       "      <td>28.92</td>\n",
       "      <td>40812.0</td>\n",
       "      <td>2036.0</td>\n",
       "      <td>2</td>\n",
       "    </tr>\n",
       "    <tr>\n",
       "      <th>3</th>\n",
       "      <td>20130101</td>\n",
       "      <td>4</td>\n",
       "      <td>27.88</td>\n",
       "      <td>40246.0</td>\n",
       "      <td>1706.0</td>\n",
       "      <td>2</td>\n",
       "    </tr>\n",
       "    <tr>\n",
       "      <th>4</th>\n",
       "      <td>20130101</td>\n",
       "      <td>5</td>\n",
       "      <td>26.96</td>\n",
       "      <td>40088.0</td>\n",
       "      <td>1427.0</td>\n",
       "      <td>2</td>\n",
       "    </tr>\n",
       "  </tbody>\n",
       "</table>\n",
       "</div>"
      ],
      "text/plain": [
       "       Date  Hour  Price     load  placeholder2  Day\n",
       "0  20130101     1  31.05  42497.0        2798.0    2\n",
       "1  20130101     2  30.47  41463.0        2417.0    2\n",
       "2  20130101     3  28.92  40812.0        2036.0    2\n",
       "3  20130101     4  27.88  40246.0        1706.0    2\n",
       "4  20130101     5  26.96  40088.0        1427.0    2"
      ]
     },
     "execution_count": 118,
     "metadata": {},
     "output_type": "execute_result"
    }
   ],
   "source": [
    "df_NP2018_complete.head()"
   ]
  },
  {
   "cell_type": "code",
   "execution_count": 119,
   "metadata": {},
   "outputs": [],
   "source": [
    "df_NP2018_complete['sunday'] = np.where(df_NP2018_complete['Day'] == 7, 1, 0)\n",
    "df_NP2018_complete['saturday'] = np.where(df_NP2018_complete['Day'] == 6, 1, 0)\n",
    "df_NP2018_complete['monday'] = np.where(df_NP2018_complete['Day'] ==  1, 1, 0)"
   ]
  },
  {
   "cell_type": "code",
   "execution_count": 110,
   "metadata": {},
   "outputs": [],
   "source": [
    "# Extract 'Price' column and convert to numpy array\n",
    "prices = df_NP2018_complete['Price'].values\n",
    "\n",
    "# Normalize prices\n",
    "p, a, b = normalize_prices(prices)\n",
    "\n",
    "# Apply VST\n",
    "X = apply_vst(p)\n",
    "\n",
    "# Update DataFrame\n",
    "df_NP2018_complete['comed_price_norma'] = X"
   ]
  },
  {
   "cell_type": "code",
   "execution_count": 120,
   "metadata": {},
   "outputs": [],
   "source": [
    "price = df_NP2018_complete[\"Price\"]\n",
    "exogenos = df_NP2018_complete[\"load\"]\n",
    "sunday = df_NP2018_complete[\"sunday\"]\n",
    "saturday = df_NP2018_complete[\"saturday\"]\n",
    "monday = df_NP2018_complete[\"monday\"]\n",
    "df_NP2018_complete['Min_Comed_Price'] = df_NP2018_complete.groupby('Date')['Price'].transform('min')\n",
    "df_NP2018_complete['Max_Comed_Price'] = df_NP2018_complete.groupby('Date')['Price'].transform('max')"
   ]
  },
  {
   "cell_type": "code",
   "execution_count": 121,
   "metadata": {},
   "outputs": [
    {
     "data": {
      "text/html": [
       "<div>\n",
       "<style scoped>\n",
       "    .dataframe tbody tr th:only-of-type {\n",
       "        vertical-align: middle;\n",
       "    }\n",
       "\n",
       "    .dataframe tbody tr th {\n",
       "        vertical-align: top;\n",
       "    }\n",
       "\n",
       "    .dataframe thead th {\n",
       "        text-align: right;\n",
       "    }\n",
       "</style>\n",
       "<table border=\"1\" class=\"dataframe\">\n",
       "  <thead>\n",
       "    <tr style=\"text-align: right;\">\n",
       "      <th></th>\n",
       "      <th>Date</th>\n",
       "      <th>Hour</th>\n",
       "      <th>Price</th>\n",
       "      <th>load</th>\n",
       "      <th>placeholder2</th>\n",
       "      <th>Day</th>\n",
       "      <th>sunday</th>\n",
       "      <th>saturday</th>\n",
       "      <th>monday</th>\n",
       "      <th>Min_Comed_Price</th>\n",
       "      <th>Max_Comed_Price</th>\n",
       "    </tr>\n",
       "  </thead>\n",
       "  <tbody>\n",
       "    <tr>\n",
       "      <th>0</th>\n",
       "      <td>20130101</td>\n",
       "      <td>1</td>\n",
       "      <td>31.05</td>\n",
       "      <td>42497.0</td>\n",
       "      <td>2798.0</td>\n",
       "      <td>2</td>\n",
       "      <td>0</td>\n",
       "      <td>0</td>\n",
       "      <td>0</td>\n",
       "      <td>26.96</td>\n",
       "      <td>36.65</td>\n",
       "    </tr>\n",
       "    <tr>\n",
       "      <th>1</th>\n",
       "      <td>20130101</td>\n",
       "      <td>2</td>\n",
       "      <td>30.47</td>\n",
       "      <td>41463.0</td>\n",
       "      <td>2417.0</td>\n",
       "      <td>2</td>\n",
       "      <td>0</td>\n",
       "      <td>0</td>\n",
       "      <td>0</td>\n",
       "      <td>26.96</td>\n",
       "      <td>36.65</td>\n",
       "    </tr>\n",
       "    <tr>\n",
       "      <th>2</th>\n",
       "      <td>20130101</td>\n",
       "      <td>3</td>\n",
       "      <td>28.92</td>\n",
       "      <td>40812.0</td>\n",
       "      <td>2036.0</td>\n",
       "      <td>2</td>\n",
       "      <td>0</td>\n",
       "      <td>0</td>\n",
       "      <td>0</td>\n",
       "      <td>26.96</td>\n",
       "      <td>36.65</td>\n",
       "    </tr>\n",
       "    <tr>\n",
       "      <th>3</th>\n",
       "      <td>20130101</td>\n",
       "      <td>4</td>\n",
       "      <td>27.88</td>\n",
       "      <td>40246.0</td>\n",
       "      <td>1706.0</td>\n",
       "      <td>2</td>\n",
       "      <td>0</td>\n",
       "      <td>0</td>\n",
       "      <td>0</td>\n",
       "      <td>26.96</td>\n",
       "      <td>36.65</td>\n",
       "    </tr>\n",
       "    <tr>\n",
       "      <th>4</th>\n",
       "      <td>20130101</td>\n",
       "      <td>5</td>\n",
       "      <td>26.96</td>\n",
       "      <td>40088.0</td>\n",
       "      <td>1427.0</td>\n",
       "      <td>2</td>\n",
       "      <td>0</td>\n",
       "      <td>0</td>\n",
       "      <td>0</td>\n",
       "      <td>26.96</td>\n",
       "      <td>36.65</td>\n",
       "    </tr>\n",
       "  </tbody>\n",
       "</table>\n",
       "</div>"
      ],
      "text/plain": [
       "       Date  Hour  Price     load  placeholder2  Day  sunday  saturday  \\\n",
       "0  20130101     1  31.05  42497.0        2798.0    2       0         0   \n",
       "1  20130101     2  30.47  41463.0        2417.0    2       0         0   \n",
       "2  20130101     3  28.92  40812.0        2036.0    2       0         0   \n",
       "3  20130101     4  27.88  40246.0        1706.0    2       0         0   \n",
       "4  20130101     5  26.96  40088.0        1427.0    2       0         0   \n",
       "\n",
       "   monday  Min_Comed_Price  Max_Comed_Price  \n",
       "0       0            26.96            36.65  \n",
       "1       0            26.96            36.65  \n",
       "2       0            26.96            36.65  \n",
       "3       0            26.96            36.65  \n",
       "4       0            26.96            36.65  "
      ]
     },
     "execution_count": 121,
     "metadata": {},
     "output_type": "execute_result"
    }
   ],
   "source": [
    "df_NP2018_complete.head()"
   ]
  },
  {
   "cell_type": "code",
   "execution_count": 122,
   "metadata": {},
   "outputs": [
    {
     "name": "stdout",
     "output_type": "stream",
     "text": [
      "errors for model 1:  1.8732773354352787\n"
     ]
    }
   ],
   "source": [
    "load = df_NP2018_complete[\"load\"]\n",
    "errors = []\n",
    "T = 150\n",
    "for h in range(24):\n",
    "    p_hour = df_NP2018_complete.loc[h::24,'Price'].values # hourly data selection\n",
    "    exogenos = df_NP2018_complete.loc[h::24,'load'].values\n",
    "    sunday = df_NP2018_complete.loc[h::24,'sunday'].values\n",
    "    monday = df_NP2018_complete.loc[h::24,'monday'].values\n",
    "    saturday = df_NP2018_complete.loc[h::24,'saturday'].values\n",
    "    c_d_min = df_NP2018_complete.loc[h::24,'Min_Comed_Price'].values\n",
    "    h_errors = []\n",
    "    # Initialize an empty list to store the forecasts\n",
    "    forecasts = []\n",
    "    for day in range(T,len(price)//24):\n",
    "            cal_data = price[(day-T):day].values # calibration data \n",
    "            Y = cal_data[7:T]\n",
    "            X1 = cal_data[6:T-1] \n",
    "            X2 = cal_data[5:T-2] \n",
    "            X3 = cal_data[0:T-7]\n",
    "            X4 = c_d_min[7:T]\n",
    "            X5 = exogenos[7:T]  #C_d_h\n",
    "            X6 = sunday[7:T] # sunday\n",
    "            X7 = monday[7:T] # monday\n",
    "            X8 = saturday[7:T] # saturday\n",
    "            X0 = np.ones(np.size(X1)) \n",
    "            X = np.stack([X0,X1,X2, X3,X4,X5, X6, X7, X8],axis = 1)\n",
    "            betas = np.dot(np.linalg.inv(np.dot(X.T,X)), np.dot(X.T,Y))\n",
    "            X_fut = np.array([1,cal_data[T-1],cal_data[T-2],cal_data[T-7],c_d_min[day], exogenos[day],sunday[day],monday[day],saturday[day]])\n",
    "            forecast = np.dot(X_fut,betas)\n",
    "            forecasts.append(forecast)\n",
    "            real = price[day]\n",
    "            err = real - forecast\n",
    "            errors1 = (np.abs(err))\n",
    "            errors.append(errors1)\n",
    "print(\"errors for model 1: \" , np.mean(errors))"
   ]
  },
  {
   "cell_type": "code",
   "execution_count": 116,
   "metadata": {},
   "outputs": [],
   "source": [
    "# Convert the list of forecasts to a numpy array\n",
    "forecasts = np.array(forecasts)\n",
    "\n",
    "# Apply inverse transformation\n",
    "price_predictions = inverse_transform(forecasts, a, b)"
   ]
  },
  {
   "cell_type": "markdown",
   "metadata": {},
   "source": [
    "### Arx2"
   ]
  },
  {
   "cell_type": "code",
   "execution_count": 67,
   "metadata": {},
   "outputs": [
    {
     "name": "stdout",
     "output_type": "stream",
     "text": [
      "errors for model 1:  3.066570716311972\n"
     ]
    }
   ],
   "source": [
    "load = df_PJM[\"rto load forecast\"]\n",
    "errors = []\n",
    "T = 150\n",
    "for h in range(24):\n",
    "    p_hour = df_PJM.loc[h::24,'comed_price_norma'].values # hourly data selection\n",
    "    exogenos = df_PJM.loc[h::24,'rto load forecast'].values\n",
    "    sunday = df_PJM.loc[h::24,'sunday'].values\n",
    "    monday = df_PJM.loc[h::24,'monday'].values\n",
    "    saturday = df_PJM.loc[h::24,'saturday'].values\n",
    "    c_d_min = df_PJM.loc[h::24,'min_norm'].values\n",
    "    h_errors = []\n",
    "    # Initialize an empty list to store the forecasts\n",
    "    forecasts = []\n",
    "    for day in range(T,len(price)//24):\n",
    "            cal_data = price[(day-T):day].values # calibration data \n",
    "            Y = cal_data[7:T]\n",
    "            X1 = cal_data[6:T-1] \n",
    "            X2 = cal_data[5:T-2] \n",
    "            X3 = cal_data[0:T-7]\n",
    "            X4 = c_d_min[7:T]\n",
    "            X5 = exogenos[7:T]  #C_d_h\n",
    "            X6 = sunday[7:T] # sunday\n",
    "            X7 = monday[7:T] # monday\n",
    "            X8 = saturday[7:T] # saturday\n",
    "            X0 = np.ones(np.size(X1)) \n",
    "            X = np.stack([X0,X1,X2, X3,X4,X5, X6, X7, X8],axis = 1)\n",
    "            betas = np.dot(np.linalg.inv(np.dot(X.T,X)), np.dot(X.T,Y))\n",
    "            X_fut = np.array([1,cal_data[T-1],cal_data[T-2],cal_data[T-7],c_d_min[day], exogenos[day],sunday[day],monday[day],saturday[day]])\n",
    "            forecast = np.dot(X_fut,betas)\n",
    "            forecasts.append(forecast)\n",
    "            real = price[day]\n",
    "            err = real - forecast\n",
    "            errors1 = (np.abs(err))\n",
    "            errors.append(errors1)\n",
    "print(\"errors for model 1: \" , np.mean(errors))\n",
    "\n"
   ]
  },
  {
   "cell_type": "markdown",
   "metadata": {},
   "source": [
    "## Arx2"
   ]
  },
  {
   "cell_type": "markdown",
   "metadata": {},
   "source": [
    "#### df_PJM"
   ]
  },
  {
   "cell_type": "markdown",
   "metadata": {},
   "source": [
    "##### not normalized"
   ]
  },
  {
   "cell_type": "code",
   "execution_count": 68,
   "metadata": {},
   "outputs": [
    {
     "name": "stdout",
     "output_type": "stream",
     "text": [
      "errors for model 1:  3914.6397079165254\n"
     ]
    }
   ],
   "source": [
    "load = df_PJM[\"rto load forecast\"]\n",
    "df_PJM[\"for_d_1\"] = df_PJM[\"comed price\"].shift(1)\n",
    "errors = []\n",
    "T = 150\n",
    "for h in range(24):\n",
    "    p_hour = df_PJM.loc[h::24,'comed price'].values # hourly data selection\n",
    "    exogenos = df_PJM.loc[h::24,'rto load forecast'].values\n",
    "    weekday = df_PJM.loc[h::24,'day'].values\n",
    "    c_d_min = df_PJM.loc[h::24,'Min_Comed_Price'].values\n",
    "    c_d_max = df_PJM.loc[h::24,'Max_Comed_Price'].values\n",
    "    for_d_1 = df_PJM.loc[h::24,'for_d_1'].values\n",
    "    h_errors = []\n",
    "    # Initialize an empty list to store the forecasts\n",
    "    forecasts = []\n",
    "    for day in range(T,len(price)//24):\n",
    "            cal_data = price[(day-T):day].values # calibration data \n",
    "            Y = cal_data[7:T]\n",
    "            X1 = cal_data[6:T-1] \n",
    "            X2 = cal_data[5:T-2] \n",
    "            X3 = cal_data[0:T-7]\n",
    "            X4 = c_d_min[7:T]\n",
    "            X5 = c_d_max[7:T]  #C_d_h\n",
    "            X6 = for_d_1[7:T] # c_d-1_24\n",
    "            X7 = exogenos[7:T]\n",
    "            X8 = weekday[7:T] \n",
    "            X0 = np.ones(np.size(X1)) \n",
    "            X = np.stack([X0,X1,X2, X3,X4,X5, X6, X7, X8],axis = 1)\n",
    "            betas = np.dot(np.linalg.inv(np.dot(X.T,X)), np.dot(X.T,Y))\n",
    "            X_fut = np.array([1,cal_data[T-1],cal_data[T-2],cal_data[T-7],c_d_min[day], exogenos[day],sunday[day],monday[day],saturday[day]])\n",
    "            forecast = np.dot(X_fut,betas)\n",
    "            forecasts.append(forecast)\n",
    "            real = price[day]\n",
    "            err = real - forecast\n",
    "            errors1 = (np.abs(err))\n",
    "            errors.append(errors1)\n",
    "print(\"errors for model 1: \" , np.mean(errors))\n",
    "\n"
   ]
  },
  {
   "cell_type": "markdown",
   "metadata": {},
   "source": [
    "##### normalized"
   ]
  },
  {
   "cell_type": "code",
   "execution_count": 70,
   "metadata": {},
   "outputs": [
    {
     "name": "stdout",
     "output_type": "stream",
     "text": [
      "errors for model 1:  93441.96711814604\n"
     ]
    }
   ],
   "source": [
    "load = df_PJM[\"rto load forecast\"]\n",
    "df_PJM[\"for_d_1_norm\"] = df_PJM[\"comed_price_norma\"].shift(1)\n",
    "errors = []\n",
    "T = 150\n",
    "for h in range(24):\n",
    "    p_hour = df_PJM.loc[h::24,'comed_price_norma'].values # hourly data selection\n",
    "    exogenos = df_PJM.loc[h::24,'rto load forecast'].values\n",
    "    weekday = df_PJM.loc[h::24,'day'].values\n",
    "    c_d_min = df_PJM.loc[h::24,'min_norm'].values\n",
    "    c_d_max = df_PJM.loc[h::24,'max_norm'].values\n",
    "    for_d_1 = df_PJM.loc[h::24,'for_d_1_norm'].values\n",
    "    h_errors = []\n",
    "    # Initialize an empty list to store the forecasts\n",
    "    forecasts = []\n",
    "    for day in range(T,len(price)//24):\n",
    "            cal_data = price[(day-T):day].values # calibration data \n",
    "            Y = cal_data[7:T]\n",
    "            X1 = cal_data[6:T-1] \n",
    "            X2 = cal_data[5:T-2] \n",
    "            X3 = cal_data[0:T-7]\n",
    "            X4 = c_d_min[7:T]\n",
    "            X5 = c_d_max[7:T]  #C_d_h\n",
    "            X6 = for_d_1[7:T] # c_d-1_24\n",
    "            X7 = exogenos[7:T]\n",
    "            X8 = weekday[7:T] \n",
    "            X0 = np.ones(np.size(X1)) \n",
    "            X = np.stack([X0,X1,X2, X3,X4,X5, X6, X7, X8],axis = 1)\n",
    "            betas = np.dot(np.linalg.inv(np.dot(X.T,X)), np.dot(X.T,Y))\n",
    "            X_fut = np.array([1,cal_data[T-1],cal_data[T-2],cal_data[T-7],c_d_min[day], exogenos[day],sunday[day],monday[day],saturday[day]])\n",
    "            forecast = np.dot(X_fut,betas)\n",
    "            forecasts.append(forecast)\n",
    "            real = price[day]\n",
    "            err = real - forecast\n",
    "            errors1 = (np.abs(err))\n",
    "            errors.append(errors1)\n",
    "print(\"errors for model 1: \" , np.mean(errors))\n",
    "\n"
   ]
  }
 ],
 "metadata": {
  "kernelspec": {
   "display_name": "Python 3",
   "language": "python",
   "name": "python3"
  },
  "language_info": {
   "codemirror_mode": {
    "name": "ipython",
    "version": 3
   },
   "file_extension": ".py",
   "mimetype": "text/x-python",
   "name": "python",
   "nbconvert_exporter": "python",
   "pygments_lexer": "ipython3",
   "version": "3.11.1"
  }
 },
 "nbformat": 4,
 "nbformat_minor": 2
}
