{
 "cells": [
  {
   "cell_type": "markdown",
   "metadata": {},
   "source": [
    "- [ ] Why the errors are better than the article?\n",
    "- [X] Cut the y-axis of the plot\n",
    "- [ ] Check the data like in the paper"
   ]
  },
  {
   "cell_type": "markdown",
   "metadata": {},
   "source": [
    "# Selection of Calibration Windows for Day-Ahead Electricity Price Forecasting\n",
    "by Grzegorz Marcjasz, Tomasz Serafin and Rafał Weron "
   ]
  },
  {
   "cell_type": "code",
   "execution_count": 1,
   "metadata": {},
   "outputs": [],
   "source": [
    "# libraries\n",
    "import numpy as np\n",
    "import matplotlib.pyplot as plt\n",
    "import pandas as pd\n",
    "from scipy.stats import median_abs_deviation"
   ]
  },
  {
   "cell_type": "markdown",
   "metadata": {},
   "source": [
    "## Data Preparation\n"
   ]
  },
  {
   "cell_type": "code",
   "execution_count": 2,
   "metadata": {},
   "outputs": [],
   "source": [
    "df_day_ahead_epex = pd.read_csv('Day_Ahead_Epex.csv', sep=';')\n",
    "df_NP2018_complete = pd.read_csv('NP2018_complete.csv')\n",
    "# remove the first column\n",
    "df_NP2018_complete = df_NP2018_complete.iloc[:,1:]\n",
    "df_PJM = pd.read_csv('PJM.csv', sep=';')"
   ]
  },
  {
   "cell_type": "code",
   "execution_count": 3,
   "metadata": {},
   "outputs": [],
   "source": [
    "def normalize_prices_and_vst(prices):\n",
    "    a = np.median(prices)\n",
    "    b = median_abs_deviation(prices)\n",
    "    p = 1/b * (prices - a)\n",
    "    X = np.arcsinh(p)\n",
    "    return p, a, b, X\n",
    "\n",
    "def inverse_transform(forecast, a, b): # apply the inverse of VST to the forecast to obtain the price prediction\n",
    "    price_predictions = b * np.sinh(forecast) + a\n",
    "    return price_predictions"
   ]
  },
  {
   "cell_type": "markdown",
   "metadata": {},
   "source": [
    "### df_NP2018"
   ]
  },
  {
   "cell_type": "code",
   "execution_count": 4,
   "metadata": {},
   "outputs": [],
   "source": [
    "df_NP2018_complete['sunday'] = np.where(df_NP2018_complete['Day'] == 7, 1, 0)\n",
    "df_NP2018_complete['saturday'] = np.where(df_NP2018_complete['Day'] == 6, 1, 0)\n",
    "df_NP2018_complete['monday'] = np.where(df_NP2018_complete['Day'] ==  1, 1, 0)"
   ]
  },
  {
   "cell_type": "code",
   "execution_count": 5,
   "metadata": {},
   "outputs": [
    {
     "data": {
      "text/html": [
       "<div>\n",
       "<style scoped>\n",
       "    .dataframe tbody tr th:only-of-type {\n",
       "        vertical-align: middle;\n",
       "    }\n",
       "\n",
       "    .dataframe tbody tr th {\n",
       "        vertical-align: top;\n",
       "    }\n",
       "\n",
       "    .dataframe thead th {\n",
       "        text-align: right;\n",
       "    }\n",
       "</style>\n",
       "<table border=\"1\" class=\"dataframe\">\n",
       "  <thead>\n",
       "    <tr style=\"text-align: right;\">\n",
       "      <th></th>\n",
       "      <th>Date</th>\n",
       "      <th>Hour</th>\n",
       "      <th>Price</th>\n",
       "      <th>load</th>\n",
       "      <th>placeholder2</th>\n",
       "      <th>Day</th>\n",
       "      <th>sunday</th>\n",
       "      <th>saturday</th>\n",
       "      <th>monday</th>\n",
       "    </tr>\n",
       "  </thead>\n",
       "  <tbody>\n",
       "    <tr>\n",
       "      <th>0</th>\n",
       "      <td>20130101</td>\n",
       "      <td>1</td>\n",
       "      <td>31.05</td>\n",
       "      <td>42497.0</td>\n",
       "      <td>2798.0</td>\n",
       "      <td>2</td>\n",
       "      <td>0</td>\n",
       "      <td>0</td>\n",
       "      <td>0</td>\n",
       "    </tr>\n",
       "    <tr>\n",
       "      <th>1</th>\n",
       "      <td>20130101</td>\n",
       "      <td>2</td>\n",
       "      <td>30.47</td>\n",
       "      <td>41463.0</td>\n",
       "      <td>2417.0</td>\n",
       "      <td>2</td>\n",
       "      <td>0</td>\n",
       "      <td>0</td>\n",
       "      <td>0</td>\n",
       "    </tr>\n",
       "    <tr>\n",
       "      <th>2</th>\n",
       "      <td>20130101</td>\n",
       "      <td>3</td>\n",
       "      <td>28.92</td>\n",
       "      <td>40812.0</td>\n",
       "      <td>2036.0</td>\n",
       "      <td>2</td>\n",
       "      <td>0</td>\n",
       "      <td>0</td>\n",
       "      <td>0</td>\n",
       "    </tr>\n",
       "    <tr>\n",
       "      <th>3</th>\n",
       "      <td>20130101</td>\n",
       "      <td>4</td>\n",
       "      <td>27.88</td>\n",
       "      <td>40246.0</td>\n",
       "      <td>1706.0</td>\n",
       "      <td>2</td>\n",
       "      <td>0</td>\n",
       "      <td>0</td>\n",
       "      <td>0</td>\n",
       "    </tr>\n",
       "    <tr>\n",
       "      <th>4</th>\n",
       "      <td>20130101</td>\n",
       "      <td>5</td>\n",
       "      <td>26.96</td>\n",
       "      <td>40088.0</td>\n",
       "      <td>1427.0</td>\n",
       "      <td>2</td>\n",
       "      <td>0</td>\n",
       "      <td>0</td>\n",
       "      <td>0</td>\n",
       "    </tr>\n",
       "    <tr>\n",
       "      <th>...</th>\n",
       "      <td>...</td>\n",
       "      <td>...</td>\n",
       "      <td>...</td>\n",
       "      <td>...</td>\n",
       "      <td>...</td>\n",
       "      <td>...</td>\n",
       "      <td>...</td>\n",
       "      <td>...</td>\n",
       "      <td>...</td>\n",
       "    </tr>\n",
       "    <tr>\n",
       "      <th>48907</th>\n",
       "      <td>20180731</td>\n",
       "      <td>20</td>\n",
       "      <td>55.09</td>\n",
       "      <td>36493.0</td>\n",
       "      <td>1110.0</td>\n",
       "      <td>2</td>\n",
       "      <td>0</td>\n",
       "      <td>0</td>\n",
       "      <td>0</td>\n",
       "    </tr>\n",
       "    <tr>\n",
       "      <th>48908</th>\n",
       "      <td>20180731</td>\n",
       "      <td>21</td>\n",
       "      <td>54.80</td>\n",
       "      <td>35853.0</td>\n",
       "      <td>1010.0</td>\n",
       "      <td>2</td>\n",
       "      <td>0</td>\n",
       "      <td>0</td>\n",
       "      <td>0</td>\n",
       "    </tr>\n",
       "    <tr>\n",
       "      <th>48909</th>\n",
       "      <td>20180731</td>\n",
       "      <td>22</td>\n",
       "      <td>54.54</td>\n",
       "      <td>35499.0</td>\n",
       "      <td>938.0</td>\n",
       "      <td>2</td>\n",
       "      <td>0</td>\n",
       "      <td>0</td>\n",
       "      <td>0</td>\n",
       "    </tr>\n",
       "    <tr>\n",
       "      <th>48910</th>\n",
       "      <td>20180731</td>\n",
       "      <td>23</td>\n",
       "      <td>54.62</td>\n",
       "      <td>34767.0</td>\n",
       "      <td>904.0</td>\n",
       "      <td>2</td>\n",
       "      <td>0</td>\n",
       "      <td>0</td>\n",
       "      <td>0</td>\n",
       "    </tr>\n",
       "    <tr>\n",
       "      <th>48911</th>\n",
       "      <td>20180731</td>\n",
       "      <td>0</td>\n",
       "      <td>52.72</td>\n",
       "      <td>33040.0</td>\n",
       "      <td>806.0</td>\n",
       "      <td>2</td>\n",
       "      <td>0</td>\n",
       "      <td>0</td>\n",
       "      <td>0</td>\n",
       "    </tr>\n",
       "  </tbody>\n",
       "</table>\n",
       "<p>48912 rows × 9 columns</p>\n",
       "</div>"
      ],
      "text/plain": [
       "           Date  Hour  Price     load  placeholder2  Day  sunday  saturday  \\\n",
       "0      20130101     1  31.05  42497.0        2798.0    2       0         0   \n",
       "1      20130101     2  30.47  41463.0        2417.0    2       0         0   \n",
       "2      20130101     3  28.92  40812.0        2036.0    2       0         0   \n",
       "3      20130101     4  27.88  40246.0        1706.0    2       0         0   \n",
       "4      20130101     5  26.96  40088.0        1427.0    2       0         0   \n",
       "...         ...   ...    ...      ...           ...  ...     ...       ...   \n",
       "48907  20180731    20  55.09  36493.0        1110.0    2       0         0   \n",
       "48908  20180731    21  54.80  35853.0        1010.0    2       0         0   \n",
       "48909  20180731    22  54.54  35499.0         938.0    2       0         0   \n",
       "48910  20180731    23  54.62  34767.0         904.0    2       0         0   \n",
       "48911  20180731     0  52.72  33040.0         806.0    2       0         0   \n",
       "\n",
       "       monday  \n",
       "0           0  \n",
       "1           0  \n",
       "2           0  \n",
       "3           0  \n",
       "4           0  \n",
       "...       ...  \n",
       "48907       0  \n",
       "48908       0  \n",
       "48909       0  \n",
       "48910       0  \n",
       "48911       0  \n",
       "\n",
       "[48912 rows x 9 columns]"
      ]
     },
     "execution_count": 5,
     "metadata": {},
     "output_type": "execute_result"
    }
   ],
   "source": [
    "df_NP2018_complete"
   ]
  },
  {
   "cell_type": "markdown",
   "metadata": {},
   "source": [
    "### df_PJM"
   ]
  },
  {
   "cell_type": "code",
   "execution_count": 6,
   "metadata": {},
   "outputs": [],
   "source": [
    "df_PJM['sunday'] = np.where(df_PJM['day'] == 7, 1, 0)\n",
    "df_PJM['saturday'] = np.where(df_PJM['day'] == 6, 1, 0)\n",
    "df_PJM['monday'] = np.where(df_PJM['day'] ==  1, 1, 0)"
   ]
  },
  {
   "cell_type": "code",
   "execution_count": 7,
   "metadata": {},
   "outputs": [],
   "source": [
    "price = df_PJM[\"comed price\"]\n",
    "exogenos = df_PJM[\"rto load forecast\"]\n",
    "sunday = df_PJM[\"sunday\"]\n",
    "saturday = df_PJM[\"saturday\"]\n",
    "monday = df_PJM[\"monday\"]\n",
    "df_PJM['Min_Comed_Price'] = df_PJM.groupby('date')['comed price'].transform('min')\n",
    "df_PJM['Max_Comed_Price'] = df_PJM.groupby('date')['comed price'].transform('max')"
   ]
  },
  {
   "cell_type": "code",
   "execution_count": 8,
   "metadata": {},
   "outputs": [
    {
     "data": {
      "text/html": [
       "<div>\n",
       "<style scoped>\n",
       "    .dataframe tbody tr th:only-of-type {\n",
       "        vertical-align: middle;\n",
       "    }\n",
       "\n",
       "    .dataframe tbody tr th {\n",
       "        vertical-align: top;\n",
       "    }\n",
       "\n",
       "    .dataframe thead th {\n",
       "        text-align: right;\n",
       "    }\n",
       "</style>\n",
       "<table border=\"1\" class=\"dataframe\">\n",
       "  <thead>\n",
       "    <tr style=\"text-align: right;\">\n",
       "      <th></th>\n",
       "      <th>date</th>\n",
       "      <th>hour</th>\n",
       "      <th>comed price</th>\n",
       "      <th>rto load forecast</th>\n",
       "      <th>comed load foecast</th>\n",
       "      <th>day</th>\n",
       "      <th>sunday</th>\n",
       "      <th>saturday</th>\n",
       "      <th>monday</th>\n",
       "      <th>Min_Comed_Price</th>\n",
       "      <th>Max_Comed_Price</th>\n",
       "    </tr>\n",
       "  </thead>\n",
       "  <tbody>\n",
       "    <tr>\n",
       "      <th>0</th>\n",
       "      <td>20110102</td>\n",
       "      <td>0</td>\n",
       "      <td>17.141179</td>\n",
       "      <td>68590.0</td>\n",
       "      <td>11432.0</td>\n",
       "      <td>1</td>\n",
       "      <td>0</td>\n",
       "      <td>0</td>\n",
       "      <td>1</td>\n",
       "      <td>10.690926</td>\n",
       "      <td>51.389987</td>\n",
       "    </tr>\n",
       "    <tr>\n",
       "      <th>1</th>\n",
       "      <td>20110102</td>\n",
       "      <td>1</td>\n",
       "      <td>14.179616</td>\n",
       "      <td>65896.0</td>\n",
       "      <td>10862.0</td>\n",
       "      <td>1</td>\n",
       "      <td>0</td>\n",
       "      <td>0</td>\n",
       "      <td>1</td>\n",
       "      <td>10.690926</td>\n",
       "      <td>51.389987</td>\n",
       "    </tr>\n",
       "    <tr>\n",
       "      <th>2</th>\n",
       "      <td>20110102</td>\n",
       "      <td>2</td>\n",
       "      <td>12.736793</td>\n",
       "      <td>64511.0</td>\n",
       "      <td>10486.0</td>\n",
       "      <td>1</td>\n",
       "      <td>0</td>\n",
       "      <td>0</td>\n",
       "      <td>1</td>\n",
       "      <td>10.690926</td>\n",
       "      <td>51.389987</td>\n",
       "    </tr>\n",
       "    <tr>\n",
       "      <th>3</th>\n",
       "      <td>20110102</td>\n",
       "      <td>3</td>\n",
       "      <td>11.096262</td>\n",
       "      <td>63935.0</td>\n",
       "      <td>10318.0</td>\n",
       "      <td>1</td>\n",
       "      <td>0</td>\n",
       "      <td>0</td>\n",
       "      <td>1</td>\n",
       "      <td>10.690926</td>\n",
       "      <td>51.389987</td>\n",
       "    </tr>\n",
       "    <tr>\n",
       "      <th>4</th>\n",
       "      <td>20110102</td>\n",
       "      <td>4</td>\n",
       "      <td>10.690926</td>\n",
       "      <td>64321.0</td>\n",
       "      <td>10208.0</td>\n",
       "      <td>1</td>\n",
       "      <td>0</td>\n",
       "      <td>0</td>\n",
       "      <td>1</td>\n",
       "      <td>10.690926</td>\n",
       "      <td>51.389987</td>\n",
       "    </tr>\n",
       "  </tbody>\n",
       "</table>\n",
       "</div>"
      ],
      "text/plain": [
       "       date  hour  comed price  rto load forecast  comed load foecast  day  \\\n",
       "0  20110102     0    17.141179            68590.0             11432.0    1   \n",
       "1  20110102     1    14.179616            65896.0             10862.0    1   \n",
       "2  20110102     2    12.736793            64511.0             10486.0    1   \n",
       "3  20110102     3    11.096262            63935.0             10318.0    1   \n",
       "4  20110102     4    10.690926            64321.0             10208.0    1   \n",
       "\n",
       "   sunday  saturday  monday  Min_Comed_Price  Max_Comed_Price  \n",
       "0       0         0       1        10.690926        51.389987  \n",
       "1       0         0       1        10.690926        51.389987  \n",
       "2       0         0       1        10.690926        51.389987  \n",
       "3       0         0       1        10.690926        51.389987  \n",
       "4       0         0       1        10.690926        51.389987  "
      ]
     },
     "execution_count": 8,
     "metadata": {},
     "output_type": "execute_result"
    }
   ],
   "source": [
    "df_PJM.head()"
   ]
  },
  {
   "cell_type": "markdown",
   "metadata": {},
   "source": [
    "### df_day_ahead_epex"
   ]
  },
  {
   "cell_type": "code",
   "execution_count": 10,
   "metadata": {},
   "outputs": [],
   "source": [
    "df_day_ahead_epex['sunday'] = np.where(df_day_ahead_epex['day'] == 7, 1, 0)\n",
    "df_day_ahead_epex['saturday'] = np.where(df_day_ahead_epex['day'] == 6, 1, 0)\n",
    "df_day_ahead_epex['monday'] = np.where(df_day_ahead_epex['day'] ==  1, 1, 0)"
   ]
  },
  {
   "cell_type": "code",
   "execution_count": 11,
   "metadata": {},
   "outputs": [],
   "source": [
    "price = df_day_ahead_epex[\"Spot DE.AT_price\"]\n",
    "# exogenos = df_day_ahead_epex[\"rto load forecast\"]\n",
    "sunday = df_day_ahead_epex[\"sunday\"]\n",
    "saturday = df_day_ahead_epex[\"saturday\"]\n",
    "monday = df_day_ahead_epex[\"monday\"]\n",
    "df_day_ahead_epex['Min_Comed_Price'] = df_day_ahead_epex.groupby('Date')['Spot DE.AT_price'].transform('min')\n",
    "df_day_ahead_epex['Max_Comed_Price'] = df_day_ahead_epex.groupby('Date')['Spot DE.AT_price'].transform('max')"
   ]
  },
  {
   "cell_type": "code",
   "execution_count": 12,
   "metadata": {},
   "outputs": [
    {
     "data": {
      "text/html": [
       "<div>\n",
       "<style scoped>\n",
       "    .dataframe tbody tr th:only-of-type {\n",
       "        vertical-align: middle;\n",
       "    }\n",
       "\n",
       "    .dataframe tbody tr th {\n",
       "        vertical-align: top;\n",
       "    }\n",
       "\n",
       "    .dataframe thead th {\n",
       "        text-align: right;\n",
       "    }\n",
       "</style>\n",
       "<table border=\"1\" class=\"dataframe\">\n",
       "  <thead>\n",
       "    <tr style=\"text-align: right;\">\n",
       "      <th></th>\n",
       "      <th>Date</th>\n",
       "      <th>hour</th>\n",
       "      <th>Spot DE.AT_price</th>\n",
       "      <th>day</th>\n",
       "      <th>sunday</th>\n",
       "      <th>saturday</th>\n",
       "      <th>monday</th>\n",
       "      <th>Min_Comed_Price</th>\n",
       "      <th>Max_Comed_Price</th>\n",
       "    </tr>\n",
       "  </thead>\n",
       "  <tbody>\n",
       "    <tr>\n",
       "      <th>0</th>\n",
       "      <td>20150101</td>\n",
       "      <td>1</td>\n",
       "      <td>25.02</td>\n",
       "      <td>5</td>\n",
       "      <td>0</td>\n",
       "      <td>0</td>\n",
       "      <td>0</td>\n",
       "      <td>0.04</td>\n",
       "      <td>26.9</td>\n",
       "    </tr>\n",
       "    <tr>\n",
       "      <th>1</th>\n",
       "      <td>20150101</td>\n",
       "      <td>2</td>\n",
       "      <td>18.29</td>\n",
       "      <td>5</td>\n",
       "      <td>0</td>\n",
       "      <td>0</td>\n",
       "      <td>0</td>\n",
       "      <td>0.04</td>\n",
       "      <td>26.9</td>\n",
       "    </tr>\n",
       "    <tr>\n",
       "      <th>2</th>\n",
       "      <td>20150101</td>\n",
       "      <td>3</td>\n",
       "      <td>16.04</td>\n",
       "      <td>5</td>\n",
       "      <td>0</td>\n",
       "      <td>0</td>\n",
       "      <td>0</td>\n",
       "      <td>0.04</td>\n",
       "      <td>26.9</td>\n",
       "    </tr>\n",
       "    <tr>\n",
       "      <th>3</th>\n",
       "      <td>20150101</td>\n",
       "      <td>4</td>\n",
       "      <td>14.60</td>\n",
       "      <td>5</td>\n",
       "      <td>0</td>\n",
       "      <td>0</td>\n",
       "      <td>0</td>\n",
       "      <td>0.04</td>\n",
       "      <td>26.9</td>\n",
       "    </tr>\n",
       "    <tr>\n",
       "      <th>4</th>\n",
       "      <td>20150101</td>\n",
       "      <td>5</td>\n",
       "      <td>14.95</td>\n",
       "      <td>5</td>\n",
       "      <td>0</td>\n",
       "      <td>0</td>\n",
       "      <td>0</td>\n",
       "      <td>0.04</td>\n",
       "      <td>26.9</td>\n",
       "    </tr>\n",
       "  </tbody>\n",
       "</table>\n",
       "</div>"
      ],
      "text/plain": [
       "       Date  hour  Spot DE.AT_price  day  sunday  saturday  monday  \\\n",
       "0  20150101     1             25.02    5       0         0       0   \n",
       "1  20150101     2             18.29    5       0         0       0   \n",
       "2  20150101     3             16.04    5       0         0       0   \n",
       "3  20150101     4             14.60    5       0         0       0   \n",
       "4  20150101     5             14.95    5       0         0       0   \n",
       "\n",
       "   Min_Comed_Price  Max_Comed_Price  \n",
       "0             0.04             26.9  \n",
       "1             0.04             26.9  \n",
       "2             0.04             26.9  \n",
       "3             0.04             26.9  \n",
       "4             0.04             26.9  "
      ]
     },
     "execution_count": 12,
     "metadata": {},
     "output_type": "execute_result"
    }
   ],
   "source": [
    "df_day_ahead_epex.head()"
   ]
  },
  {
   "cell_type": "markdown",
   "metadata": {},
   "source": [
    "## ARX1"
   ]
  },
  {
   "cell_type": "markdown",
   "metadata": {},
   "source": [
    "### df_PJM"
   ]
  },
  {
   "cell_type": "markdown",
   "metadata": {},
   "source": [
    "#### Raw Data"
   ]
  },
  {
   "cell_type": "code",
   "execution_count": 7,
   "metadata": {},
   "outputs": [
    {
     "name": "stdout",
     "output_type": "stream",
     "text": [
      "[6.8159527660532575, 4.322311568782015, 3.7418377470777746, 3.743618658412115, 3.850069117507036, 3.7923976557689487, 3.50049841641373, 3.409363360677727, 3.2886193628541314, 3.05383034609392, 2.9880093604831632, 2.904436558610008, 2.9085263888211514, 2.876458680390128, 2.8788908631711014, 2.9207042170347495, 2.9107170697857034, 2.9157018793032687, 2.9004338350402397, 2.8867828952552816, 2.844246872586484, 2.819017033493094, 2.8337023025157997, 2.8106492549436384, 2.8106863364583603, 2.825750965213226, 2.8008523751095455, 2.825369535130098, 2.827047414274915, 2.8287287894800475, 2.83203987132344, 2.815760435283687, 2.7933316779156083, 2.7830607251753134, 2.7867441614368023, 2.7880600128707402, 2.796632729293718, 2.775488815323644, 2.759354529030003, 2.7778208207473947, 2.78663718799051, 2.806943539757772, 2.8100932501338223, 2.821165763569711, 2.8114081529920107, 2.805191572090501, 2.815158990663138, 2.8006187282840838, 2.8046317175370614, 2.810061912733901, 2.7891021021561286, 2.801944619037486, 2.803822867493789, 2.810224162591382, 2.808158945408485, 2.787546431132663, 2.765586619592947, 2.763883052512936, 2.781933435484017, 2.793569260598003, 2.7928590569143505, 2.799437572054843, 2.802984481728485, 2.8192875601160283, 2.835429798819245, 2.850133706289932, 2.8569069583028845, 2.856970022192575, 2.8336027889395035, 2.829961814797085, 2.8424054229234543, 2.8260657462063463, 2.8130124668296115, 2.7943858174219187, 2.7780736724832202, 2.7806984582385366]\n"
     ]
    }
   ],
   "source": [
    "load = df_PJM[\"rto load forecast\"]\n",
    "\n",
    "errors_mean_ARX1_PJM_Raw = []\n",
    "\n",
    "for T in range(28,1092,14):\n",
    "    errors = []\n",
    "    for h in range(24):\n",
    "        p_hour = df_PJM.loc[h::24,'comed price'].values # hourly data selection\n",
    "        exogenos = df_PJM.loc[h::24,'rto load forecast'].values\n",
    "        sunday = df_PJM.loc[h::24,'sunday'].values\n",
    "        monday = df_PJM.loc[h::24,'monday'].values\n",
    "        saturday = df_PJM.loc[h::24,'saturday'].values\n",
    "        c_d_min = df_PJM.loc[h::24,'Min_Comed_Price'].values\n",
    "        h_errors = []\n",
    "        # Initialize an empty list to store the forecasts\n",
    "        forecasts = []\n",
    "        for day in range(T, len(price)//24):\n",
    "                cal_data = price[(day-T):day].values\n",
    "                \n",
    "                Y = cal_data[7:T]\n",
    "                X1 = cal_data[6:T-1] \n",
    "                X2 = cal_data[5:T-2] \n",
    "                X3 = cal_data[0:T-7]\n",
    "                X4 = c_d_min[7:T]\n",
    "                X5 = exogenos[7:T]  #C_d_h\n",
    "                X6 = sunday[7:T] # sunday\n",
    "                X7 = monday[7:T] # monday\n",
    "                X8 = saturday[7:T] # saturday\n",
    "                X0 = np.ones(np.size(X1)) \n",
    "                X = np.stack([X0,X1,X2, X3,X4,X5, X6, X7, X8],axis = 1)\n",
    "                betas = np.dot(np.linalg.inv(np.dot(X.T,X)), np.dot(X.T,Y))\n",
    "                X_fut = np.array([1,cal_data[T-1],cal_data[T-2],cal_data[T-7],c_d_min[day], exogenos[day],sunday[day],monday[day],saturday[day]])\n",
    "                forecast = np.dot(X_fut,betas)\n",
    "                forecasts.append(forecast)\n",
    "                \n",
    "                real = price[day]\n",
    "                err = real - forecast\n",
    "                errors1 = (np.abs(err))\n",
    "                errors.append(errors1)\n",
    "        \n",
    "    errors_mean_ARX1_PJM_Raw.append(np.mean(errors))\n",
    "\n",
    "print(errors_mean_ARX1_PJM_Raw)"
   ]
  },
  {
   "cell_type": "code",
   "execution_count": 24,
   "metadata": {},
   "outputs": [
    {
     "data": {
      "image/png": "[encoded data removed]",
      "text/plain": [
       "<Figure size 640x480 with 1 Axes>"
      ]
     },
     "metadata": {},
     "output_type": "display_data"
    }
   ],
   "source": [
    "window_size = list(range(28,1092,14))\n",
    "plt.plot(window_size, errors_mean_ARX1_PJM_Raw)\n",
    "plt.xlabel('Window size')\n",
    "plt.ylabel('MAE')\n",
    "plt.title('ARX1 model - PJM - Raw data')\n",
    "xticks = [28, 182, 364, 546, 728, 910, 1092]\n",
    "plt.xticks(xticks)\n",
    "# plt.grid()\n",
    "plt.ylim(2.2, 4)\n",
    "plt.show()"
   ]
  },
  {
   "cell_type": "markdown",
   "metadata": {},
   "source": [
    "#### Normalized"
   ]
  },
  {
   "cell_type": "code",
   "execution_count": 9,
   "metadata": {},
   "outputs": [],
   "source": [
    "df_PJM[\"min_norm\"] = df_PJM.groupby('date')['comed price'].transform('min')\n",
    "df_PJM[\"max_norm\"] = df_PJM.groupby('date')['comed price'].transform('max')"
   ]
  },
  {
   "cell_type": "code",
   "execution_count": 10,
   "metadata": {},
   "outputs": [],
   "source": [
    "load = df_PJM[\"rto load forecast\"]\n",
    "\n",
    "errors_mean_ARX1_PJM_Norm = []\n",
    "\n",
    "for T in range(28,1092,14):\n",
    "    errors = []\n",
    "    \n",
    "    for h in range(24):\n",
    "        p_hour = df_PJM.loc[h::24,'comed price'].values # hourly data selection\n",
    "        exogenos = df_PJM.loc[h::24,'rto load forecast'].values\n",
    "        sunday = df_PJM.loc[h::24,'sunday'].values\n",
    "        monday = df_PJM.loc[h::24,'monday'].values\n",
    "        saturday = df_PJM.loc[h::24,'saturday'].values\n",
    "        c_d_min = df_PJM.loc[h::24,'min_norm'].values\n",
    "        h_errors = []\n",
    "        # Initialize an empty list to store the forecasts\n",
    "        forecasts = []\n",
    "        for day in range(T, len(price)//24):\n",
    "                \n",
    "                cal_data = price[(day-T):day].values # calibration data\n",
    "                \n",
    "                p, a, b, cal_data = normalize_prices_and_vst(cal_data)\n",
    "\n",
    "                Y = cal_data[7:T]\n",
    "                X1 = cal_data[6:T-1] \n",
    "                X2 = cal_data[5:T-2] \n",
    "                X3 = cal_data[0:T-7]\n",
    "                X4 = c_d_min[7:T]\n",
    "                X5 = exogenos[7:T]  #C_d_h\n",
    "                X6 = sunday[7:T] # sunday\n",
    "                X7 = monday[7:T] # monday\n",
    "                X8 = saturday[7:T] # saturday\n",
    "                X0 = np.ones(np.size(X1)) \n",
    "                X = np.stack([X0,X1,X2, X3,X4,X5, X6, X7, X8],axis = 1)\n",
    "                betas = np.dot(np.linalg.inv(np.dot(X.T,X)), np.dot(X.T,Y))\n",
    "                X_fut = np.array([1,cal_data[T-1],cal_data[T-2],cal_data[T-7],c_d_min[day], exogenos[day],sunday[day],monday[day],saturday[day]])\n",
    "\n",
    "                forecast = np.dot(X_fut,betas)\n",
    "                # Apply inverse transformation to the forecast\n",
    "                forecast = inverse_transform(forecast, a, b)\n",
    "                forecasts.append(forecast)\n",
    "            \n",
    "                real = price[day]\n",
    "                err = real - forecast\n",
    "                errors1 = (np.abs(err))\n",
    "                errors.append(errors1)\n",
    "\n",
    "    errors_mean_ARX1_PJM_Norm.append(np.mean(errors))"
   ]
  },
  {
   "cell_type": "code",
   "execution_count": 28,
   "metadata": {},
   "outputs": [
    {
     "name": "stdout",
     "output_type": "stream",
     "text": [
      "[15.29578933588173, 5.152422643655672, 4.08043241835839, 3.868656772529962, 3.87239454907262, 3.7600969705211367, 3.5282822201679873, 3.484722103291084, 3.425454935375652, 3.133032852892466, 3.0758341962534845, 3.0194137406143056, 3.0380270503957547, 3.034388938035164, 3.0175763642610525, 3.033160569524339, 2.9954056861917855, 3.019994021178086, 3.03087830623277, 3.025728882083627, 3.0046885343341896, 2.984280045973104, 2.9676597831378517, 2.9358393010531674, 2.9605243892877526, 2.9796803804788388, 2.9593075600095067, 2.9845355915057263, 2.9650601900171427, 2.967744983722558, 2.9865808900555306, 2.984002942836578, 2.984175123460422, 2.979877110504877, 2.9645793570938888, 2.9618291059566113, 2.9851679807751266, 2.9746058716550245, 2.967954095052039, 2.990593453036058, 2.987117479532063, 2.9960582402167417, 3.0188934544063684, 3.0324166096753546, 3.0393341784888164, 3.0310328367120896, 3.028755575811652, 3.0043445793212418, 3.0094434789024436, 3.0199142898627698, 3.0018928553336997, 3.0242106154784434, 3.016167186057082, 3.017182388723514, 3.034736872278232, 3.022123365161111, 3.0208727703077836, 3.0211498394047065, 3.025039898498809, 3.0286254692800147, 3.0424119429705527, 3.0584426042839863, 3.0731990746629023, 3.0934811909519024, 3.0938788321818946, 3.1104564346944508, 3.132461057559381, 3.139683311302302, 3.135170487477149, 3.1324919901621326, 3.131288100855805, 3.1046602241570675, 3.0934056418713998, 3.075587168190177, 3.0545276217222224, 3.060099366562746]\n"
     ]
    },
    {
     "data": {
      "image/png": "[encoded data removed]",
      "text/plain": [
       "<Figure size 640x480 with 1 Axes>"
      ]
     },
     "metadata": {},
     "output_type": "display_data"
    }
   ],
   "source": [
    "print(errors_mean_ARX1_PJM_Norm)\n",
    "window_list = list(range(28,1092,14))\n",
    "plt.plot(window_list, errors_mean_ARX1_PJM_Norm)\n",
    "plt.xlabel('Window size')\n",
    "plt.ylabel('MAE')\n",
    "plt.title('ARX1 model - PJM - Normalized data')\n",
    "xticks = [28, 182, 364, 546, 728, 910, 1092]\n",
    "plt.xticks(xticks)\n",
    "plt.ylim(2.5, 4)\n",
    "plt.show()"
   ]
  },
  {
   "cell_type": "markdown",
   "metadata": {},
   "source": [
    "### df_NP2018_complete"
   ]
  },
  {
   "cell_type": "markdown",
   "metadata": {},
   "source": [
    "#### Raw Data"
   ]
  },
  {
   "cell_type": "code",
   "execution_count": 14,
   "metadata": {},
   "outputs": [],
   "source": [
    "price = df_NP2018_complete[\"Price\"]\n",
    "exogenos = df_NP2018_complete[\"load\"]\n",
    "sunday = df_NP2018_complete[\"sunday\"]\n",
    "saturday = df_NP2018_complete[\"saturday\"]\n",
    "monday = df_NP2018_complete[\"monday\"]\n",
    "df_NP2018_complete['Min_Comed_Price'] = df_NP2018_complete.groupby('Date')['Price'].transform('min')\n",
    "df_NP2018_complete['Max_Comed_Price'] = df_NP2018_complete.groupby('Date')['Price'].transform('max')"
   ]
  },
  {
   "cell_type": "code",
   "execution_count": null,
   "metadata": {},
   "outputs": [],
   "source": [
    "df_NP2018_complete.head()"
   ]
  },
  {
   "cell_type": "code",
   "execution_count": 15,
   "metadata": {},
   "outputs": [
    {
     "name": "stdout",
     "output_type": "stream",
     "text": [
      "[6.564818484616738, 5.0425482550463965, 2.9022485781871152, 3.6263526241279678, 2.918519512946473, 2.885224050604717, 2.152392372817417, 1.9837470603861982, 1.898929829522265, 1.839355953566575, 1.8031119251656744, 1.7552598457133939, 1.7533709148861294, 1.7477863892569718, 1.7561433774216528, 1.7501934217416333, 1.7537915605870724, 1.7863744298726498, 1.7940974679034163, 1.7899814452703258, 1.7627695726302666, 1.7213237722006782, 1.6819727919025453, 1.6231192770388088, 1.5908052409659112, 1.5558244528195966, 1.536767152795938, 1.5157137178486444, 1.5127870890257578, 1.5145173169882824, 1.5175469929480658, 1.5173417745784687, 1.4964131475917763, 1.4825003166749666, 1.481957237426784, 1.4357454296463432, 1.3883440011750663, 1.361623383358631, 1.333239520028474, 1.2961027115500552, 1.293832219981566, 1.2940325122080871, 1.3229958260992474, 1.3253623005513155, 1.3250438861357918, 1.3129353842320532, 1.293077375156529, 1.2765682674136405, 1.2617147169376826, 1.25422548401556, 1.241485150946544, 1.2510387393534452, 1.2515392400807739, 1.2739730749046578, 1.2881701702217387, 1.2891135517575936, 1.2860844311260253, 1.2891862695401775, 1.284816686741544, 1.287718944605219, 1.2884894971300742, 1.29050503211578, 1.2912390306102666, 1.286455430635417, 1.2900689406903287, 1.3056564394882668, 1.3257642726143073, 1.3367645014398517, 1.3542879556138334, 1.3617210333081216, 1.3703610294181567, 1.3561343951456255, 1.3454346509815829, 1.3076146573741887, 1.2958323099116082, 1.306347911400808]\n"
     ]
    }
   ],
   "source": [
    "load = df_NP2018_complete[\"load\"]\n",
    "\n",
    "errors_mean_ARX1_NP_Raw = []\n",
    "\n",
    "window_list = list(range(35, 1093, 7))\n",
    "\n",
    "for T in range(28,1092,14):\n",
    "    errors = []\n",
    "    for h in range(24):\n",
    "        p_hour = df_NP2018_complete.loc[h::24,'Price'].values # hourly data selection\n",
    "        exogenos = df_NP2018_complete.loc[h::24,'load'].values\n",
    "        sunday = df_NP2018_complete.loc[h::24,'sunday'].values\n",
    "        monday = df_NP2018_complete.loc[h::24,'monday'].values\n",
    "        saturday = df_NP2018_complete.loc[h::24,'saturday'].values\n",
    "        c_d_min = df_NP2018_complete.loc[h::24,'Min_Comed_Price'].values\n",
    "        h_errors = []\n",
    "        # Initialize an empty list to store the forecasts\n",
    "        forecasts = []\n",
    "        for day in range(T, len(price)//24):\n",
    "                cal_data = price[(day-T):day].values # calibration data \n",
    "                \n",
    "                Y = cal_data[7:T]\n",
    "                X1 = cal_data[6:T-1] \n",
    "                X2 = cal_data[5:T-2] \n",
    "                X3 = cal_data[0:T-7]\n",
    "                X4 = c_d_min[7:T]\n",
    "                X5 = exogenos[7:T]  #C_d_h\n",
    "                X6 = sunday[7:T] # sunday\n",
    "                X7 = monday[7:T] # monday\n",
    "                X8 = saturday[7:T] # saturday\n",
    "                X0 = np.ones(np.size(X1)) \n",
    "                X = np.stack([X0,X1,X2, X3,X4,X5, X6, X7, X8],axis = 1)\n",
    "                betas = np.dot(np.linalg.inv(np.dot(X.T,X)), np.dot(X.T,Y))\n",
    "                X_fut = np.array([1,cal_data[T-1],cal_data[T-2],cal_data[T-7],c_d_min[day], exogenos[day],sunday[day],monday[day],saturday[day]])\n",
    "\n",
    "                forecast = np.dot(X_fut,betas)\n",
    "                forecasts.append(forecast)\n",
    "                \n",
    "                real = price[day]\n",
    "                err = real - forecast\n",
    "                errors1 = (np.abs(err))\n",
    "                errors.append(errors1)\n",
    "                \n",
    "    errors_mean_ARX1_NP_Raw.append(np.mean(errors))\n",
    "\n",
    "print(errors_mean_ARX1_NP_Raw)"
   ]
  },
  {
   "cell_type": "code",
   "execution_count": 20,
   "metadata": {},
   "outputs": [
    {
     "data": {
      "image/png": "[encoded data removed]",
      "text/plain": [
       "<Figure size 640x480 with 1 Axes>"
      ]
     },
     "metadata": {},
     "output_type": "display_data"
    }
   ],
   "source": [
    "window_list = list(range(28,1092,14))\n",
    "plt.plot(window_list, errors_mean_ARX1_NP_Raw)\n",
    "plt.xlabel('Window size')\n",
    "plt.ylabel('MAE')\n",
    "plt.title('ARX1 model - NP2018 - Raw data')\n",
    "xticks = [28, 182, 364, 546, 728, 910, 1092]\n",
    "plt.xticks(xticks)\n",
    "# plt.grid()\n",
    "plt.ylim(1, 2.7)\n",
    "plt.show()"
   ]
  },
  {
   "cell_type": "markdown",
   "metadata": {},
   "source": [
    "#### Normalized\n"
   ]
  },
  {
   "cell_type": "code",
   "execution_count": 17,
   "metadata": {},
   "outputs": [],
   "source": [
    "df_NP2018_complete[\"min_norm\"] = df_NP2018_complete.groupby('Date')['Price'].transform('min')\n",
    "df_NP2018_complete[\"max_norm\"] = df_NP2018_complete.groupby('Date')['Price'].transform('max')"
   ]
  },
  {
   "cell_type": "code",
   "execution_count": 18,
   "metadata": {},
   "outputs": [
    {
     "ename": "KeyboardInterrupt",
     "evalue": "",
     "output_type": "error",
     "traceback": [
      "\u001b[1;31m---------------------------------------------------------------------------\u001b[0m",
      "\u001b[1;31mKeyboardInterrupt\u001b[0m                         Traceback (most recent call last)",
      "Cell \u001b[1;32mIn[18], line 20\u001b[0m\n\u001b[0;32m     17\u001b[0m \u001b[38;5;28;01mfor\u001b[39;00m day \u001b[38;5;129;01min\u001b[39;00m \u001b[38;5;28mrange\u001b[39m(T, \u001b[38;5;28mlen\u001b[39m(price)\u001b[38;5;241m/\u001b[39m\u001b[38;5;241m/\u001b[39m\u001b[38;5;241m24\u001b[39m):\n\u001b[0;32m     19\u001b[0m         cal_data \u001b[38;5;241m=\u001b[39m price[(day\u001b[38;5;241m-\u001b[39mT):day]\u001b[38;5;241m.\u001b[39mvalues \u001b[38;5;66;03m# calibration data\u001b[39;00m\n\u001b[1;32m---> 20\u001b[0m         p, a, b, cal_data \u001b[38;5;241m=\u001b[39m \u001b[43mnormalize_prices_and_vst\u001b[49m\u001b[43m(\u001b[49m\u001b[43mcal_data\u001b[49m\u001b[43m)\u001b[49m\n\u001b[0;32m     22\u001b[0m         Y \u001b[38;5;241m=\u001b[39m cal_data[\u001b[38;5;241m7\u001b[39m:T]\n\u001b[0;32m     23\u001b[0m         X1 \u001b[38;5;241m=\u001b[39m cal_data[\u001b[38;5;241m6\u001b[39m:T\u001b[38;5;241m-\u001b[39m\u001b[38;5;241m1\u001b[39m] \n",
      "Cell \u001b[1;32mIn[3], line 3\u001b[0m, in \u001b[0;36mnormalize_prices_and_vst\u001b[1;34m(prices)\u001b[0m\n\u001b[0;32m      1\u001b[0m \u001b[38;5;28;01mdef\u001b[39;00m \u001b[38;5;21mnormalize_prices_and_vst\u001b[39m(prices):\n\u001b[0;32m      2\u001b[0m     a \u001b[38;5;241m=\u001b[39m np\u001b[38;5;241m.\u001b[39mmedian(prices)\n\u001b[1;32m----> 3\u001b[0m     b \u001b[38;5;241m=\u001b[39m \u001b[43mmedian_abs_deviation\u001b[49m\u001b[43m(\u001b[49m\u001b[43mprices\u001b[49m\u001b[43m)\u001b[49m\n\u001b[0;32m      4\u001b[0m     p \u001b[38;5;241m=\u001b[39m \u001b[38;5;241m1\u001b[39m\u001b[38;5;241m/\u001b[39mb \u001b[38;5;241m*\u001b[39m (prices \u001b[38;5;241m-\u001b[39m a)\n\u001b[0;32m      5\u001b[0m     X \u001b[38;5;241m=\u001b[39m np\u001b[38;5;241m.\u001b[39marcsinh(p)\n",
      "File \u001b[1;32mc:\\Users\\Edoardo\\AppData\\Local\\Programs\\Python\\Python311\\Lib\\site-packages\\scipy\\stats\\_stats_py.py:3635\u001b[0m, in \u001b[0;36mmedian_abs_deviation\u001b[1;34m(x, axis, center, scale, nan_policy)\u001b[0m\n\u001b[0;32m   3631\u001b[0m     \u001b[38;5;28;01melse\u001b[39;00m:\n\u001b[0;32m   3632\u001b[0m         \u001b[38;5;66;03m# Wrap the call to center() in expand_dims() so it acts like\u001b[39;00m\n\u001b[0;32m   3633\u001b[0m         \u001b[38;5;66;03m# keepdims=True was used.\u001b[39;00m\n\u001b[0;32m   3634\u001b[0m         med \u001b[38;5;241m=\u001b[39m np\u001b[38;5;241m.\u001b[39mexpand_dims(center(x, axis\u001b[38;5;241m=\u001b[39maxis), axis)\n\u001b[1;32m-> 3635\u001b[0m         mad \u001b[38;5;241m=\u001b[39m \u001b[43mnp\u001b[49m\u001b[38;5;241;43m.\u001b[39;49m\u001b[43mmedian\u001b[49m\u001b[43m(\u001b[49m\u001b[43mnp\u001b[49m\u001b[38;5;241;43m.\u001b[39;49m\u001b[43mabs\u001b[49m\u001b[43m(\u001b[49m\u001b[43mx\u001b[49m\u001b[43m \u001b[49m\u001b[38;5;241;43m-\u001b[39;49m\u001b[43m \u001b[49m\u001b[43mmed\u001b[49m\u001b[43m)\u001b[49m\u001b[43m,\u001b[49m\u001b[43m \u001b[49m\u001b[43maxis\u001b[49m\u001b[38;5;241;43m=\u001b[39;49m\u001b[43maxis\u001b[49m\u001b[43m)\u001b[49m\n\u001b[0;32m   3637\u001b[0m \u001b[38;5;28;01mreturn\u001b[39;00m mad \u001b[38;5;241m/\u001b[39m scale\n",
      "File \u001b[1;32m<__array_function__ internals>:200\u001b[0m, in \u001b[0;36mmedian\u001b[1;34m(*args, **kwargs)\u001b[0m\n",
      "File \u001b[1;32mc:\\Users\\Edoardo\\AppData\\Local\\Programs\\Python\\Python311\\Lib\\site-packages\\numpy\\lib\\function_base.py:3856\u001b[0m, in \u001b[0;36mmedian\u001b[1;34m(a, axis, out, overwrite_input, keepdims)\u001b[0m\n\u001b[0;32m   3774\u001b[0m \u001b[38;5;129m@array_function_dispatch\u001b[39m(_median_dispatcher)\n\u001b[0;32m   3775\u001b[0m \u001b[38;5;28;01mdef\u001b[39;00m \u001b[38;5;21mmedian\u001b[39m(a, axis\u001b[38;5;241m=\u001b[39m\u001b[38;5;28;01mNone\u001b[39;00m, out\u001b[38;5;241m=\u001b[39m\u001b[38;5;28;01mNone\u001b[39;00m, overwrite_input\u001b[38;5;241m=\u001b[39m\u001b[38;5;28;01mFalse\u001b[39;00m, keepdims\u001b[38;5;241m=\u001b[39m\u001b[38;5;28;01mFalse\u001b[39;00m):\n\u001b[0;32m   3776\u001b[0m \u001b[38;5;250m    \u001b[39m\u001b[38;5;124;03m\"\"\"\u001b[39;00m\n\u001b[0;32m   3777\u001b[0m \u001b[38;5;124;03m    Compute the median along the specified axis.\u001b[39;00m\n\u001b[0;32m   3778\u001b[0m \n\u001b[1;32m   (...)\u001b[0m\n\u001b[0;32m   3854\u001b[0m \n\u001b[0;32m   3855\u001b[0m \u001b[38;5;124;03m    \"\"\"\u001b[39;00m\n\u001b[1;32m-> 3856\u001b[0m     \u001b[38;5;28;01mreturn\u001b[39;00m \u001b[43m_ureduce\u001b[49m\u001b[43m(\u001b[49m\u001b[43ma\u001b[49m\u001b[43m,\u001b[49m\u001b[43m \u001b[49m\u001b[43mfunc\u001b[49m\u001b[38;5;241;43m=\u001b[39;49m\u001b[43m_median\u001b[49m\u001b[43m,\u001b[49m\u001b[43m \u001b[49m\u001b[43mkeepdims\u001b[49m\u001b[38;5;241;43m=\u001b[39;49m\u001b[43mkeepdims\u001b[49m\u001b[43m,\u001b[49m\u001b[43m \u001b[49m\u001b[43maxis\u001b[49m\u001b[38;5;241;43m=\u001b[39;49m\u001b[43maxis\u001b[49m\u001b[43m,\u001b[49m\u001b[43m \u001b[49m\u001b[43mout\u001b[49m\u001b[38;5;241;43m=\u001b[39;49m\u001b[43mout\u001b[49m\u001b[43m,\u001b[49m\n\u001b[0;32m   3857\u001b[0m \u001b[43m                    \u001b[49m\u001b[43moverwrite_input\u001b[49m\u001b[38;5;241;43m=\u001b[39;49m\u001b[43moverwrite_input\u001b[49m\u001b[43m)\u001b[49m\n",
      "File \u001b[1;32mc:\\Users\\Edoardo\\AppData\\Local\\Programs\\Python\\Python311\\Lib\\site-packages\\numpy\\lib\\function_base.py:3752\u001b[0m, in \u001b[0;36m_ureduce\u001b[1;34m(a, func, keepdims, **kwargs)\u001b[0m\n\u001b[0;32m   3749\u001b[0m             index_out \u001b[38;5;241m=\u001b[39m (\u001b[38;5;241m0\u001b[39m, ) \u001b[38;5;241m*\u001b[39m nd\n\u001b[0;32m   3750\u001b[0m             kwargs[\u001b[38;5;124m'\u001b[39m\u001b[38;5;124mout\u001b[39m\u001b[38;5;124m'\u001b[39m] \u001b[38;5;241m=\u001b[39m out[(\u001b[38;5;28mEllipsis\u001b[39m, ) \u001b[38;5;241m+\u001b[39m index_out]\n\u001b[1;32m-> 3752\u001b[0m r \u001b[38;5;241m=\u001b[39m \u001b[43mfunc\u001b[49m\u001b[43m(\u001b[49m\u001b[43ma\u001b[49m\u001b[43m,\u001b[49m\u001b[43m \u001b[49m\u001b[38;5;241;43m*\u001b[39;49m\u001b[38;5;241;43m*\u001b[39;49m\u001b[43mkwargs\u001b[49m\u001b[43m)\u001b[49m\n\u001b[0;32m   3754\u001b[0m \u001b[38;5;28;01mif\u001b[39;00m out \u001b[38;5;129;01mis\u001b[39;00m \u001b[38;5;129;01mnot\u001b[39;00m \u001b[38;5;28;01mNone\u001b[39;00m:\n\u001b[0;32m   3755\u001b[0m     \u001b[38;5;28;01mreturn\u001b[39;00m out\n",
      "File \u001b[1;32mc:\\Users\\Edoardo\\AppData\\Local\\Programs\\Python\\Python311\\Lib\\site-packages\\numpy\\lib\\function_base.py:3887\u001b[0m, in \u001b[0;36m_median\u001b[1;34m(a, axis, out, overwrite_input)\u001b[0m\n\u001b[0;32m   3885\u001b[0m         part \u001b[38;5;241m=\u001b[39m a\n\u001b[0;32m   3886\u001b[0m \u001b[38;5;28;01melse\u001b[39;00m:\n\u001b[1;32m-> 3887\u001b[0m     part \u001b[38;5;241m=\u001b[39m \u001b[43mpartition\u001b[49m\u001b[43m(\u001b[49m\u001b[43ma\u001b[49m\u001b[43m,\u001b[49m\u001b[43m \u001b[49m\u001b[43mkth\u001b[49m\u001b[43m,\u001b[49m\u001b[43m \u001b[49m\u001b[43maxis\u001b[49m\u001b[38;5;241;43m=\u001b[39;49m\u001b[43maxis\u001b[49m\u001b[43m)\u001b[49m\n\u001b[0;32m   3889\u001b[0m \u001b[38;5;28;01mif\u001b[39;00m part\u001b[38;5;241m.\u001b[39mshape \u001b[38;5;241m==\u001b[39m ():\n\u001b[0;32m   3890\u001b[0m     \u001b[38;5;66;03m# make 0-D arrays work\u001b[39;00m\n\u001b[0;32m   3891\u001b[0m     \u001b[38;5;28;01mreturn\u001b[39;00m part\u001b[38;5;241m.\u001b[39mitem()\n",
      "File \u001b[1;32m<__array_function__ internals>:200\u001b[0m, in \u001b[0;36mpartition\u001b[1;34m(*args, **kwargs)\u001b[0m\n",
      "File \u001b[1;32mc:\\Users\\Edoardo\\AppData\\Local\\Programs\\Python\\Python311\\Lib\\site-packages\\numpy\\core\\fromnumeric.py:784\u001b[0m, in \u001b[0;36mpartition\u001b[1;34m(a, kth, axis, kind, order)\u001b[0m\n\u001b[0;32m    782\u001b[0m \u001b[38;5;28;01melse\u001b[39;00m:\n\u001b[0;32m    783\u001b[0m     a \u001b[38;5;241m=\u001b[39m asanyarray(a)\u001b[38;5;241m.\u001b[39mcopy(order\u001b[38;5;241m=\u001b[39m\u001b[38;5;124m\"\u001b[39m\u001b[38;5;124mK\u001b[39m\u001b[38;5;124m\"\u001b[39m)\n\u001b[1;32m--> 784\u001b[0m \u001b[43ma\u001b[49m\u001b[38;5;241;43m.\u001b[39;49m\u001b[43mpartition\u001b[49m\u001b[43m(\u001b[49m\u001b[43mkth\u001b[49m\u001b[43m,\u001b[49m\u001b[43m \u001b[49m\u001b[43maxis\u001b[49m\u001b[38;5;241;43m=\u001b[39;49m\u001b[43maxis\u001b[49m\u001b[43m,\u001b[49m\u001b[43m \u001b[49m\u001b[43mkind\u001b[49m\u001b[38;5;241;43m=\u001b[39;49m\u001b[43mkind\u001b[49m\u001b[43m,\u001b[49m\u001b[43m \u001b[49m\u001b[43morder\u001b[49m\u001b[38;5;241;43m=\u001b[39;49m\u001b[43morder\u001b[49m\u001b[43m)\u001b[49m\n\u001b[0;32m    785\u001b[0m \u001b[38;5;28;01mreturn\u001b[39;00m a\n",
      "\u001b[1;31mKeyboardInterrupt\u001b[0m: "
     ]
    }
   ],
   "source": [
    "load = df_NP2018_complete[\"load\"]\n",
    "\n",
    "errors_mean_ARX1_NP_Norm = []\n",
    "\n",
    "for T in range(28,1092,14):\n",
    "    errors = []\n",
    "    for h in range(24):\n",
    "        p_hour = df_NP2018_complete.loc[h::24,'Price'].values # hourly data selection\n",
    "        exogenos = df_NP2018_complete.loc[h::24,'load'].values\n",
    "        sunday = df_NP2018_complete.loc[h::24,'sunday'].values\n",
    "        monday = df_NP2018_complete.loc[h::24,'monday'].values\n",
    "        saturday = df_NP2018_complete.loc[h::24,'saturday'].values\n",
    "        c_d_min = df_NP2018_complete.loc[h::24,'min_norm'].values\n",
    "        h_errors = []\n",
    "        # Initialize an empty list to store the forecasts\n",
    "        forecasts = []\n",
    "        for day in range(T, len(price)//24):\n",
    "                \n",
    "                cal_data = price[(day-T):day].values # calibration data\n",
    "                p, a, b, cal_data = normalize_prices_and_vst(cal_data)\n",
    "                \n",
    "                Y = cal_data[7:T]\n",
    "                X1 = cal_data[6:T-1] \n",
    "                X2 = cal_data[5:T-2] \n",
    "                X3 = cal_data[0:T-7]\n",
    "                X4 = c_d_min[7:T]\n",
    "                X5 = exogenos[7:T]  #C_d_h\n",
    "                X6 = sunday[7:T] # sunday\n",
    "                X7 = monday[7:T] # monday\n",
    "                X8 = saturday[7:T] # saturday\n",
    "                X0 = np.ones(np.size(X1)) \n",
    "                X = np.stack([X0,X1,X2, X3,X4,X5, X6, X7, X8],axis = 1)\n",
    "                betas = np.dot(np.linalg.inv(np.dot(X.T,X)), np.dot(X.T,Y))\n",
    "                X_fut = np.array([1,cal_data[T-1],cal_data[T-2],cal_data[T-7],c_d_min[day], exogenos[day],sunday[day],monday[day],saturday[day]])\n",
    "\n",
    "                # forecast = np.dot(X_fut,betas)\n",
    "                # forecasts.append(forecast)\n",
    "                forecast = np.dot(X_fut,betas)\n",
    "                # Apply inverse transformation to the forecast\n",
    "                forecast = inverse_transform(forecast, a, b)\n",
    "                forecasts.append(forecast)\n",
    "                \n",
    "                real = price[day]\n",
    "                err = real - forecast\n",
    "                errors1 = (np.abs(err))\n",
    "                errors.append(errors1)\n",
    "    \n",
    "    errors_mean_ARX1_NP_Norm.append(np.mean(errors))\n",
    "\n",
    "print(errors_mean_ARX1_NP_Norm)"
   ]
  },
  {
   "cell_type": "code",
   "execution_count": null,
   "metadata": {},
   "outputs": [],
   "source": [
    "window_list = list(range(28,1092,14))\n",
    "plt.plot(window_list, errors_mean_ARX1_NP_Norm)\n",
    "plt.xlabel('Window size')\n",
    "plt.ylabel('MAE')\n",
    "plt.title('ARX1 model - NP2018 - Normalized data')\n",
    "xticks = [28, 182, 364, 546, 728, 910, 1092]\n",
    "plt.xticks(xticks)\n",
    "plt.ylim(0, 3)\n",
    "plt.show()"
   ]
  },
  {
   "cell_type": "markdown",
   "metadata": {},
   "source": [
    "### df_day_ahead_epex"
   ]
  },
  {
   "cell_type": "markdown",
   "metadata": {},
   "source": [
    "#### Raw Data"
   ]
  },
  {
   "cell_type": "markdown",
   "metadata": {},
   "source": [
    "#### Normalized"
   ]
  },
  {
   "cell_type": "markdown",
   "metadata": {},
   "source": [
    "## ARX2"
   ]
  },
  {
   "cell_type": "markdown",
   "metadata": {},
   "source": [
    "### df_PJM"
   ]
  },
  {
   "cell_type": "markdown",
   "metadata": {},
   "source": [
    "#### Raw Data"
   ]
  },
  {
   "cell_type": "code",
   "execution_count": 18,
   "metadata": {},
   "outputs": [
    {
     "name": "stdout",
     "output_type": "stream",
     "text": [
      "[8.076848185790832, 5.708198620977739, 4.684807057473799, 4.503645264349472, 4.592795571059487, 4.505837244795178, 4.3118725140603456, 4.214567281172071, 4.108108396969856, 4.07779509849173, 3.688322626114573, 3.538196223725599, 3.460446232951574, 3.419587927018845, 3.485703976753004, 3.469724418623769, 3.4614530832007544, 3.452949219016686, 3.4313734154149254, 3.4647675676603624, 3.4266613905402687, 3.4014070150995455, 3.3910495226289354, 3.343389225470367, 3.360723626988636, 3.3250274374214213, 3.353674173001582, 3.359751398881624, 3.3885267399933974, 3.408995811368776, 3.4232558016915036, 3.429187808503025, 3.3982322168150936, 3.4176158876795175, 3.4010608471022903, 3.402455791982714, 3.4113529434572403, 3.3997091501630172, 3.395289500629078, 3.3720491377672857, 3.383570569180874, 3.4210464804196263, 3.425447907770217, 3.472788813070113, 3.4488298574824934, 3.4685013357395666, 3.487394674141709, 3.509150955300803, 3.5377767849775097, 3.5331531015245945, 3.5244313110635117, 3.5303222268975536, 3.521818916734875, 3.5718650580235, 3.583823023013508, 3.600194607615365, 3.5283937561664196, 3.5326001570962844, 3.5264196510333123, 3.525624177335259, 3.584796433014212, 3.5696880085695972, 3.5679263324633497, 3.5451285367750387, 3.4891513154086513, 3.4779750423673894, 3.472388925614497, 3.502032162588292, 3.425406338862337, 3.4530261879338617, 3.399273872383841, 3.3943453337361227, 3.4050786268093463, 3.389391614933562, 3.394946445938177, 3.4007544395730434]\n"
     ]
    },
    {
     "data": {
      "image/png": "[encoded data removed]",
      "text/plain": [
       "<Figure size 640x480 with 1 Axes>"
      ]
     },
     "metadata": {},
     "output_type": "display_data"
    }
   ],
   "source": [
    "load = df_PJM[\"rto load forecast\"]\n",
    "df_PJM[\"for_d_1\"] = df_PJM[\"comed price\"].shift(1)\n",
    "\n",
    "errors_mean_ARX2_PJM_Raw = []\n",
    "\n",
    "\n",
    "T = 28\n",
    "for T in range(28,1092,14):\n",
    "    errors = []\n",
    "    for h in range(24):\n",
    "        p_hour = df_PJM.loc[h::24,'comed price'].values # hourly data selection\n",
    "        exogenos = df_PJM.loc[h::24,'rto load forecast'].values\n",
    "        weekday = df_PJM.loc[h::24,'day'].values\n",
    "        c_d_min = df_PJM.loc[h::24,'Min_Comed_Price'].values\n",
    "        c_d_max = df_PJM.loc[h::24,'Max_Comed_Price'].values\n",
    "        for_d_1 = df_PJM.loc[h::24,'for_d_1'].values\n",
    "        h_errors = []\n",
    "        # Initialize an empty list to store the forecasts\n",
    "        forecasts = []\n",
    "        for day in range(T, len(price)//24):\n",
    "                cal_data = price[(day-T):day].values # calibration data \n",
    "                \n",
    "                Y = cal_data[7:T]\n",
    "                X1 = cal_data[6:T-1] \n",
    "                X2 = cal_data[5:T-2] \n",
    "                X3 = cal_data[0:T-7]\n",
    "                X4 = c_d_min[7:T]\n",
    "                X5 = c_d_max[7:T]  #C_d_h\n",
    "                X6 = for_d_1[7:T] # c_d-1_24\n",
    "                X7 = exogenos[7:T]\n",
    "                X8 = weekday[7:T] \n",
    "                X0 = np.ones(np.size(X1)) \n",
    "                X = np.stack([X0,X1,X2, X3,X4,X5, X6, X7, X8],axis = 1)\n",
    "                betas = np.dot(np.linalg.inv(np.dot(X.T,X)), np.dot(X.T,Y))\n",
    "                X_fut = np.array([1,cal_data[T-1],cal_data[T-2],cal_data[T-7],c_d_min[day], c_d_max[day], for_d_1[day], exogenos[day],weekday[day]])\n",
    "\n",
    "                forecast = np.dot(X_fut,betas)\n",
    "                forecasts.append(forecast)\n",
    "                \n",
    "                real = price[day]\n",
    "                err = real - forecast\n",
    "                errors1 = (np.abs(err))\n",
    "                errors.append(errors1)\n",
    "\n",
    "    errors_mean_ARX2_PJM_Raw.append(np.mean(errors))\n",
    "\n",
    "print(errors_mean_ARX2_PJM_Raw)"
   ]
  },
  {
   "cell_type": "code",
   "execution_count": null,
   "metadata": {},
   "outputs": [],
   "source": [
    "window_list = list(range(28,1092,14))\n",
    "plt.plot(window_list, errors_mean_ARX2_PJM_Raw)\n",
    "plt.xlabel('Window size')\n",
    "plt.ylabel('MAE')\n",
    "plt.title('ARX2 model - PJM - Raw data')\n",
    "xticks = [28, 182, 364, 546, 728, 910, 1092]\n",
    "plt.xticks(xticks)\n",
    "plt.ylim(0, 4)\n",
    "plt.show()"
   ]
  },
  {
   "cell_type": "markdown",
   "metadata": {},
   "source": [
    "#### Normalized"
   ]
  },
  {
   "cell_type": "code",
   "execution_count": null,
   "metadata": {},
   "outputs": [],
   "source": [
    "df_PJM.head()"
   ]
  },
  {
   "cell_type": "code",
   "execution_count": null,
   "metadata": {},
   "outputs": [],
   "source": [
    "df_PJM[\"min\"] = df_PJM.groupby('date')['comed price'].transform('min')\n",
    "df_PJM[\"max\"] = df_PJM.groupby('date')['comed price'].transform('max')"
   ]
  },
  {
   "cell_type": "code",
   "execution_count": null,
   "metadata": {},
   "outputs": [],
   "source": [
    "load = df_PJM[\"rto load forecast\"]\n",
    "df_PJM[\"for_d_1_norm\"] = df_PJM[\"comed price\"].shift(1)\n",
    "\n",
    "errors_mean_ARX2_PJM_Norm = []\n",
    "\n",
    "\n",
    "for T in range(28,1092,14):\n",
    "    errors = []\n",
    "    for h in range(24):\n",
    "        p_hour = df_PJM.loc[h::24,'comed price'].values # hourly data selection\n",
    "        exogenos = df_PJM.loc[h::24,'rto load forecast'].values\n",
    "        weekday = df_PJM.loc[h::24,'day'].values\n",
    "        c_d_min = df_PJM.loc[h::24,'min'].values\n",
    "        c_d_max = df_PJM.loc[h::24,'max'].values\n",
    "        for_d_1 = df_PJM.loc[h::24,'for_d_1_norm'].values\n",
    "        h_errors = []\n",
    "        # Initialize an empty list to store the forecasts\n",
    "        forecasts = []\n",
    "        for day in range(T, len(price)//24):\n",
    "                cal_data = price[(day-T):day].values # calibration data\n",
    "                p, a, b, cal_data = normalize_prices_and_vst(cal_data)\n",
    "\n",
    "                Y = cal_data[7:T]\n",
    "                X1 = cal_data[6:T-1] \n",
    "                X2 = cal_data[5:T-2] \n",
    "                X3 = cal_data[0:T-7]\n",
    "                X4 = c_d_min[7:T]\n",
    "                X5 = c_d_max[7:T]  #C_d_h\n",
    "                X6 = for_d_1[7:T] # c_d-1_24\n",
    "                X7 = exogenos[7:T]\n",
    "                X8 = weekday[7:T] \n",
    "                X0 = np.ones(np.size(X1)) \n",
    "                X = np.stack([X0,X1,X2, X3,X4,X5, X6, X7, X8],axis = 1)\n",
    "                betas = np.dot(np.linalg.inv(np.dot(X.T,X)), np.dot(X.T,Y))\n",
    "                X_fut = np.array([1,cal_data[T-1],cal_data[T-2],cal_data[T-7],c_d_min[day], c_d_max[day], for_d_1[day], exogenos[day],weekday[day]])\n",
    "\n",
    "                forecast = np.dot(X_fut,betas)\n",
    "                # Apply inverse transformation to the forecast\n",
    "                forecast = inverse_transform(forecast, a, b)\n",
    "                forecasts.append(forecast)\n",
    "                \n",
    "                real = price[day]\n",
    "                err = real - forecast\n",
    "                errors1 = (np.abs(err))\n",
    "                errors.append(errors1)\n",
    "\n",
    "    errors_mean_ARX2_PJM_Norm.append(np.mean(errors))"
   ]
  },
  {
   "cell_type": "code",
   "execution_count": null,
   "metadata": {},
   "outputs": [],
   "source": [
    "print(errors_mean_ARX2_PJM_Norm)\n",
    "window_list = list(range(28,1092,14))\n",
    "plt.plot(window_list, errors_mean_ARX2_PJM_Norm)\n",
    "plt.xlabel('Window size')\n",
    "plt.ylabel('MAE')\n",
    "plt.title('ARX2 model - PJM - Normalized data')\n",
    "xticks = [28, 182, 364, 546, 728, 910, 1092]\n",
    "plt.xticks(xticks)\n",
    "plt.ylim(0, 4)\n",
    "plt.show()"
   ]
  },
  {
   "cell_type": "markdown",
   "metadata": {},
   "source": [
    "### df_NP2018_complete"
   ]
  },
  {
   "cell_type": "code",
   "execution_count": null,
   "metadata": {},
   "outputs": [],
   "source": [
    "df_NP2018_complete.head()"
   ]
  },
  {
   "cell_type": "markdown",
   "metadata": {},
   "source": [
    "#### Raw Data"
   ]
  },
  {
   "cell_type": "code",
   "execution_count": null,
   "metadata": {},
   "outputs": [],
   "source": [
    "load = df_NP2018_complete[\"load\"]\n",
    "df_NP2018_complete[\"for_d_1\"] = df_NP2018_complete[\"Price\"].shift(1)\n",
    "\n",
    "errors_mean_ARX2_NP_Raw = []\n",
    "\n",
    "window_list = list(range(35, 1093, 7))\n",
    "\n",
    "for T in range(28,1092,14):\n",
    "    errors = []\n",
    "    for h in range(24):\n",
    "        p_hour = df_NP2018_complete.loc[h::24,'Price'].values # hourly data selection\n",
    "        exogenos = df_NP2018_complete.loc[h::24,'load'].values\n",
    "        weekday = df_NP2018_complete.loc[h::24,'Day'].values\n",
    "        c_d_min = df_NP2018_complete.loc[h::24,'Min_Comed_Price'].values\n",
    "        c_d_max = df_NP2018_complete.loc[h::24,'Max_Comed_Price'].values\n",
    "        for_d_1 = df_NP2018_complete.loc[h::24,'for_d_1'].values\n",
    "        h_errors = []\n",
    "        # Initialize an empty list to store the forecasts\n",
    "        forecasts = []\n",
    "        for day in range(T, len(price)//24):\n",
    "                cal_data = price[(day-T):day].values # calibration data \n",
    "                Y = cal_data[7:T]\n",
    "                X1 = cal_data[6:T-1] \n",
    "                X2 = cal_data[5:T-2] \n",
    "                X3 = cal_data[0:T-7]\n",
    "                X4 = c_d_min[7:T]\n",
    "                X5 = c_d_max[7:T]  #C_d_h\n",
    "                X6 = for_d_1[7:T] # c_d-1_24\n",
    "                X7 = exogenos[7:T]\n",
    "                X8 = weekday[7:T] \n",
    "                X0 = np.ones(np.size(X1)) \n",
    "                X = np.stack([X0,X1,X2, X3,X4,X5, X6, X7, X8],axis = 1)\n",
    "                betas = np.dot(np.linalg.inv(np.dot(X.T,X)), np.dot(X.T,Y))\n",
    "                X_fut = np.array([1,cal_data[T-1],cal_data[T-2],cal_data[T-7],c_d_min[day], c_d_max[day], for_d_1[day], exogenos[day],weekday[day]])\n",
    "                forecast = np.dot(X_fut,betas)\n",
    "                forecasts.append(forecast)\n",
    "                real = price[day]\n",
    "                err = real - forecast\n",
    "                errors1 = (np.abs(err))\n",
    "                errors.append(errors1)\n",
    "\n",
    "    errors_mean_ARX2_NP_Raw.append(np.mean(errors))\n",
    "\n",
    "print(errors_mean_ARX2_NP_Raw)"
   ]
  },
  {
   "cell_type": "code",
   "execution_count": null,
   "metadata": {},
   "outputs": [],
   "source": [
    "plt.plot(window_list, errors_mean_ARX2_NP_Raw)\n",
    "plt.xlabel('Window size')\n",
    "plt.ylabel('MAE')\n",
    "plt.title('ARX2 model - NP2018 - Raw data')\n",
    "xticks = [28, 182, 364, 546, 728, 910, 1092]\n",
    "plt.xticks(xticks)\n",
    "plt.ylim(0, 3)\n",
    "plt.show()"
   ]
  },
  {
   "cell_type": "markdown",
   "metadata": {},
   "source": [
    "#### Normalized"
   ]
  },
  {
   "cell_type": "code",
   "execution_count": null,
   "metadata": {},
   "outputs": [],
   "source": [
    "df_NP2018_complete.head()"
   ]
  },
  {
   "cell_type": "code",
   "execution_count": null,
   "metadata": {},
   "outputs": [],
   "source": [
    "load = df_NP2018_complete[\"load\"]\n",
    "df_NP2018_complete[\"for_d_1_norm\"] = df_NP2018_complete[\"Price\"].shift(1)\n",
    "errors = []\n",
    "errors_mean_ARX2_NP_Norm = []\n",
    "\n",
    "window_list = list(range(35, 1093, 7))\n",
    "\n",
    "for T in range(28,1092,14):\n",
    "    errors = []\n",
    "    for h in range(24):\n",
    "        p_hour = df_NP2018_complete.loc[h::24,'Price'].values # hourly data selection\n",
    "        exogenos = df_NP2018_complete.loc[h::24,'load'].values\n",
    "        weekday = df_NP2018_complete.loc[h::24,'Day'].values\n",
    "        c_d_min = df_NP2018_complete.loc[h::24,'min_norm'].values\n",
    "        c_d_max = df_NP2018_complete.loc[h::24,'max_norm'].values\n",
    "        for_d_1 = df_NP2018_complete.loc[h::24,'for_d_1_norm'].values\n",
    "        h_errors = []\n",
    "        # Initialize an empty list to store the forecasts\n",
    "        forecasts = []\n",
    "        for day in range(T, len(price)//24)):\n",
    "                cal_data = price[(day-T):day].values # calibration data\n",
    "                p, a, b, cal_data = normalize_prices_and_vst(cal_data)\n",
    "\n",
    "                Y = cal_data[7:T]\n",
    "                X1 = cal_data[6:T-1] \n",
    "                X2 = cal_data[5:T-2] \n",
    "                X3 = cal_data[0:T-7]\n",
    "                X4 = c_d_min[7:T]\n",
    "                X5 = c_d_max[7:T]  #C_d_h\n",
    "                X6 = for_d_1[7:T] # c_d-1_24\n",
    "                X7 = exogenos[7:T]\n",
    "                X8 = weekday[7:T] \n",
    "                X0 = np.ones(np.size(X1)) \n",
    "                X = np.stack([X0,X1,X2, X3,X4,X5, X6, X7, X8],axis = 1)\n",
    "                betas = np.dot(np.linalg.inv(np.dot(X.T,X)), np.dot(X.T,Y))\n",
    "                X_fut = np.array([1,cal_data[T-1],cal_data[T-2],cal_data[T-7],c_d_min[day], c_d_max[day], for_d_1[day], exogenos[day],weekday[day]])\n",
    "                \n",
    "                forecast = np.dot(X_fut,betas)\n",
    "                # Apply inverse transformation to the forecast\n",
    "                forecast = inverse_transform(forecast, a, b)\n",
    "                forecasts.append(forecast)\n",
    "                \n",
    "                real = price[day]\n",
    "                err = real - forecast\n",
    "                errors1 = (np.abs(err))\n",
    "                errors.append(errors1)\n",
    "\n",
    "    errors_mean_ARX2_NP_Norm.append(np.mean(errors))\n",
    "\n",
    "print(errors_mean_ARX2_NP_Norm)"
   ]
  },
  {
   "cell_type": "code",
   "execution_count": null,
   "metadata": {},
   "outputs": [],
   "source": [
    "plt.plot(window_list, errors_mean_ARX2_NP_Norm)\n",
    "plt.xlabel('Window size')\n",
    "plt.ylabel('MAE')\n",
    "plt.title('ARX2 model - NP2018 - Normalized data')\n",
    "xticks = [28, 182, 364, 546, 728, 910, 1092]\n",
    "plt.xticks(xticks)\n",
    "plt.ylim(0, 3)\n",
    "plt.show()"
   ]
  },
  {
   "cell_type": "markdown",
   "metadata": {},
   "source": [
    "### df_day_ahead_epex"
   ]
  },
  {
   "cell_type": "code",
   "execution_count": null,
   "metadata": {},
   "outputs": [],
   "source": [
    "df_day_ahead_epex.head()"
   ]
  },
  {
   "cell_type": "markdown",
   "metadata": {},
   "source": [
    "#### Raw Data"
   ]
  },
  {
   "cell_type": "markdown",
   "metadata": {},
   "source": [
    "#### Normalized"
   ]
  },
  {
   "cell_type": "markdown",
   "metadata": {},
   "source": [
    "## AR1"
   ]
  },
  {
   "cell_type": "markdown",
   "metadata": {},
   "source": [
    "### df_day_ahead_epex"
   ]
  },
  {
   "cell_type": "markdown",
   "metadata": {},
   "source": [
    "#### Raw Data"
   ]
  },
  {
   "cell_type": "code",
   "execution_count": 13,
   "metadata": {},
   "outputs": [
    {
     "data": {
      "text/html": [
       "<div>\n",
       "<style scoped>\n",
       "    .dataframe tbody tr th:only-of-type {\n",
       "        vertical-align: middle;\n",
       "    }\n",
       "\n",
       "    .dataframe tbody tr th {\n",
       "        vertical-align: top;\n",
       "    }\n",
       "\n",
       "    .dataframe thead th {\n",
       "        text-align: right;\n",
       "    }\n",
       "</style>\n",
       "<table border=\"1\" class=\"dataframe\">\n",
       "  <thead>\n",
       "    <tr style=\"text-align: right;\">\n",
       "      <th></th>\n",
       "      <th>Date</th>\n",
       "      <th>hour</th>\n",
       "      <th>Spot DE.AT_price</th>\n",
       "      <th>day</th>\n",
       "      <th>sunday</th>\n",
       "      <th>saturday</th>\n",
       "      <th>monday</th>\n",
       "      <th>Min_Comed_Price</th>\n",
       "      <th>Max_Comed_Price</th>\n",
       "    </tr>\n",
       "  </thead>\n",
       "  <tbody>\n",
       "    <tr>\n",
       "      <th>0</th>\n",
       "      <td>20150101</td>\n",
       "      <td>1</td>\n",
       "      <td>25.02</td>\n",
       "      <td>5</td>\n",
       "      <td>0</td>\n",
       "      <td>0</td>\n",
       "      <td>0</td>\n",
       "      <td>0.04</td>\n",
       "      <td>26.9</td>\n",
       "    </tr>\n",
       "    <tr>\n",
       "      <th>1</th>\n",
       "      <td>20150101</td>\n",
       "      <td>2</td>\n",
       "      <td>18.29</td>\n",
       "      <td>5</td>\n",
       "      <td>0</td>\n",
       "      <td>0</td>\n",
       "      <td>0</td>\n",
       "      <td>0.04</td>\n",
       "      <td>26.9</td>\n",
       "    </tr>\n",
       "    <tr>\n",
       "      <th>2</th>\n",
       "      <td>20150101</td>\n",
       "      <td>3</td>\n",
       "      <td>16.04</td>\n",
       "      <td>5</td>\n",
       "      <td>0</td>\n",
       "      <td>0</td>\n",
       "      <td>0</td>\n",
       "      <td>0.04</td>\n",
       "      <td>26.9</td>\n",
       "    </tr>\n",
       "    <tr>\n",
       "      <th>3</th>\n",
       "      <td>20150101</td>\n",
       "      <td>4</td>\n",
       "      <td>14.60</td>\n",
       "      <td>5</td>\n",
       "      <td>0</td>\n",
       "      <td>0</td>\n",
       "      <td>0</td>\n",
       "      <td>0.04</td>\n",
       "      <td>26.9</td>\n",
       "    </tr>\n",
       "    <tr>\n",
       "      <th>4</th>\n",
       "      <td>20150101</td>\n",
       "      <td>5</td>\n",
       "      <td>14.95</td>\n",
       "      <td>5</td>\n",
       "      <td>0</td>\n",
       "      <td>0</td>\n",
       "      <td>0</td>\n",
       "      <td>0.04</td>\n",
       "      <td>26.9</td>\n",
       "    </tr>\n",
       "  </tbody>\n",
       "</table>\n",
       "</div>"
      ],
      "text/plain": [
       "       Date  hour  Spot DE.AT_price  day  sunday  saturday  monday  \\\n",
       "0  20150101     1             25.02    5       0         0       0   \n",
       "1  20150101     2             18.29    5       0         0       0   \n",
       "2  20150101     3             16.04    5       0         0       0   \n",
       "3  20150101     4             14.60    5       0         0       0   \n",
       "4  20150101     5             14.95    5       0         0       0   \n",
       "\n",
       "   Min_Comed_Price  Max_Comed_Price  \n",
       "0             0.04             26.9  \n",
       "1             0.04             26.9  \n",
       "2             0.04             26.9  \n",
       "3             0.04             26.9  \n",
       "4             0.04             26.9  "
      ]
     },
     "execution_count": 13,
     "metadata": {},
     "output_type": "execute_result"
    }
   ],
   "source": [
    "df_day_ahead_epex.head()"
   ]
  },
  {
   "cell_type": "code",
   "execution_count": 15,
   "metadata": {},
   "outputs": [
    {
     "name": "stdout",
     "output_type": "stream",
     "text": [
      "[5.136080273509675, 3.848786077381363, 3.6372852164611107, 3.632663121581633, 3.606085267916666, 3.5234039530786934, 3.4557826141921524, 3.4799728920218205, 3.377812780782376, 3.3757548294484696, 3.3514532106407766, 3.361927967584249, 3.3623771647538896, 3.348767403990485, 3.3278179351367716, 3.3390394978951683, 3.2945101016711495, 3.2629887996503437, 3.2554139725344493, 3.2728324200098395, 3.260432573455953, 3.243426469597055, 3.252330163603416, 3.258149695274974, 3.2559377002394267, 3.2678972311310357, 3.2771626334415584, 3.2784280149476213, 3.2989519183877523, 3.2858618742700787, 3.292826534142544, 3.3142987267204354, 3.314183742194095, 3.2921554405354665, 3.273426338946606, 3.291404596556133, 3.2768911760679793, 3.292342798265373, 3.308758760593586, 3.302617442038135, 3.3299646073214677, 3.324124758233446, 3.3238540524227638, 3.334908745752852, 3.3660002502491677, 3.361590180762583, 3.3565100946328728, 3.3816755069281412, 3.377079251874788, 3.4148744098670014, 3.414909631083686, 3.429990739037925, 3.4629188020627257, 3.461115405888146, 3.468606155157459, 3.499526862113827, 3.4796840872374504, 3.4426512489547245, 3.412010478743439, 3.4209257272680715, 3.438927326656522, 3.4306495251005673, 3.440341154221892, 3.4272539074398516, 3.3918357576847, 3.386592037486718, 3.419465624780701, 3.441308768229946, 3.3635997215052265, 3.3563069280146083, 3.2777223931017945, 3.2767969567698283, 3.2628411584893215, 3.240969867289942, 3.2440421687615593, 3.292502169935392]\n"
     ]
    }
   ],
   "source": [
    "errors_mean_AR1_day_ahead_epex_Raw = []\n",
    "\n",
    "for T in range(28,1092,14):\n",
    "    errors = []\n",
    "    for h in range(24):\n",
    "        p_hour = df_day_ahead_epex.loc[h::24,'Spot DE.AT_price'].values # hourly data selection\n",
    "        # exogenos = df_PJM.loc[h::24,'rto load forecast'].values\n",
    "        sunday = df_day_ahead_epex.loc[h::24,'sunday'].values\n",
    "        monday = df_day_ahead_epex.loc[h::24,'monday'].values\n",
    "        saturday = df_day_ahead_epex.loc[h::24,'saturday'].values\n",
    "        c_d_min = df_day_ahead_epex.loc[h::24,'Min_Comed_Price'].values\n",
    "        h_errors = []\n",
    "        # Initialize an empty list to store the forecasts\n",
    "        forecasts = []\n",
    "        for day in range(T, len(price)//24):\n",
    "                cal_data = price[(day-T):day].values\n",
    "                \n",
    "                Y = cal_data[7:T]\n",
    "                X1 = cal_data[6:T-1] \n",
    "                X2 = cal_data[5:T-2] \n",
    "                X3 = cal_data[0:T-7]\n",
    "                X4 = c_d_min[7:T]\n",
    "                # X5 = exogenos[7:T]  #C_d_h\n",
    "                X6 = sunday[7:T] # sunday\n",
    "                X7 = monday[7:T] # monday\n",
    "                X8 = saturday[7:T] # saturday\n",
    "                X0 = np.ones(np.size(X1)) \n",
    "                X = np.stack([X0, X1, X2, X3, X4, X6, X7, X8], axis = 1)\n",
    "                betas = np.dot(np.linalg.inv(np.dot(X.T,X)), np.dot(X.T,Y))\n",
    "                X_fut = np.array([1, cal_data[T-1], cal_data[T-2], cal_data[T-7], c_d_min[day], sunday[day], monday[day], saturday[day]])\n",
    "                forecast = np.dot(X_fut,betas)\n",
    "                forecasts.append(forecast)\n",
    "                \n",
    "                real = price[day]\n",
    "                err = real - forecast\n",
    "                errors1 = (np.abs(err))\n",
    "                errors.append(errors1)\n",
    "        \n",
    "    errors_mean_AR1_day_ahead_epex_Raw.append(np.mean(errors))\n",
    "\n",
    "print(errors_mean_AR1_day_ahead_epex_Raw)"
   ]
  },
  {
   "cell_type": "code",
   "execution_count": 20,
   "metadata": {},
   "outputs": [
    {
     "data": {
      "image/png": "[encoded data removed]",
      "text/plain": [
       "<Figure size 640x480 with 1 Axes>"
      ]
     },
     "metadata": {},
     "output_type": "display_data"
    }
   ],
   "source": [
    "window_size = list(range(28,1092,14))\n",
    "plt.plot(window_size, errors_mean_AR1_day_ahead_epex_Raw)\n",
    "plt.xlabel('Window size')\n",
    "plt.ylabel('MAE')\n",
    "plt.title('AR1 model - day ahead epex - Raw data')\n",
    "xticks = [28, 182, 364, 546, 728, 910, 1092]\n",
    "plt.xticks(xticks)\n",
    "# plt.grid()\n",
    "plt.ylim(3, 4)\n",
    "plt.show()"
   ]
  },
  {
   "cell_type": "markdown",
   "metadata": {},
   "source": [
    "#### Normalized"
   ]
  },
  {
   "cell_type": "code",
   "execution_count": 17,
   "metadata": {},
   "outputs": [],
   "source": [
    "df_day_ahead_epex[\"min_norm\"] = df_day_ahead_epex.groupby('Date')['Spot DE.AT_price'].transform('min')\n",
    "df_day_ahead_epex[\"max_norm\"] = df_day_ahead_epex.groupby('Date')['Spot DE.AT_price'].transform('max')"
   ]
  },
  {
   "cell_type": "code",
   "execution_count": 21,
   "metadata": {},
   "outputs": [],
   "source": [
    "errors_mean_AR1_day_ahead_epex_Norm = []\n",
    "\n",
    "for T in range(28,1092,14):\n",
    "    errors = []\n",
    "    \n",
    "    for h in range(24):\n",
    "        p_hour = df_day_ahead_epex.loc[h::24,'Spot DE.AT_price'].values # hourly data selection\n",
    "        # exogenos = df_PJM.loc[h::24,'rto load forecast'].values\n",
    "        sunday = df_day_ahead_epex.loc[h::24,'sunday'].values\n",
    "        monday = df_day_ahead_epex.loc[h::24,'monday'].values\n",
    "        saturday = df_day_ahead_epex.loc[h::24,'saturday'].values\n",
    "        c_d_min = df_day_ahead_epex.loc[h::24,'min_norm'].values\n",
    "        h_errors = []\n",
    "        # Initialize an empty list to store the forecasts\n",
    "        forecasts = []\n",
    "        for day in range(T, len(price)//24):\n",
    "                \n",
    "                cal_data = price[(day-T):day].values # calibration data\n",
    "                \n",
    "                p, a, b, cal_data = normalize_prices_and_vst(cal_data)\n",
    "\n",
    "                Y = cal_data[7:T]\n",
    "                X1 = cal_data[6:T-1] \n",
    "                X2 = cal_data[5:T-2] \n",
    "                X3 = cal_data[0:T-7]\n",
    "                X4 = c_d_min[7:T]\n",
    "                # X5 = exogenos[7:T]  #C_d_h\n",
    "                X6 = sunday[7:T] # sunday\n",
    "                X7 = monday[7:T] # monday\n",
    "                X8 = saturday[7:T] # saturday\n",
    "                X0 = np.ones(np.size(X1)) \n",
    "                \n",
    "                X = np.stack([X0, X1, X2, X3, X4, X6, X7, X8],axis = 1)\n",
    "                betas = np.dot(np.linalg.inv(np.dot(X.T,X)), np.dot(X.T,Y))\n",
    "                X_fut = np.array([1, cal_data[T-1], cal_data[T-2], cal_data[T-7], c_d_min[day], sunday[day], monday[day], saturday[day]])\n",
    "\n",
    "                forecast = np.dot(X_fut,betas)\n",
    "                # Apply inverse transformation to the forecast\n",
    "                forecast = inverse_transform(forecast, a, b)\n",
    "                forecasts.append(forecast)\n",
    "            \n",
    "                real = price[day]\n",
    "                err = real - forecast\n",
    "                errors1 = (np.abs(err))\n",
    "                errors.append(errors1)\n",
    "\n",
    "    errors_mean_AR1_day_ahead_epex_Norm.append(np.mean(errors))"
   ]
  },
  {
   "cell_type": "code",
   "execution_count": null,
   "metadata": {},
   "outputs": [],
   "source": [
    "print(errors_mean_AR1_day_ahead_epex_Norm)\n",
    "window_list = list(range(28,1092,14))\n",
    "plt.plot(window_list, errors_mean_AR1_day_ahead_epex_Norm)\n",
    "plt.xlabel('Window size')\n",
    "plt.ylabel('MAE')\n",
    "plt.title('AR1 model - day ahead epex - Normalized data')\n",
    "xticks = [28, 182, 364, 546, 728, 910, 1092]\n",
    "plt.xticks(xticks)\n",
    "plt.ylim(2.5, 4)\n",
    "plt.show()"
   ]
  },
  {
   "cell_type": "markdown",
   "metadata": {},
   "source": [
    "## AR2"
   ]
  },
  {
   "cell_type": "markdown",
   "metadata": {},
   "source": [
    "### df_day_ahead_epex"
   ]
  },
  {
   "cell_type": "markdown",
   "metadata": {},
   "source": [
    "#### Raw Data"
   ]
  },
  {
   "cell_type": "code",
   "execution_count": null,
   "metadata": {},
   "outputs": [],
   "source": [
    "df_day_ahead_epex[\"for_d_1\"] = df_day_ahead_epex[\"Spot DE.AT_price\"].shift(1)\n",
    "\n",
    "errors_mean_AR2_day_ahead_epex_Raw = []\n",
    "\n",
    "T = 28\n",
    "\n",
    "for T in range(28,1092,14):\n",
    "    errors = []\n",
    "    for h in range(24):\n",
    "        p_hour = df_day_ahead_epex.loc[h::24,'Spot DE.AT_price'].values # hourly data selection\n",
    "        # exogenos = df_PJM.loc[h::24,'rto load forecast'].values\n",
    "        weekday = df_day_ahead_epex.loc[h::24,'day'].values\n",
    "        c_d_min = df_day_ahead_epex.loc[h::24,'Min_Comed_Price'].values\n",
    "        c_d_max = df_day_ahead_epex.loc[h::24,'Max_Comed_Price'].values\n",
    "        for_d_1 = df_day_ahead_epex.loc[h::24,'for_d_1'].values\n",
    "        h_errors = []\n",
    "        # Initialize an empty list to store the forecasts\n",
    "        forecasts = []\n",
    "        for day in range(T, len(price)//24):\n",
    "                cal_data = price[(day-T):day].values # calibration data \n",
    "                \n",
    "                Y = cal_data[7:T]\n",
    "                X1 = cal_data[6:T-1] \n",
    "                X2 = cal_data[5:T-2] \n",
    "                X3 = cal_data[0:T-7]\n",
    "                X4 = c_d_min[7:T]\n",
    "                X5 = c_d_max[7:T]  #C_d_h\n",
    "                X6 = for_d_1[7:T] # c_d-1_24\n",
    "                \n",
    "                X8 = weekday[7:T] \n",
    "                X0 = np.ones(np.size(X1)) \n",
    "                X = np.stack([X0, X1, X2, X3, X4, X5, X6, X8],axis = 1)\n",
    "                betas = np.dot(np.linalg.inv(np.dot(X.T,X)), np.dot(X.T,Y))\n",
    "                X_fut = np.array([1, cal_data[T-1], cal_data[T-2], cal_data[T-7], c_d_min[day], c_d_max[day], for_d_1[day], weekday[day]])\n",
    "\n",
    "                forecast = np.dot(X_fut,betas)\n",
    "                forecasts.append(forecast)\n",
    "                \n",
    "                real = price[day]\n",
    "                err = real - forecast\n",
    "                errors1 = (np.abs(err))\n",
    "                errors.append(errors1)\n",
    "\n",
    "    errors_mean_AR2_day_ahead_epex_Raw.append(np.mean(errors))\n",
    "\n",
    "print(errors_mean_AR2_day_ahead_epex_Raw)"
   ]
  },
  {
   "cell_type": "code",
   "execution_count": null,
   "metadata": {},
   "outputs": [],
   "source": [
    "window_list = list(range(28,1092,14))\n",
    "plt.plot(window_list, errors_mean_AR2_day_ahead_epex_Raw)\n",
    "plt.xlabel('Window size')\n",
    "plt.ylabel('MAE')\n",
    "plt.title('AR2 model - day ahead epex - Raw data')\n",
    "xticks = [28, 182, 364, 546, 728, 910, 1092]\n",
    "plt.xticks(xticks)\n",
    "plt.ylim(0, 4)\n",
    "plt.show()"
   ]
  },
  {
   "cell_type": "markdown",
   "metadata": {},
   "source": [
    "#### Normalized"
   ]
  },
  {
   "cell_type": "code",
   "execution_count": null,
   "metadata": {},
   "outputs": [],
   "source": [
    "df_day_ahead_epex[\"min\"] = df_day_ahead_epex.groupby('Date')['Spot DE.AT_price'].transform('min')\n",
    "df_day_ahead_epex[\"max\"] = df_day_ahead_epex.groupby('Date')['Spot DE.AT_price'].transform('max')"
   ]
  },
  {
   "cell_type": "code",
   "execution_count": null,
   "metadata": {},
   "outputs": [],
   "source": [
    "df_day_ahead_epex[\"for_d_1_norm\"] = df_day_ahead_epex[\"Spot DE.AT_price\"].shift(1)\n",
    "\n",
    "errors_mean_AR2_day_ahead_epex_Norm = []\n",
    "\n",
    "\n",
    "for T in range(28,1092,14):\n",
    "    errors = []\n",
    "    for h in range(24):\n",
    "        p_hour = df_day_ahead_epex.loc[h::24,'Spot DE.AT_price'].values # hourly data selection\n",
    "        # exogenos = df_PJM.loc[h::24,'rto load forecast'].values\n",
    "        weekday = df_day_ahead_epex.loc[h::24,'day'].values\n",
    "        c_d_min = df_day_ahead_epex.loc[h::24,'min'].values\n",
    "        c_d_max = df_day_ahead_epex.loc[h::24,'max'].values\n",
    "        for_d_1 = df_day_ahead_epex.loc[h::24,'for_d_1_norm'].values\n",
    "        h_errors = []\n",
    "        # Initialize an empty list to store the forecasts\n",
    "        forecasts = []\n",
    "        for day in range(T, len(price)//24):\n",
    "                cal_data = price[(day-T):day].values # calibration data\n",
    "                p, a, b, cal_data = normalize_prices_and_vst(cal_data)\n",
    "\n",
    "                Y = cal_data[7:T]\n",
    "                X1 = cal_data[6:T-1] \n",
    "                X2 = cal_data[5:T-2] \n",
    "                X3 = cal_data[0:T-7]\n",
    "                X4 = c_d_min[7:T]\n",
    "                X5 = c_d_max[7:T]  #C_d_h\n",
    "                X6 = for_d_1[7:T] # c_d-1_24\n",
    "                \n",
    "                X8 = weekday[7:T] \n",
    "                X0 = np.ones(np.size(X1)) \n",
    "                X = np.stack([X0, X1, X2, X3, X4, X5, X6, X8],axis = 1)\n",
    "                betas = np.dot(np.linalg.inv(np.dot(X.T,X)), np.dot(X.T,Y))\n",
    "                X_fut = np.array([1, cal_data[T-1], cal_data[T-2], cal_data[T-7], c_d_min[day], c_d_max[day], for_d_1[day], weekday[day]])\n",
    "\n",
    "                forecast = np.dot(X_fut,betas)\n",
    "                # Apply inverse transformation to the forecast\n",
    "                forecast = inverse_transform(forecast, a, b)\n",
    "                forecasts.append(forecast)\n",
    "                \n",
    "                real = price[day]\n",
    "                err = real - forecast\n",
    "                errors1 = (np.abs(err))\n",
    "                errors.append(errors1)\n",
    "\n",
    "    errors_mean_AR2_day_ahead_epex_Norm.append(np.mean(errors))"
   ]
  },
  {
   "cell_type": "code",
   "execution_count": null,
   "metadata": {},
   "outputs": [],
   "source": [
    "print(errors_mean_AR2_day_ahead_epex_Norm)\n",
    "window_list = list(range(28,1092,14))\n",
    "plt.plot(window_list, errors_mean_AR2_day_ahead_epex_Norm)\n",
    "plt.xlabel('Window size')\n",
    "plt.ylabel('MAE')\n",
    "plt.title('ARX2 model - day ahead epex - Normalized data')\n",
    "xticks = [28, 182, 364, 546, 728, 910, 1092]\n",
    "plt.xticks(xticks)\n",
    "plt.ylim(0, 4)\n",
    "plt.show()"
   ]
  }
 ],
 "metadata": {
  "kernelspec": {
   "display_name": "Python 3",
   "language": "python",
   "name": "python3"
  },
  "language_info": {
   "codemirror_mode": {
    "name": "ipython",
    "version": 3
   },
   "file_extension": ".py",
   "mimetype": "text/x-python",
   "name": "python",
   "nbconvert_exporter": "python",
   "pygments_lexer": "ipython3",
   "version": "3.11.2"
  }
 },
 "nbformat": 4,
 "nbformat_minor": 2
}
