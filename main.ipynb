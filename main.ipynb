{
 "cells": [
  {
   "cell_type": "markdown",
   "metadata": {},
   "source": [
    "- [ ] Why the errors are better than the article?\n",
    "- [ ] Cut the y-axis of the plot\n",
    "- [ ] Check the data like in the paper"
   ]
  },
  {
   "cell_type": "markdown",
   "metadata": {},
   "source": [
    "# Selection of Calibration Windows for Day-Ahead Electricity Price Forecasting\n",
    "by Grzegorz Marcjasz, Tomasz Serafin and Rafał Weron "
   ]
  },
  {
   "cell_type": "code",
   "execution_count": 2,
   "metadata": {},
   "outputs": [],
   "source": [
    "# libraries\n",
    "import numpy as np\n",
    "import matplotlib.pyplot as plt\n",
    "import pandas as pd\n",
    "from scipy.stats import median_abs_deviation"
   ]
  },
  {
   "cell_type": "markdown",
   "metadata": {},
   "source": [
    "## Data Preparation\n"
   ]
  },
  {
   "cell_type": "code",
   "execution_count": 3,
   "metadata": {},
   "outputs": [],
   "source": [
    "df_day_ahead_epex = pd.read_csv('Day_Ahead_Epex.csv', sep=';')\n",
    "df_NP2018_complete = pd.read_csv('NP2018_complete.csv')\n",
    "# remove the first column\n",
    "df_NP2018_complete = df_NP2018_complete.iloc[:,1:]\n",
    "df_PJM = pd.read_csv('PJM.csv', sep=';')"
   ]
  },
  {
   "cell_type": "code",
   "execution_count": 4,
   "metadata": {},
   "outputs": [],
   "source": [
    "def normalize_prices_and_vst(prices):\n",
    "    a = np.median(prices)\n",
    "    b = median_abs_deviation(prices)\n",
    "    p = 1/b * (prices - a)\n",
    "    X = np.arcsinh(p)\n",
    "    return p, a, b, X\n",
    "\n",
    "def inverse_transform(forecast, a, b): # apply the inverse of VST to the forecast to obtain the price prediction\n",
    "    price_predictions = b * np.sinh(forecast) + a\n",
    "    return price_predictions"
   ]
  },
  {
   "cell_type": "markdown",
   "metadata": {},
   "source": [
    "### df_NP2018"
   ]
  },
  {
   "cell_type": "code",
   "execution_count": 5,
   "metadata": {},
   "outputs": [],
   "source": [
    "df_NP2018_complete['sunday'] = np.where(df_NP2018_complete['Day'] == 7, 1, 0)\n",
    "df_NP2018_complete['saturday'] = np.where(df_NP2018_complete['Day'] == 6, 1, 0)\n",
    "df_NP2018_complete['monday'] = np.where(df_NP2018_complete['Day'] ==  1, 1, 0)"
   ]
  },
  {
   "cell_type": "code",
   "execution_count": null,
   "metadata": {},
   "outputs": [
    {
     "data": {
      "text/html": [
       "<div>\n",
       "<style scoped>\n",
       "    .dataframe tbody tr th:only-of-type {\n",
       "        vertical-align: middle;\n",
       "    }\n",
       "\n",
       "    .dataframe tbody tr th {\n",
       "        vertical-align: top;\n",
       "    }\n",
       "\n",
       "    .dataframe thead th {\n",
       "        text-align: right;\n",
       "    }\n",
       "</style>\n",
       "<table border=\"1\" class=\"dataframe\">\n",
       "  <thead>\n",
       "    <tr style=\"text-align: right;\">\n",
       "      <th></th>\n",
       "      <th>Date</th>\n",
       "      <th>Hour</th>\n",
       "      <th>Price</th>\n",
       "      <th>load</th>\n",
       "      <th>placeholder2</th>\n",
       "      <th>Day</th>\n",
       "      <th>sunday</th>\n",
       "      <th>saturday</th>\n",
       "      <th>monday</th>\n",
       "    </tr>\n",
       "  </thead>\n",
       "  <tbody>\n",
       "    <tr>\n",
       "      <th>0</th>\n",
       "      <td>20130101</td>\n",
       "      <td>1</td>\n",
       "      <td>31.05</td>\n",
       "      <td>42497.0</td>\n",
       "      <td>2798.0</td>\n",
       "      <td>2</td>\n",
       "      <td>0</td>\n",
       "      <td>0</td>\n",
       "      <td>0</td>\n",
       "    </tr>\n",
       "    <tr>\n",
       "      <th>1</th>\n",
       "      <td>20130101</td>\n",
       "      <td>2</td>\n",
       "      <td>30.47</td>\n",
       "      <td>41463.0</td>\n",
       "      <td>2417.0</td>\n",
       "      <td>2</td>\n",
       "      <td>0</td>\n",
       "      <td>0</td>\n",
       "      <td>0</td>\n",
       "    </tr>\n",
       "    <tr>\n",
       "      <th>2</th>\n",
       "      <td>20130101</td>\n",
       "      <td>3</td>\n",
       "      <td>28.92</td>\n",
       "      <td>40812.0</td>\n",
       "      <td>2036.0</td>\n",
       "      <td>2</td>\n",
       "      <td>0</td>\n",
       "      <td>0</td>\n",
       "      <td>0</td>\n",
       "    </tr>\n",
       "    <tr>\n",
       "      <th>3</th>\n",
       "      <td>20130101</td>\n",
       "      <td>4</td>\n",
       "      <td>27.88</td>\n",
       "      <td>40246.0</td>\n",
       "      <td>1706.0</td>\n",
       "      <td>2</td>\n",
       "      <td>0</td>\n",
       "      <td>0</td>\n",
       "      <td>0</td>\n",
       "    </tr>\n",
       "    <tr>\n",
       "      <th>4</th>\n",
       "      <td>20130101</td>\n",
       "      <td>5</td>\n",
       "      <td>26.96</td>\n",
       "      <td>40088.0</td>\n",
       "      <td>1427.0</td>\n",
       "      <td>2</td>\n",
       "      <td>0</td>\n",
       "      <td>0</td>\n",
       "      <td>0</td>\n",
       "    </tr>\n",
       "  </tbody>\n",
       "</table>\n",
       "</div>"
      ],
      "text/plain": [
       "       Date  Hour  Price     load  placeholder2  Day  sunday  saturday  monday\n",
       "0  20130101     1  31.05  42497.0        2798.0    2       0         0       0\n",
       "1  20130101     2  30.47  41463.0        2417.0    2       0         0       0\n",
       "2  20130101     3  28.92  40812.0        2036.0    2       0         0       0\n",
       "3  20130101     4  27.88  40246.0        1706.0    2       0         0       0\n",
       "4  20130101     5  26.96  40088.0        1427.0    2       0         0       0"
      ]
     },
     "execution_count": 5,
     "metadata": {},
     "output_type": "execute_result"
    }
   ],
   "source": [
    "df_NP2018_complete.head()"
   ]
  },
  {
   "cell_type": "markdown",
   "metadata": {},
   "source": [
    "### df_PJM"
   ]
  },
  {
   "cell_type": "code",
   "execution_count": 6,
   "metadata": {},
   "outputs": [],
   "source": [
    "df_PJM['sunday'] = np.where(df_PJM['day'] == 7, 1, 0)\n",
    "df_PJM['saturday'] = np.where(df_PJM['day'] == 6, 1, 0)\n",
    "df_PJM['monday'] = np.where(df_PJM['day'] ==  1, 1, 0)"
   ]
  },
  {
   "cell_type": "code",
   "execution_count": 7,
   "metadata": {},
   "outputs": [],
   "source": [
    "price = df_PJM[\"comed price\"]\n",
    "exogenos = df_PJM[\"rto load forecast\"]\n",
    "sunday = df_PJM[\"sunday\"]\n",
    "saturday = df_PJM[\"saturday\"]\n",
    "monday = df_PJM[\"monday\"]\n",
    "df_PJM['Min_Comed_Price'] = df_PJM.groupby('date')['comed price'].transform('min')\n",
    "df_PJM['Max_Comed_Price'] = df_PJM.groupby('date')['comed price'].transform('max')"
   ]
  },
  {
   "cell_type": "code",
   "execution_count": 8,
   "metadata": {},
   "outputs": [
    {
     "data": {
      "text/html": [
       "<div>\n",
       "<style scoped>\n",
       "    .dataframe tbody tr th:only-of-type {\n",
       "        vertical-align: middle;\n",
       "    }\n",
       "\n",
       "    .dataframe tbody tr th {\n",
       "        vertical-align: top;\n",
       "    }\n",
       "\n",
       "    .dataframe thead th {\n",
       "        text-align: right;\n",
       "    }\n",
       "</style>\n",
       "<table border=\"1\" class=\"dataframe\">\n",
       "  <thead>\n",
       "    <tr style=\"text-align: right;\">\n",
       "      <th></th>\n",
       "      <th>date</th>\n",
       "      <th>hour</th>\n",
       "      <th>comed price</th>\n",
       "      <th>rto load forecast</th>\n",
       "      <th>comed load foecast</th>\n",
       "      <th>day</th>\n",
       "      <th>sunday</th>\n",
       "      <th>saturday</th>\n",
       "      <th>monday</th>\n",
       "      <th>Min_Comed_Price</th>\n",
       "      <th>Max_Comed_Price</th>\n",
       "    </tr>\n",
       "  </thead>\n",
       "  <tbody>\n",
       "    <tr>\n",
       "      <th>0</th>\n",
       "      <td>20110102</td>\n",
       "      <td>0</td>\n",
       "      <td>17.141179</td>\n",
       "      <td>68590.0</td>\n",
       "      <td>11432.0</td>\n",
       "      <td>1</td>\n",
       "      <td>0</td>\n",
       "      <td>0</td>\n",
       "      <td>1</td>\n",
       "      <td>10.690926</td>\n",
       "      <td>51.389987</td>\n",
       "    </tr>\n",
       "    <tr>\n",
       "      <th>1</th>\n",
       "      <td>20110102</td>\n",
       "      <td>1</td>\n",
       "      <td>14.179616</td>\n",
       "      <td>65896.0</td>\n",
       "      <td>10862.0</td>\n",
       "      <td>1</td>\n",
       "      <td>0</td>\n",
       "      <td>0</td>\n",
       "      <td>1</td>\n",
       "      <td>10.690926</td>\n",
       "      <td>51.389987</td>\n",
       "    </tr>\n",
       "    <tr>\n",
       "      <th>2</th>\n",
       "      <td>20110102</td>\n",
       "      <td>2</td>\n",
       "      <td>12.736793</td>\n",
       "      <td>64511.0</td>\n",
       "      <td>10486.0</td>\n",
       "      <td>1</td>\n",
       "      <td>0</td>\n",
       "      <td>0</td>\n",
       "      <td>1</td>\n",
       "      <td>10.690926</td>\n",
       "      <td>51.389987</td>\n",
       "    </tr>\n",
       "    <tr>\n",
       "      <th>3</th>\n",
       "      <td>20110102</td>\n",
       "      <td>3</td>\n",
       "      <td>11.096262</td>\n",
       "      <td>63935.0</td>\n",
       "      <td>10318.0</td>\n",
       "      <td>1</td>\n",
       "      <td>0</td>\n",
       "      <td>0</td>\n",
       "      <td>1</td>\n",
       "      <td>10.690926</td>\n",
       "      <td>51.389987</td>\n",
       "    </tr>\n",
       "    <tr>\n",
       "      <th>4</th>\n",
       "      <td>20110102</td>\n",
       "      <td>4</td>\n",
       "      <td>10.690926</td>\n",
       "      <td>64321.0</td>\n",
       "      <td>10208.0</td>\n",
       "      <td>1</td>\n",
       "      <td>0</td>\n",
       "      <td>0</td>\n",
       "      <td>1</td>\n",
       "      <td>10.690926</td>\n",
       "      <td>51.389987</td>\n",
       "    </tr>\n",
       "  </tbody>\n",
       "</table>\n",
       "</div>"
      ],
      "text/plain": [
       "       date  hour  comed price  rto load forecast  comed load foecast  day  \\\n",
       "0  20110102     0    17.141179            68590.0             11432.0    1   \n",
       "1  20110102     1    14.179616            65896.0             10862.0    1   \n",
       "2  20110102     2    12.736793            64511.0             10486.0    1   \n",
       "3  20110102     3    11.096262            63935.0             10318.0    1   \n",
       "4  20110102     4    10.690926            64321.0             10208.0    1   \n",
       "\n",
       "   sunday  saturday  monday  Min_Comed_Price  Max_Comed_Price  \n",
       "0       0         0       1        10.690926        51.389987  \n",
       "1       0         0       1        10.690926        51.389987  \n",
       "2       0         0       1        10.690926        51.389987  \n",
       "3       0         0       1        10.690926        51.389987  \n",
       "4       0         0       1        10.690926        51.389987  "
      ]
     },
     "execution_count": 8,
     "metadata": {},
     "output_type": "execute_result"
    }
   ],
   "source": [
    "df_PJM.head()"
   ]
  },
  {
   "cell_type": "markdown",
   "metadata": {},
   "source": [
    "### df_day_ahead_epex"
   ]
  },
  {
   "cell_type": "code",
   "execution_count": 8,
   "metadata": {},
   "outputs": [],
   "source": [
    "df_day_ahead_epex['sunday'] = np.where(df_day_ahead_epex['day'] == 7, 1, 0)\n",
    "df_day_ahead_epex['saturday'] = np.where(df_day_ahead_epex['day'] == 6, 1, 0)\n",
    "df_day_ahead_epex['monday'] = np.where(df_day_ahead_epex['day'] ==  1, 1, 0)"
   ]
  },
  {
   "cell_type": "code",
   "execution_count": 9,
   "metadata": {},
   "outputs": [],
   "source": [
    "price = df_day_ahead_epex[\"Spot DE.AT_price\"]\n",
    "# exogenos = df_day_ahead_epex[\"rto load forecast\"]\n",
    "sunday = df_day_ahead_epex[\"sunday\"]\n",
    "saturday = df_day_ahead_epex[\"saturday\"]\n",
    "monday = df_day_ahead_epex[\"monday\"]\n",
    "df_day_ahead_epex['Min_Comed_Price'] = df_day_ahead_epex.groupby('Date')['Spot DE.AT_price'].transform('min')\n",
    "df_day_ahead_epex['Max_Comed_Price'] = df_day_ahead_epex.groupby('Date')['Spot DE.AT_price'].transform('max')"
   ]
  },
  {
   "cell_type": "code",
   "execution_count": 11,
   "metadata": {},
   "outputs": [
    {
     "data": {
      "text/html": [
       "<div>\n",
       "<style scoped>\n",
       "    .dataframe tbody tr th:only-of-type {\n",
       "        vertical-align: middle;\n",
       "    }\n",
       "\n",
       "    .dataframe tbody tr th {\n",
       "        vertical-align: top;\n",
       "    }\n",
       "\n",
       "    .dataframe thead th {\n",
       "        text-align: right;\n",
       "    }\n",
       "</style>\n",
       "<table border=\"1\" class=\"dataframe\">\n",
       "  <thead>\n",
       "    <tr style=\"text-align: right;\">\n",
       "      <th></th>\n",
       "      <th>Date</th>\n",
       "      <th>hour</th>\n",
       "      <th>Spot DE.AT_price</th>\n",
       "      <th>day</th>\n",
       "      <th>sunday</th>\n",
       "      <th>saturday</th>\n",
       "      <th>monday</th>\n",
       "      <th>Min_Comed_Price</th>\n",
       "      <th>Max_Comed_Price</th>\n",
       "    </tr>\n",
       "  </thead>\n",
       "  <tbody>\n",
       "    <tr>\n",
       "      <th>0</th>\n",
       "      <td>20150101</td>\n",
       "      <td>1</td>\n",
       "      <td>25.02</td>\n",
       "      <td>5</td>\n",
       "      <td>0</td>\n",
       "      <td>0</td>\n",
       "      <td>0</td>\n",
       "      <td>0.04</td>\n",
       "      <td>26.9</td>\n",
       "    </tr>\n",
       "    <tr>\n",
       "      <th>1</th>\n",
       "      <td>20150101</td>\n",
       "      <td>2</td>\n",
       "      <td>18.29</td>\n",
       "      <td>5</td>\n",
       "      <td>0</td>\n",
       "      <td>0</td>\n",
       "      <td>0</td>\n",
       "      <td>0.04</td>\n",
       "      <td>26.9</td>\n",
       "    </tr>\n",
       "    <tr>\n",
       "      <th>2</th>\n",
       "      <td>20150101</td>\n",
       "      <td>3</td>\n",
       "      <td>16.04</td>\n",
       "      <td>5</td>\n",
       "      <td>0</td>\n",
       "      <td>0</td>\n",
       "      <td>0</td>\n",
       "      <td>0.04</td>\n",
       "      <td>26.9</td>\n",
       "    </tr>\n",
       "    <tr>\n",
       "      <th>3</th>\n",
       "      <td>20150101</td>\n",
       "      <td>4</td>\n",
       "      <td>14.60</td>\n",
       "      <td>5</td>\n",
       "      <td>0</td>\n",
       "      <td>0</td>\n",
       "      <td>0</td>\n",
       "      <td>0.04</td>\n",
       "      <td>26.9</td>\n",
       "    </tr>\n",
       "    <tr>\n",
       "      <th>4</th>\n",
       "      <td>20150101</td>\n",
       "      <td>5</td>\n",
       "      <td>14.95</td>\n",
       "      <td>5</td>\n",
       "      <td>0</td>\n",
       "      <td>0</td>\n",
       "      <td>0</td>\n",
       "      <td>0.04</td>\n",
       "      <td>26.9</td>\n",
       "    </tr>\n",
       "  </tbody>\n",
       "</table>\n",
       "</div>"
      ],
      "text/plain": [
       "       Date  hour  Spot DE.AT_price  day  sunday  saturday  monday  \\\n",
       "0  20150101     1             25.02    5       0         0       0   \n",
       "1  20150101     2             18.29    5       0         0       0   \n",
       "2  20150101     3             16.04    5       0         0       0   \n",
       "3  20150101     4             14.60    5       0         0       0   \n",
       "4  20150101     5             14.95    5       0         0       0   \n",
       "\n",
       "   Min_Comed_Price  Max_Comed_Price  \n",
       "0             0.04             26.9  \n",
       "1             0.04             26.9  \n",
       "2             0.04             26.9  \n",
       "3             0.04             26.9  \n",
       "4             0.04             26.9  "
      ]
     },
     "execution_count": 11,
     "metadata": {},
     "output_type": "execute_result"
    }
   ],
   "source": [
    "df_day_ahead_epex.head()"
   ]
  },
  {
   "cell_type": "markdown",
   "metadata": {},
   "source": [
    "## ARX1"
   ]
  },
  {
   "cell_type": "markdown",
   "metadata": {},
   "source": [
    "### df_PJM"
   ]
  },
  {
   "cell_type": "markdown",
   "metadata": {},
   "source": [
    "#### Raw Data"
   ]
  },
  {
   "cell_type": "code",
   "execution_count": null,
   "metadata": {},
   "outputs": [],
   "source": [
    "load = df_PJM[\"rto load forecast\"]\n",
    "\n",
    "errors_mean_ARX1_PJM_Raw = []\n",
    "\n",
    "for T in range(28,1092,14):\n",
    "    errors = []\n",
    "    for h in range(24):\n",
    "        p_hour = df_PJM.loc[h::24,'comed price'].values # hourly data selection\n",
    "        exogenos = df_PJM.loc[h::24,'rto load forecast'].values\n",
    "        sunday = df_PJM.loc[h::24,'sunday'].values\n",
    "        monday = df_PJM.loc[h::24,'monday'].values\n",
    "        saturday = df_PJM.loc[h::24,'saturday'].values\n",
    "        c_d_min = df_PJM.loc[h::24,'Min_Comed_Price'].values\n",
    "        h_errors = []\n",
    "        # Initialize an empty list to store the forecasts\n",
    "        forecasts = []\n",
    "        for day in range(T, len(price)//24):\n",
    "                cal_data = price[(day-T):day].values\n",
    "                \n",
    "                Y = cal_data[7:T]\n",
    "                X1 = cal_data[6:T-1] \n",
    "                X2 = cal_data[5:T-2] \n",
    "                X3 = cal_data[0:T-7]\n",
    "                X4 = c_d_min[7:T]\n",
    "                X5 = exogenos[7:T]  #C_d_h\n",
    "                X6 = sunday[7:T] # sunday\n",
    "                X7 = monday[7:T] # monday\n",
    "                X8 = saturday[7:T] # saturday\n",
    "                X0 = np.ones(np.size(X1)) \n",
    "                X = np.stack([X0,X1,X2, X3,X4,X5, X6, X7, X8],axis = 1)\n",
    "                betas = np.dot(np.linalg.inv(np.dot(X.T,X)), np.dot(X.T,Y))\n",
    "                X_fut = np.array([1,cal_data[T-1],cal_data[T-2],cal_data[T-7],c_d_min[day], exogenos[day],sunday[day],monday[day],saturday[day]])\n",
    "                forecast = np.dot(X_fut,betas)\n",
    "                forecasts.append(forecast)\n",
    "                \n",
    "                real = price[day]\n",
    "                err = real - forecast\n",
    "                errors1 = (np.abs(err))\n",
    "                errors.append(errors1)\n",
    "        \n",
    "    errors_mean_ARX1_PJM_Raw.append(np.mean(errors))\n",
    "\n",
    "print(errors_mean_ARX1_PJM_Raw)"
   ]
  },
  {
   "cell_type": "code",
   "execution_count": 16,
   "metadata": {},
   "outputs": [
    {
     "data": {
      "image/png": "[encoded data removed]",
      "text/plain": [
       "<Figure size 640x480 with 1 Axes>"
      ]
     },
     "metadata": {},
     "output_type": "display_data"
    }
   ],
   "source": [
    "window_size = list(range(28,1092,14))\n",
    "plt.plot(window_size, errors_mean_ARX1_PJM_Raw)\n",
    "plt.xlabel('Window size')\n",
    "plt.ylabel('MAE')\n",
    "plt.title('ARX1 model - PJM - Raw data')\n",
    "xticks = [28, 182, 364, 546, 728, 910, 1092]\n",
    "plt.xticks(xticks)\n",
    "# plt.grid()\n",
    "plt.ylim(0, 4)\n",
    "plt.show()"
   ]
  },
  {
   "cell_type": "markdown",
   "metadata": {},
   "source": [
    "#### Normalized"
   ]
  },
  {
   "cell_type": "code",
   "execution_count": 13,
   "metadata": {},
   "outputs": [],
   "source": [
    "df_PJM[\"min_norm\"] = df_PJM.groupby('date')['comed price'].transform('min')\n",
    "df_PJM[\"max_norm\"] = df_PJM.groupby('date')['comed price'].transform('max')"
   ]
  },
  {
   "cell_type": "code",
   "execution_count": null,
   "metadata": {},
   "outputs": [],
   "source": [
    "load = df_PJM[\"rto load forecast\"]\n",
    "\n",
    "errors_mean_ARX1_PJM_Norm = []\n",
    "\n",
    "for T in range(28,1092,14):\n",
    "    errors = []\n",
    "    \n",
    "    for h in range(24):\n",
    "        p_hour = df_PJM.loc[h::24,'comed price'].values # hourly data selection\n",
    "        exogenos = df_PJM.loc[h::24,'rto load forecast'].values\n",
    "        sunday = df_PJM.loc[h::24,'sunday'].values\n",
    "        monday = df_PJM.loc[h::24,'monday'].values\n",
    "        saturday = df_PJM.loc[h::24,'saturday'].values\n",
    "        c_d_min = df_PJM.loc[h::24,'min_norm'].values\n",
    "        h_errors = []\n",
    "        # Initialize an empty list to store the forecasts\n",
    "        forecasts = []\n",
    "        for day in range(T, len(price)//24):\n",
    "                \n",
    "                cal_data = price[(day-T):day].values # calibration data\n",
    "                \n",
    "                p, a, b, cal_data = normalize_prices_and_vst(cal_data)\n",
    "\n",
    "                Y = cal_data[7:T]\n",
    "                X1 = cal_data[6:T-1] \n",
    "                X2 = cal_data[5:T-2] \n",
    "                X3 = cal_data[0:T-7]\n",
    "                X4 = c_d_min[7:T]\n",
    "                X5 = exogenos[7:T]  #C_d_h\n",
    "                X6 = sunday[7:T] # sunday\n",
    "                X7 = monday[7:T] # monday\n",
    "                X8 = saturday[7:T] # saturday\n",
    "                X0 = np.ones(np.size(X1)) \n",
    "                X = np.stack([X0,X1,X2, X3,X4,X5, X6, X7, X8],axis = 1)\n",
    "                betas = np.dot(np.linalg.inv(np.dot(X.T,X)), np.dot(X.T,Y))\n",
    "                X_fut = np.array([1,cal_data[T-1],cal_data[T-2],cal_data[T-7],c_d_min[day], exogenos[day],sunday[day],monday[day],saturday[day]])\n",
    "\n",
    "                forecast = np.dot(X_fut,betas)\n",
    "                # Apply inverse transformation to the forecast\n",
    "                forecast = inverse_transform(forecast, a, b)\n",
    "                forecasts.append(forecast)\n",
    "            \n",
    "                real = price[day]\n",
    "                err = real - forecast\n",
    "                errors1 = (np.abs(err))\n",
    "                errors.append(errors1)\n",
    "\n",
    "    errors_mean_ARX1_PJM_Norm.append(np.mean(errors))"
   ]
  },
  {
   "cell_type": "code",
   "execution_count": null,
   "metadata": {},
   "outputs": [],
   "source": [
    "print(errors_mean_ARX1_PJM_Norm)\n",
    "window_list = list(range(28,1092,14))\n",
    "plt.plot(window_list, errors_mean_ARX1_PJM_Norm)\n",
    "plt.xlabel('Window size')\n",
    "plt.ylabel('MAE')\n",
    "plt.title('ARX1 model - PJM - Normalized data')\n",
    "xticks = [28, 182, 364, 546, 728, 910, 1092]\n",
    "plt.xticks(xticks)\n",
    "plt.ylim(0, 4)\n",
    "plt.show()"
   ]
  },
  {
   "cell_type": "markdown",
   "metadata": {},
   "source": [
    "### df_NP2018_complete"
   ]
  },
  {
   "cell_type": "markdown",
   "metadata": {},
   "source": [
    "#### Raw Data"
   ]
  },
  {
   "cell_type": "code",
   "execution_count": 14,
   "metadata": {},
   "outputs": [],
   "source": [
    "price = df_NP2018_complete[\"Price\"]\n",
    "exogenos = df_NP2018_complete[\"load\"]\n",
    "sunday = df_NP2018_complete[\"sunday\"]\n",
    "saturday = df_NP2018_complete[\"saturday\"]\n",
    "monday = df_NP2018_complete[\"monday\"]\n",
    "df_NP2018_complete['Min_Comed_Price'] = df_NP2018_complete.groupby('Date')['Price'].transform('min')\n",
    "df_NP2018_complete['Max_Comed_Price'] = df_NP2018_complete.groupby('Date')['Price'].transform('max')"
   ]
  },
  {
   "cell_type": "code",
   "execution_count": null,
   "metadata": {},
   "outputs": [],
   "source": [
    "df_NP2018_complete.head()"
   ]
  },
  {
   "cell_type": "code",
   "execution_count": 21,
   "metadata": {},
   "outputs": [
    {
     "name": "stdout",
     "output_type": "stream",
     "text": [
      "[6.564818484616738, 5.0425482550463965, 2.9022485781871152, 3.6263526241279678, 2.918519512946473, 2.885224050604717, 2.152392372817417, 1.9837470603861982, 1.898929829522265, 1.839355953566575, 1.8031119251656744, 1.7552598457133939, 1.7533709148861294, 1.7477863892569718, 1.7561433774216528, 1.7501934217416333, 1.7537915605870724, 1.7863744298726498, 1.7940974679034163, 1.7899814452703258, 1.7627695726302666, 1.7213237722006782, 1.6819727919025453, 1.6231192770388088, 1.5908052409659112, 1.5558244528195966, 1.536767152795938, 1.5157137178486444, 1.5127870890257578, 1.5145173169882824, 1.5175469929480658, 1.5173417745784687, 1.4964131475917763, 1.4825003166749666, 1.481957237426784, 1.4357454296463432, 1.3883440011750663, 1.361623383358631, 1.333239520028474, 1.2961027115500552, 1.293832219981566, 1.2940325122080871, 1.3229958260992474, 1.3253623005513155, 1.3250438861357918, 1.3129353842320532, 1.293077375156529, 1.2765682674136405, 1.2617147169376826, 1.25422548401556, 1.241485150946544, 1.2510387393534452, 1.2515392400807739, 1.2739730749046578, 1.2881701702217387, 1.2891135517575936, 1.2860844311260253, 1.2891862695401775, 1.284816686741544, 1.287718944605219, 1.2884894971300742, 1.29050503211578, 1.2912390306102666, 1.286455430635417, 1.2900689406903287, 1.3056564394882668, 1.3257642726143073, 1.3367645014398517, 1.3542879556138334, 1.3617210333081216, 1.3703610294181567, 1.3561343951456255, 1.3454346509815829, 1.3076146573741887, 1.2958323099116082, 1.306347911400808]\n"
     ]
    },
    {
     "data": {
      "image/png": "[encoded data removed]",
      "text/plain": [
       "<Figure size 640x480 with 1 Axes>"
      ]
     },
     "metadata": {},
     "output_type": "display_data"
    }
   ],
   "source": [
    "load = df_NP2018_complete[\"load\"]\n",
    "\n",
    "errors_mean_ARX1_NP_Raw = []\n",
    "\n",
    "window_list = list(range(35, 1093, 7))\n",
    "\n",
    "for T in range(28,1092,14):\n",
    "    errors = []\n",
    "    for h in range(24):\n",
    "        p_hour = df_NP2018_complete.loc[h::24,'Price'].values # hourly data selection\n",
    "        exogenos = df_NP2018_complete.loc[h::24,'load'].values\n",
    "        sunday = df_NP2018_complete.loc[h::24,'sunday'].values\n",
    "        monday = df_NP2018_complete.loc[h::24,'monday'].values\n",
    "        saturday = df_NP2018_complete.loc[h::24,'saturday'].values\n",
    "        c_d_min = df_NP2018_complete.loc[h::24,'Min_Comed_Price'].values\n",
    "        h_errors = []\n",
    "        # Initialize an empty list to store the forecasts\n",
    "        forecasts = []\n",
    "        for day in range(T, len(price)//24):\n",
    "                cal_data = price[(day-T):day].values # calibration data \n",
    "                \n",
    "                Y = cal_data[7:T]\n",
    "                X1 = cal_data[6:T-1] \n",
    "                X2 = cal_data[5:T-2] \n",
    "                X3 = cal_data[0:T-7]\n",
    "                X4 = c_d_min[7:T]\n",
    "                X5 = exogenos[7:T]  #C_d_h\n",
    "                X6 = sunday[7:T] # sunday\n",
    "                X7 = monday[7:T] # monday\n",
    "                X8 = saturday[7:T] # saturday\n",
    "                X0 = np.ones(np.size(X1)) \n",
    "                X = np.stack([X0,X1,X2, X3,X4,X5, X6, X7, X8],axis = 1)\n",
    "                betas = np.dot(np.linalg.inv(np.dot(X.T,X)), np.dot(X.T,Y))\n",
    "                X_fut = np.array([1,cal_data[T-1],cal_data[T-2],cal_data[T-7],c_d_min[day], exogenos[day],sunday[day],monday[day],saturday[day]])\n",
    "\n",
    "                forecast = np.dot(X_fut,betas)\n",
    "                forecasts.append(forecast)\n",
    "                \n",
    "                real = price[day]\n",
    "                err = real - forecast\n",
    "                errors1 = (np.abs(err))\n",
    "                errors.append(errors1)\n",
    "                \n",
    "    errors_mean_ARX1_NP_Raw.append(np.mean(errors))\n",
    "\n",
    "print(errors_mean_ARX1_NP_Raw)"
   ]
  },
  {
   "cell_type": "code",
   "execution_count": null,
   "metadata": {},
   "outputs": [],
   "source": [
    "window_list = list(range(28,1092,14))\n",
    "plt.plot(window_list, errors_mean_ARX1_NP_Raw)\n",
    "plt.xlabel('Window size')\n",
    "plt.ylabel('MAE')\n",
    "plt.title('ARX1 model - NP2018 - Raw data')\n",
    "xticks = [28, 182, 364, 546, 728, 910, 1092]\n",
    "plt.xticks(xticks)\n",
    "# plt.grid()\n",
    "plt.ylim(0, 3)\n",
    "plt.show()"
   ]
  },
  {
   "cell_type": "markdown",
   "metadata": {},
   "source": [
    "#### Normalized\n"
   ]
  },
  {
   "cell_type": "code",
   "execution_count": 12,
   "metadata": {},
   "outputs": [],
   "source": [
    "df_NP2018_complete[\"min_norm\"] = df_NP2018_complete.groupby('Date')['Price'].transform('min')\n",
    "df_NP2018_complete[\"max_norm\"] = df_NP2018_complete.groupby('Date')['Price'].transform('max')"
   ]
  },
  {
   "cell_type": "code",
   "execution_count": 29,
   "metadata": {},
   "outputs": [
    {
     "name": "stdout",
     "output_type": "stream",
     "text": [
      "[457.03346912722515, 7.478465939820975, 3.2960379037078575, 8.96607766696933, 2.1184039218593402, 2.0419529845175073, 1.7771122083479223, 1.6338865534504607, 1.5928622968530923, 1.5268077787238505, 1.515240108005157, 1.4876936062635853, 1.476059424269117, 1.4777816928278407, 1.4869440559693827, 1.4875166512595315, 1.5030959649044957, 1.521107515737586, 1.5329101346465996, 1.5348639568703646, 1.521574761781807, 1.5050200055600143, 1.494644287024215, 1.4396905453397346, 1.4150352480566508, 1.365104723025265, 1.3504287642943502, 1.3067087966038835, 1.294809771235361, 1.2900197498224577, 1.2977091055119203, 1.293120458059899, 1.2956394999152037, 1.300760363873945, 1.3002519192919637, 1.2671167041836588, 1.2349548292892878, 1.1856279557704192, 1.1650236885029817, 1.090616615379811, 1.0774192000428506, 1.0650824322385175, 1.0779826409964917, 1.0819063294434756, 1.0898219783897487, 1.0962909067747624, 1.1011539665817942, 1.0979083583644857, 1.0933761126873467, 1.0994486864340616, 1.0983318399327893, 1.1096141646702193, 1.1157565023854201, 1.120096380290359, 1.1316017952074215, 1.1399351463732914, 1.145674059348223, 1.155788959251641, 1.1624789813155196, 1.1701015635582492, 1.1718119231043316, 1.1735908012015093, 1.1767492961708557, 1.1507345641650284, 1.1565842557587882, 1.166237653159099, 1.1826675652175942, 1.193552936970004, 1.2081835853609508, 1.2111937842742897, 1.2110745873905098, 1.1989182532965466, 1.1814546817137195, 1.1106142743932694, 1.0913853668771287, 1.0994991457242282]\n"
     ]
    }
   ],
   "source": [
    "load = df_NP2018_complete[\"load\"]\n",
    "\n",
    "errors_mean_ARX1_NP_Norm = []\n",
    "\n",
    "for T in range(28,1092,14):\n",
    "    errors = []\n",
    "    for h in range(24):\n",
    "        p_hour = df_NP2018_complete.loc[h::24,'Price'].values # hourly data selection\n",
    "        exogenos = df_NP2018_complete.loc[h::24,'load'].values\n",
    "        sunday = df_NP2018_complete.loc[h::24,'sunday'].values\n",
    "        monday = df_NP2018_complete.loc[h::24,'monday'].values\n",
    "        saturday = df_NP2018_complete.loc[h::24,'saturday'].values\n",
    "        c_d_min = df_NP2018_complete.loc[h::24,'min_norm'].values\n",
    "        h_errors = []\n",
    "        # Initialize an empty list to store the forecasts\n",
    "        forecasts = []\n",
    "        for day in range(T, len(price)//24):\n",
    "                \n",
    "                cal_data = price[(day-T):day].values # calibration data\n",
    "                p, a, b, cal_data = normalize_prices_and_vst(cal_data)\n",
    "                \n",
    "                Y = cal_data[7:T]\n",
    "                X1 = cal_data[6:T-1] \n",
    "                X2 = cal_data[5:T-2] \n",
    "                X3 = cal_data[0:T-7]\n",
    "                X4 = c_d_min[7:T]\n",
    "                X5 = exogenos[7:T]  #C_d_h\n",
    "                X6 = sunday[7:T] # sunday\n",
    "                X7 = monday[7:T] # monday\n",
    "                X8 = saturday[7:T] # saturday\n",
    "                X0 = np.ones(np.size(X1)) \n",
    "                X = np.stack([X0,X1,X2, X3,X4,X5, X6, X7, X8],axis = 1)\n",
    "                betas = np.dot(np.linalg.inv(np.dot(X.T,X)), np.dot(X.T,Y))\n",
    "                X_fut = np.array([1,cal_data[T-1],cal_data[T-2],cal_data[T-7],c_d_min[day], exogenos[day],sunday[day],monday[day],saturday[day]])\n",
    "\n",
    "                # forecast = np.dot(X_fut,betas)\n",
    "                # forecasts.append(forecast)\n",
    "                forecast = np.dot(X_fut,betas)\n",
    "                # Apply inverse transformation to the forecast\n",
    "                forecast = inverse_transform(forecast, a, b)\n",
    "                forecasts.append(forecast)\n",
    "                \n",
    "                real = price[day]\n",
    "                err = real - forecast\n",
    "                errors1 = (np.abs(err))\n",
    "                errors.append(errors1)\n",
    "    \n",
    "    errors_mean_ARX1_NP_Norm.append(np.mean(errors))\n",
    "\n",
    "print(errors_mean_ARX1_NP_Norm)"
   ]
  },
  {
   "cell_type": "code",
   "execution_count": 30,
   "metadata": {},
   "outputs": [
    {
     "data": {
      "image/png": "[encoded data removed]",
      "text/plain": [
       "<Figure size 640x480 with 1 Axes>"
      ]
     },
     "metadata": {},
     "output_type": "display_data"
    }
   ],
   "source": [
    "window_list = list(range(28,1092,14))\n",
    "plt.plot(window_list, errors_mean_ARX1_NP_Norm)\n",
    "plt.xlabel('Window size')\n",
    "plt.ylabel('MAE')\n",
    "plt.title('ARX1 model - NP2018 - Normalized data')\n",
    "xticks = [28, 182, 364, 546, 728, 910, 1092]\n",
    "plt.xticks(xticks)\n",
    "plt.ylim(0, 3)\n",
    "plt.show()"
   ]
  },
  {
   "cell_type": "markdown",
   "metadata": {},
   "source": [
    "### df_day_ahead_epex"
   ]
  },
  {
   "cell_type": "markdown",
   "metadata": {},
   "source": [
    "#### Raw Data"
   ]
  },
  {
   "cell_type": "markdown",
   "metadata": {},
   "source": [
    "#### Normalized"
   ]
  },
  {
   "cell_type": "markdown",
   "metadata": {},
   "source": [
    "## ARX2"
   ]
  },
  {
   "cell_type": "markdown",
   "metadata": {},
   "source": [
    "### df_PJM"
   ]
  },
  {
   "cell_type": "markdown",
   "metadata": {},
   "source": [
    "#### Raw Data"
   ]
  },
  {
   "cell_type": "code",
   "execution_count": 15,
   "metadata": {},
   "outputs": [
    {
     "name": "stdout",
     "output_type": "stream",
     "text": [
      "[3.6502309932862027, 2.674171475742467, 2.248774374279639, 2.135988476984629, 2.2796371554323462, 2.3672775257833414, 2.3370671386606228, 2.3315962137961166, 2.2819640495674713, 2.0800999952136157, 1.801298076868291, 1.7114442311649818, 1.6955404303935095, 1.6826873536595282, 1.7575956753206543, 1.713826910167933, 1.6950605259919167, 1.673415409155311, 1.6691349950607706, 1.6914906628658954, 1.704818608116693, 1.6879736914217254, 1.6564767748268192, 1.610806299139022, 1.6089076505844524, 1.583263333632829, 1.590063515009958, 1.5431726851871503, 1.5176104750328363, 1.496631964798023, 1.493358330319845, 1.4961211204746105, 1.498674823217262, 1.5000571451545321, 1.4967313012600998, 1.452628195659897, 1.4316938570237365, 1.3935688050778965, 1.3735612540856643, 1.3266729224451175, 1.3040801611888522, 1.2842700783636083, 1.259287385802086, 1.2638027680056239, 1.2410439157425164, 1.2548321985689426, 1.254323737765634, 1.2505713910859593, 1.2556203891692903, 1.2610341841746788, 1.2777643089403186, 1.3033612545405633, 1.3003984672720936, 1.3000765665084366, 1.3133791456668618, 1.3148763507794443, 1.287016666672627, 1.2945987962688137, 1.295161065673904, 1.2962168110772527, 1.310471275418243, 1.305958172068392, 1.3223423320005852, 1.322454409014449, 1.3285238764124883, 1.324104035729082, 1.3298208944991026, 1.335165020127331, 1.3243463989270978, 1.317937218193133, 1.3119432501814654, 1.2919569684565997, 1.2847146647970134, 1.244985503752546, 1.2480404296269918, 1.2693998640130117]\n"
     ]
    }
   ],
   "source": [
    "load = df_PJM[\"rto load forecast\"]\n",
    "df_PJM[\"for_d_1\"] = df_PJM[\"comed price\"].shift(1)\n",
    "\n",
    "errors_mean_ARX2_PJM_Raw = []\n",
    "\n",
    "\n",
    "T = 28\n",
    "for T in range(28,1092,14):\n",
    "    errors = []\n",
    "    for h in range(24):\n",
    "        p_hour = df_PJM.loc[h::24,'comed price'].values # hourly data selection\n",
    "        exogenos = df_PJM.loc[h::24,'rto load forecast'].values\n",
    "        weekday = df_PJM.loc[h::24,'day'].values\n",
    "        c_d_min = df_PJM.loc[h::24,'Min_Comed_Price'].values\n",
    "        c_d_max = df_PJM.loc[h::24,'Max_Comed_Price'].values\n",
    "        for_d_1 = df_PJM.loc[h::24,'for_d_1'].values\n",
    "        h_errors = []\n",
    "        # Initialize an empty list to store the forecasts\n",
    "        forecasts = []\n",
    "        for day in range(T, len(price)//24):\n",
    "                cal_data = price[(day-T):day].values # calibration data \n",
    "                \n",
    "                Y = cal_data[7:T]\n",
    "                X1 = cal_data[6:T-1] \n",
    "                X2 = cal_data[5:T-2] \n",
    "                X3 = cal_data[0:T-7]\n",
    "                X4 = c_d_min[7:T]\n",
    "                X5 = c_d_max[7:T]  #C_d_h\n",
    "                X6 = for_d_1[7:T] # c_d-1_24\n",
    "                X7 = exogenos[7:T]\n",
    "                X8 = weekday[7:T] \n",
    "                X0 = np.ones(np.size(X1)) \n",
    "                X = np.stack([X0,X1,X2, X3,X4,X5, X6, X7, X8],axis = 1)\n",
    "                betas = np.dot(np.linalg.inv(np.dot(X.T,X)), np.dot(X.T,Y))\n",
    "                X_fut = np.array([1,cal_data[T-1],cal_data[T-2],cal_data[T-7],c_d_min[day], c_d_max[day], for_d_1[day], exogenos[day],weekday[day]])\n",
    "\n",
    "                forecast = np.dot(X_fut,betas)\n",
    "                forecasts.append(forecast)\n",
    "                \n",
    "                real = price[day]\n",
    "                err = real - forecast\n",
    "                errors1 = (np.abs(err))\n",
    "                errors.append(errors1)\n",
    "\n",
    "    errors_mean_ARX2_PJM_Raw.append(np.mean(errors))\n",
    "\n",
    "print(errors_mean_ARX2_PJM_Raw)"
   ]
  },
  {
   "cell_type": "code",
   "execution_count": 16,
   "metadata": {},
   "outputs": [
    {
     "data": {
      "image/png": "[encoded data removed]",
      "text/plain": [
       "<Figure size 640x480 with 1 Axes>"
      ]
     },
     "metadata": {},
     "output_type": "display_data"
    }
   ],
   "source": [
    "window_list = list(range(28,1092,14))\n",
    "plt.plot(window_list, errors_mean_ARX2_PJM_Raw)\n",
    "plt.xlabel('Window size')\n",
    "plt.ylabel('MAE')\n",
    "plt.title('ARX2 model - PJM - Raw data')\n",
    "xticks = [28, 182, 364, 546, 728, 910, 1092]\n",
    "plt.xticks(xticks)\n",
    "plt.ylim(0, 4)\n",
    "plt.show()"
   ]
  },
  {
   "cell_type": "markdown",
   "metadata": {},
   "source": [
    "#### Normalized"
   ]
  },
  {
   "cell_type": "code",
   "execution_count": null,
   "metadata": {},
   "outputs": [],
   "source": [
    "df_PJM.head()"
   ]
  },
  {
   "cell_type": "code",
   "execution_count": 17,
   "metadata": {},
   "outputs": [],
   "source": [
    "df_PJM[\"min\"] = df_PJM.groupby('date')['comed price'].transform('min')\n",
    "df_PJM[\"max\"] = df_PJM.groupby('date')['comed price'].transform('max')"
   ]
  },
  {
   "cell_type": "code",
   "execution_count": 18,
   "metadata": {},
   "outputs": [],
   "source": [
    "load = df_PJM[\"rto load forecast\"]\n",
    "df_PJM[\"for_d_1_norm\"] = df_PJM[\"comed price\"].shift(1)\n",
    "\n",
    "errors_mean_ARX2_PJM_Norm = []\n",
    "\n",
    "\n",
    "for T in range(28,1092,14):\n",
    "    errors = []\n",
    "    for h in range(24):\n",
    "        p_hour = df_PJM.loc[h::24,'comed price'].values # hourly data selection\n",
    "        exogenos = df_PJM.loc[h::24,'rto load forecast'].values\n",
    "        weekday = df_PJM.loc[h::24,'day'].values\n",
    "        c_d_min = df_PJM.loc[h::24,'min'].values\n",
    "        c_d_max = df_PJM.loc[h::24,'max'].values\n",
    "        for_d_1 = df_PJM.loc[h::24,'for_d_1_norm'].values\n",
    "        h_errors = []\n",
    "        # Initialize an empty list to store the forecasts\n",
    "        forecasts = []\n",
    "        for day in range(T, len(price)//24):\n",
    "                cal_data = price[(day-T):day].values # calibration data\n",
    "                p, a, b, cal_data = normalize_prices_and_vst(cal_data)\n",
    "\n",
    "                Y = cal_data[7:T]\n",
    "                X1 = cal_data[6:T-1] \n",
    "                X2 = cal_data[5:T-2] \n",
    "                X3 = cal_data[0:T-7]\n",
    "                X4 = c_d_min[7:T]\n",
    "                X5 = c_d_max[7:T]  #C_d_h\n",
    "                X6 = for_d_1[7:T] # c_d-1_24\n",
    "                X7 = exogenos[7:T]\n",
    "                X8 = weekday[7:T] \n",
    "                X0 = np.ones(np.size(X1)) \n",
    "                X = np.stack([X0,X1,X2, X3,X4,X5, X6, X7, X8],axis = 1)\n",
    "                betas = np.dot(np.linalg.inv(np.dot(X.T,X)), np.dot(X.T,Y))\n",
    "                X_fut = np.array([1,cal_data[T-1],cal_data[T-2],cal_data[T-7],c_d_min[day], c_d_max[day], for_d_1[day], exogenos[day],weekday[day]])\n",
    "\n",
    "                forecast = np.dot(X_fut,betas)\n",
    "                # Apply inverse transformation to the forecast\n",
    "                forecast = inverse_transform(forecast, a, b)\n",
    "                forecasts.append(forecast)\n",
    "                \n",
    "                real = price[day]\n",
    "                err = real - forecast\n",
    "                errors1 = (np.abs(err))\n",
    "                errors.append(errors1)\n",
    "\n",
    "    errors_mean_ARX2_PJM_Norm.append(np.mean(errors))"
   ]
  },
  {
   "cell_type": "code",
   "execution_count": 19,
   "metadata": {},
   "outputs": [
    {
     "name": "stdout",
     "output_type": "stream",
     "text": [
      "[277291615098.2658, 48.56261613514833, 53.12212360431178, 5.736203536762878, 3.8058953796437525, 2.729665316321915, 3.953211340799284, 2.9339192939980525, 2.6374792936780866, 2.396511090514673, 1.6061177120128285, 1.5254834468479554, 1.5304717622538864, 1.4945573146046747, 1.556846072404394, 1.5166626488023764, 1.4949486448559073, 1.491034602067695, 1.5091097971189373, 1.5281809029423394, 1.5126779363959308, 1.5081791902271353, 1.4797788967943335, 1.4504192016012027, 1.4431259686419307, 1.3814939065520382, 1.3743698927505115, 1.3204764073194504, 1.3023295230148424, 1.2938477224281233, 1.297199485630677, 1.3002050661470574, 1.2959119716502634, 1.3203560186783994, 1.3132903609890634, 1.278809898769801, 1.2590267563682498, 1.2017834442509319, 1.1833908585331496, 1.10948284935504, 1.0861350173825441, 1.0757827047001218, 1.07592374394579, 1.0846875558040774, 1.0870634241826167, 1.0953318233048246, 1.099504783598841, 1.1056602616095876, 1.1053214675258816, 1.113151117075581, 1.1262063500130062, 1.1535846289575242, 1.1460975806617206, 1.148382422227943, 1.149698130220865, 1.14917547300497, 1.1573891960617544, 1.181436831780367, 1.168600942984855, 1.1863721050210079, 1.1804692163277872, 1.1914552429503842, 1.1913328246008654, 1.1717643467075518, 1.1691524011365284, 1.1758742504330804, 1.1682493484527965, 1.184811977596212, 1.187074134162985, 1.1944723857223787, 1.1838730848213515, 1.1718064960718386, 1.1493249869429842, 1.076222169694947, 1.055464899612117, 1.0698212198151822]\n"
     ]
    },
    {
     "data": {
      "image/png": "[encoded data removed]",
      "text/plain": [
       "<Figure size 640x480 with 1 Axes>"
      ]
     },
     "metadata": {},
     "output_type": "display_data"
    }
   ],
   "source": [
    "print(errors_mean_ARX2_PJM_Norm)\n",
    "window_list = list(range(28,1092,14))\n",
    "plt.plot(window_list, errors_mean_ARX2_PJM_Norm)\n",
    "plt.xlabel('Window size')\n",
    "plt.ylabel('MAE')\n",
    "plt.title('ARX2 model - PJM - Normalized data')\n",
    "xticks = [28, 182, 364, 546, 728, 910, 1092]\n",
    "plt.xticks(xticks)\n",
    "plt.ylim(0, 4)\n",
    "plt.show()"
   ]
  },
  {
   "cell_type": "markdown",
   "metadata": {},
   "source": [
    "### df_NP2018_complete"
   ]
  },
  {
   "cell_type": "code",
   "execution_count": null,
   "metadata": {},
   "outputs": [],
   "source": [
    "df_NP2018_complete.head()"
   ]
  },
  {
   "cell_type": "markdown",
   "metadata": {},
   "source": [
    "#### Raw Data"
   ]
  },
  {
   "cell_type": "code",
   "execution_count": 20,
   "metadata": {},
   "outputs": [
    {
     "name": "stdout",
     "output_type": "stream",
     "text": [
      "[7.474121966816984, 6.049408958592666, 3.557128259739405, 4.0215669450680345, 3.322859399022577, 3.0492207976530556, 2.151797362841272, 2.045158520796232, 1.9371192190022197, 1.8797552411944214, 1.8852671723659984, 1.8172227171481288, 1.8080444142147682, 1.8057240248111466, 1.8262861812905553, 1.8240571796667993, 1.8069721093985471, 1.8424099839643409, 1.850659392115388, 1.8348901847852286, 1.7608583633294144, 1.7077089230283486, 1.6897297654535441, 1.6400989591765947, 1.6006927134149338, 1.5686938062878948, 1.5642936937207175, 1.5386447110870005, 1.5331219364797757, 1.5284845815365222, 1.5315293303456745, 1.5247514983826826, 1.5023018974401674, 1.5010990415687129, 1.491552124396702, 1.45333698782912, 1.4024726733353072, 1.3721185223998744, 1.3509879173587307, 1.3149382037733677, 1.3181667675918955, 1.3164617744778435, 1.353465010455794, 1.349807728927597, 1.3575683677977217, 1.3523708543119182, 1.3430836286526968, 1.3348543248782043, 1.3141609168906434, 1.3119315446377364, 1.2906714198328544, 1.295339489338511, 1.2954394739652693, 1.307020175355043, 1.321867621820675, 1.3127015333569738, 1.3090588639808078, 1.3169476119122194, 1.3153499600721454, 1.3169316636155164, 1.3101930385750533, 1.3130416157452323, 1.307250616208755, 1.2944254246296514, 1.2933849371274462, 1.3057374461080464, 1.3306356532382793, 1.3304314000368267, 1.3522822853048604, 1.3671139990076298, 1.3835761531312738, 1.3738181513593775, 1.3673281078279098, 1.3278962740252163, 1.3168374252672466, 1.3303084642714775]\n"
     ]
    }
   ],
   "source": [
    "load = df_NP2018_complete[\"load\"]\n",
    "df_NP2018_complete[\"for_d_1\"] = df_NP2018_complete[\"Price\"].shift(1)\n",
    "\n",
    "errors_mean_ARX2_NP_Raw = []\n",
    "\n",
    "\n",
    "\n",
    "for T in range(28,1092,14):\n",
    "    errors = []\n",
    "    for h in range(24):\n",
    "        p_hour = df_NP2018_complete.loc[h::24,'Price'].values # hourly data selection\n",
    "        exogenos = df_NP2018_complete.loc[h::24,'load'].values\n",
    "        weekday = df_NP2018_complete.loc[h::24,'Day'].values\n",
    "        c_d_min = df_NP2018_complete.loc[h::24,'Min_Comed_Price'].values\n",
    "        c_d_max = df_NP2018_complete.loc[h::24,'Max_Comed_Price'].values\n",
    "        for_d_1 = df_NP2018_complete.loc[h::24,'for_d_1'].values\n",
    "        h_errors = []\n",
    "        # Initialize an empty list to store the forecasts\n",
    "        forecasts = []\n",
    "        for day in range(T, len(price)//24):\n",
    "                cal_data = price[(day-T):day].values # calibration data \n",
    "                Y = cal_data[7:T]\n",
    "                X1 = cal_data[6:T-1] \n",
    "                X2 = cal_data[5:T-2] \n",
    "                X3 = cal_data[0:T-7]\n",
    "                X4 = c_d_min[7:T]\n",
    "                X5 = c_d_max[7:T]  #C_d_h\n",
    "                X6 = for_d_1[7:T] # c_d-1_24\n",
    "                X7 = exogenos[7:T]\n",
    "                X8 = weekday[7:T] \n",
    "                X0 = np.ones(np.size(X1)) \n",
    "                X = np.stack([X0,X1,X2, X3,X4,X5, X6, X7, X8],axis = 1)\n",
    "                betas = np.dot(np.linalg.inv(np.dot(X.T,X)), np.dot(X.T,Y))\n",
    "                X_fut = np.array([1,cal_data[T-1],cal_data[T-2],cal_data[T-7],c_d_min[day], c_d_max[day], for_d_1[day], exogenos[day],weekday[day]])\n",
    "                forecast = np.dot(X_fut,betas)\n",
    "                forecasts.append(forecast)\n",
    "                real = price[day]\n",
    "                err = real - forecast\n",
    "                errors1 = (np.abs(err))\n",
    "                errors.append(errors1)\n",
    "\n",
    "    errors_mean_ARX2_NP_Raw.append(np.mean(errors))\n",
    "\n",
    "print(errors_mean_ARX2_NP_Raw)"
   ]
  },
  {
   "cell_type": "code",
   "execution_count": 22,
   "metadata": {},
   "outputs": [
    {
     "data": {
      "image/png": "[encoded data removed]",
      "text/plain": [
       "<Figure size 640x480 with 1 Axes>"
      ]
     },
     "metadata": {},
     "output_type": "display_data"
    }
   ],
   "source": [
    "window_list = list(range(28, 1092, 14))\n",
    "plt.plot(window_list, errors_mean_ARX2_NP_Raw)\n",
    "plt.xlabel('Window size')\n",
    "plt.ylabel('MAE')\n",
    "plt.title('ARX2 model - NP2018 - Raw data')\n",
    "xticks = [28, 182, 364, 546, 728, 910, 1092]\n",
    "plt.xticks(xticks)\n",
    "plt.ylim(0, 3)\n",
    "plt.show()"
   ]
  },
  {
   "cell_type": "markdown",
   "metadata": {},
   "source": [
    "#### Normalized"
   ]
  },
  {
   "cell_type": "code",
   "execution_count": null,
   "metadata": {},
   "outputs": [],
   "source": [
    "df_NP2018_complete.head()"
   ]
  },
  {
   "cell_type": "code",
   "execution_count": 24,
   "metadata": {},
   "outputs": [
    {
     "name": "stdout",
     "output_type": "stream",
     "text": [
      "[1571.921599579242, 15.885553393151644, 4.798973035668627, 5.596579254267414, 2.4984267616619196, 2.2309448086017802, 1.8237520967027587, 1.6865809171753114, 1.5926044278749827, 1.5437724307695426, 1.5494102245345387, 1.5113924216830448, 1.5008759437061436, 1.4910627762328832, 1.5164872923807886, 1.5409379090592117, 1.5363889416244674, 1.5436700895504814, 1.5553857065877446, 1.56450163687365, 1.5321995331428535, 1.5078983295095385, 1.4975789038338354, 1.4499459557768857, 1.420736103076776, 1.3680190284547367, 1.3601110518720319, 1.3246346900524728, 1.3056542900322854, 1.2944467508805337, 1.301140436437459, 1.290182443001881, 1.293595521904803, 1.3016171241126617, 1.2995788522123215, 1.27141124364816, 1.2363326385451412, 1.1860100701956435, 1.1683096536689628, 1.0985026019140254, 1.082245958994696, 1.0698522162396138, 1.085358285271813, 1.082175736850813, 1.0898018837369816, 1.1008335458952514, 1.1096621853244497, 1.1110670366801072, 1.099396698330749, 1.109611488811118, 1.1042315534182372, 1.1167788458038883, 1.1145892178081482, 1.1236814916399396, 1.1340365106128905, 1.1377702787346666, 1.1469650850641542, 1.1589845260845764, 1.1695254503780574, 1.1776443884050458, 1.1737458802014873, 1.1817593137926623, 1.1825017896961325, 1.1562578198834994, 1.1585337056461749, 1.1696342784948657, 1.1855343575710666, 1.1900457875405706, 1.2100550887823003, 1.2161986457974907, 1.2176501922496408, 1.2077000639363, 1.1895125060399965, 1.1223031403579684, 1.0999525398001897, 1.10485909164931]\n"
     ]
    }
   ],
   "source": [
    "load = df_NP2018_complete[\"load\"]\n",
    "df_NP2018_complete[\"for_d_1_norm\"] = df_NP2018_complete[\"Price\"].shift(1)\n",
    "errors = []\n",
    "errors_mean_ARX2_NP_Norm = []\n",
    "\n",
    "\n",
    "\n",
    "for T in range(28,1092,14):\n",
    "    errors = []\n",
    "    for h in range(24):\n",
    "        p_hour = df_NP2018_complete.loc[h::24,'Price'].values # hourly data selection\n",
    "        exogenos = df_NP2018_complete.loc[h::24,'load'].values\n",
    "        weekday = df_NP2018_complete.loc[h::24,'Day'].values\n",
    "        c_d_min = df_NP2018_complete.loc[h::24,'min_norm'].values\n",
    "        c_d_max = df_NP2018_complete.loc[h::24,'max_norm'].values\n",
    "        for_d_1 = df_NP2018_complete.loc[h::24,'for_d_1_norm'].values\n",
    "        h_errors = []\n",
    "        # Initialize an empty list to store the forecasts\n",
    "        forecasts = []\n",
    "        for day in range(T, len(price)//24):\n",
    "                cal_data = price[(day-T):day].values # calibration data\n",
    "                p, a, b, cal_data = normalize_prices_and_vst(cal_data)\n",
    "\n",
    "                Y = cal_data[7:T]\n",
    "                X1 = cal_data[6:T-1] \n",
    "                X2 = cal_data[5:T-2] \n",
    "                X3 = cal_data[0:T-7]\n",
    "                X4 = c_d_min[7:T]\n",
    "                X5 = c_d_max[7:T]  #C_d_h\n",
    "                X6 = for_d_1[7:T] # c_d-1_24\n",
    "                X7 = exogenos[7:T]\n",
    "                X8 = weekday[7:T] \n",
    "                X0 = np.ones(np.size(X1)) \n",
    "                X = np.stack([X0,X1,X2, X3,X4,X5, X6, X7, X8],axis = 1)\n",
    "                betas = np.dot(np.linalg.inv(np.dot(X.T,X)), np.dot(X.T,Y))\n",
    "                X_fut = np.array([1,cal_data[T-1],cal_data[T-2],cal_data[T-7],c_d_min[day], c_d_max[day], for_d_1[day], exogenos[day],weekday[day]])\n",
    "                \n",
    "                forecast = np.dot(X_fut,betas)\n",
    "                # Apply inverse transformation to the forecast\n",
    "                forecast = inverse_transform(forecast, a, b)\n",
    "                forecasts.append(forecast)\n",
    "                \n",
    "                real = price[day]\n",
    "                err = real - forecast\n",
    "                errors1 = (np.abs(err))\n",
    "                errors.append(errors1)\n",
    "\n",
    "    errors_mean_ARX2_NP_Norm.append(np.mean(errors))\n",
    "\n",
    "print(errors_mean_ARX2_NP_Norm)"
   ]
  },
  {
   "cell_type": "code",
   "execution_count": 28,
   "metadata": {},
   "outputs": [
    {
     "data": {
      "image/png": "[encoded data removed]",
      "text/plain": [
       "<Figure size 640x480 with 1 Axes>"
      ]
     },
     "metadata": {},
     "output_type": "display_data"
    }
   ],
   "source": [
    "window_list = list(range(28, 1092, 14))\n",
    "plt.plot(window_list, errors_mean_ARX2_NP_Norm)\n",
    "plt.xlabel('Window size')\n",
    "plt.ylabel('MAE')\n",
    "plt.title('ARX2 model - NP2018 - Normalized data')\n",
    "xticks = [28, 182, 364, 546, 728, 910, 1092]\n",
    "plt.xticks(xticks)\n",
    "plt.ylim(0, 3)\n",
    "plt.show()"
   ]
  },
  {
   "cell_type": "markdown",
   "metadata": {},
   "source": [
    "### df_day_ahead_epex"
   ]
  },
  {
   "cell_type": "code",
   "execution_count": null,
   "metadata": {},
   "outputs": [],
   "source": [
    "df_day_ahead_epex.head()"
   ]
  },
  {
   "cell_type": "markdown",
   "metadata": {},
   "source": [
    "#### Raw Data"
   ]
  },
  {
   "cell_type": "markdown",
   "metadata": {},
   "source": [
    "#### Normalized"
   ]
  }
 ],
 "metadata": {
  "kernelspec": {
   "display_name": "Python 3",
   "language": "python",
   "name": "python3"
  },
  "language_info": {
   "codemirror_mode": {
    "name": "ipython",
    "version": 3
   },
   "file_extension": ".py",
   "mimetype": "text/x-python",
   "name": "python",
   "nbconvert_exporter": "python",
   "pygments_lexer": "ipython3",
   "version": "3.11.1"
  }
 },
 "nbformat": 4,
 "nbformat_minor": 2
}
