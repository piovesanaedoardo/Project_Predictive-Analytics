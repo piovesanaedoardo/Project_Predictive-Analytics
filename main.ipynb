{
 "cells": [
  {
   "cell_type": "markdown",
   "metadata": {},
   "source": [
    "# Selection of Calibration Windows for Day-Ahead Electricity Price Forecasting\n",
    "## by Grzegorz Marcjasz, Tomasz Serafin and Rafał Weron "
   ]
  },
  {
   "cell_type": "code",
   "execution_count": 1,
   "metadata": {},
   "outputs": [],
   "source": [
    "# libraries\n",
    "import numpy as np\n",
    "import matplotlib.pyplot as plt\n",
    "import pandas as pd\n",
    "from scipy.stats import median_abs_deviation"
   ]
  },
  {
   "cell_type": "code",
   "execution_count": 21,
   "metadata": {},
   "outputs": [],
   "source": [
    "df_day_ahead_epex = pd.read_csv('Day_Ahead_Epex.csv', sep=';')\n",
    "df_NP2018 = pd.read_csv('NP2018.csv', header= None)\n",
    "df_PJM = pd.read_csv('PJM.csv', sep=';')"
   ]
  },
  {
   "cell_type": "markdown",
   "metadata": {},
   "source": [
    "mmmmmmm"
   ]
  },
  {
   "cell_type": "code",
   "execution_count": 22,
   "metadata": {},
   "outputs": [
    {
     "data": {
      "text/html": [
       "<div>\n",
       "<style scoped>\n",
       "    .dataframe tbody tr th:only-of-type {\n",
       "        vertical-align: middle;\n",
       "    }\n",
       "\n",
       "    .dataframe tbody tr th {\n",
       "        vertical-align: top;\n",
       "    }\n",
       "\n",
       "    .dataframe thead th {\n",
       "        text-align: right;\n",
       "    }\n",
       "</style>\n",
       "<table border=\"1\" class=\"dataframe\">\n",
       "  <thead>\n",
       "    <tr style=\"text-align: right;\">\n",
       "      <th></th>\n",
       "      <th>Date</th>\n",
       "      <th>hour</th>\n",
       "      <th>Spot DE.AT_price</th>\n",
       "      <th>day</th>\n",
       "    </tr>\n",
       "  </thead>\n",
       "  <tbody>\n",
       "    <tr>\n",
       "      <th>0</th>\n",
       "      <td>20150101</td>\n",
       "      <td>1</td>\n",
       "      <td>25.02</td>\n",
       "      <td>5</td>\n",
       "    </tr>\n",
       "    <tr>\n",
       "      <th>1</th>\n",
       "      <td>20150101</td>\n",
       "      <td>2</td>\n",
       "      <td>18.29</td>\n",
       "      <td>5</td>\n",
       "    </tr>\n",
       "    <tr>\n",
       "      <th>2</th>\n",
       "      <td>20150101</td>\n",
       "      <td>3</td>\n",
       "      <td>16.04</td>\n",
       "      <td>5</td>\n",
       "    </tr>\n",
       "    <tr>\n",
       "      <th>3</th>\n",
       "      <td>20150101</td>\n",
       "      <td>4</td>\n",
       "      <td>14.60</td>\n",
       "      <td>5</td>\n",
       "    </tr>\n",
       "    <tr>\n",
       "      <th>4</th>\n",
       "      <td>20150101</td>\n",
       "      <td>5</td>\n",
       "      <td>14.95</td>\n",
       "      <td>5</td>\n",
       "    </tr>\n",
       "  </tbody>\n",
       "</table>\n",
       "</div>"
      ],
      "text/plain": [
       "       Date  hour  Spot DE.AT_price  day\n",
       "0  20150101     1             25.02    5\n",
       "1  20150101     2             18.29    5\n",
       "2  20150101     3             16.04    5\n",
       "3  20150101     4             14.60    5\n",
       "4  20150101     5             14.95    5"
      ]
     },
     "execution_count": 22,
     "metadata": {},
     "output_type": "execute_result"
    }
   ],
   "source": [
    "df_day_ahead_epex.head()"
   ]
  },
  {
   "cell_type": "code",
   "execution_count": 23,
   "metadata": {},
   "outputs": [
    {
     "data": {
      "text/html": [
       "<div>\n",
       "<style scoped>\n",
       "    .dataframe tbody tr th:only-of-type {\n",
       "        vertical-align: middle;\n",
       "    }\n",
       "\n",
       "    .dataframe tbody tr th {\n",
       "        vertical-align: top;\n",
       "    }\n",
       "\n",
       "    .dataframe thead th {\n",
       "        text-align: right;\n",
       "    }\n",
       "</style>\n",
       "<table border=\"1\" class=\"dataframe\">\n",
       "  <thead>\n",
       "    <tr style=\"text-align: right;\">\n",
       "      <th></th>\n",
       "      <th>Date</th>\n",
       "      <th>Hour</th>\n",
       "      <th>Price</th>\n",
       "      <th>forcaster</th>\n",
       "      <th>forcst1</th>\n",
       "    </tr>\n",
       "  </thead>\n",
       "  <tbody>\n",
       "    <tr>\n",
       "      <th>0</th>\n",
       "      <td>20130101</td>\n",
       "      <td>1</td>\n",
       "      <td>31.05</td>\n",
       "      <td>42497.0</td>\n",
       "      <td>2798.0</td>\n",
       "    </tr>\n",
       "    <tr>\n",
       "      <th>1</th>\n",
       "      <td>20130101</td>\n",
       "      <td>2</td>\n",
       "      <td>30.47</td>\n",
       "      <td>41463.0</td>\n",
       "      <td>2417.0</td>\n",
       "    </tr>\n",
       "    <tr>\n",
       "      <th>2</th>\n",
       "      <td>20130101</td>\n",
       "      <td>3</td>\n",
       "      <td>28.92</td>\n",
       "      <td>40812.0</td>\n",
       "      <td>2036.0</td>\n",
       "    </tr>\n",
       "    <tr>\n",
       "      <th>3</th>\n",
       "      <td>20130101</td>\n",
       "      <td>4</td>\n",
       "      <td>27.88</td>\n",
       "      <td>40246.0</td>\n",
       "      <td>1706.0</td>\n",
       "    </tr>\n",
       "    <tr>\n",
       "      <th>4</th>\n",
       "      <td>20130101</td>\n",
       "      <td>5</td>\n",
       "      <td>26.96</td>\n",
       "      <td>40088.0</td>\n",
       "      <td>1427.0</td>\n",
       "    </tr>\n",
       "  </tbody>\n",
       "</table>\n",
       "</div>"
      ],
      "text/plain": [
       "       Date  Hour  Price  forcaster  forcst1\n",
       "0  20130101     1  31.05    42497.0   2798.0\n",
       "1  20130101     2  30.47    41463.0   2417.0\n",
       "2  20130101     3  28.92    40812.0   2036.0\n",
       "3  20130101     4  27.88    40246.0   1706.0\n",
       "4  20130101     5  26.96    40088.0   1427.0"
      ]
     },
     "execution_count": 23,
     "metadata": {},
     "output_type": "execute_result"
    }
   ],
   "source": [
    "columns = ['Date', 'Hour', 'Price', \"forcaster\", \"forcst1\"]\n",
    "df_NP2018.columns = columns\n",
    "df_NP2018.head()"
   ]
  },
  {
   "cell_type": "code",
   "execution_count": 5,
   "metadata": {},
   "outputs": [
    {
     "data": {
      "text/html": [
       "<div>\n",
       "<style scoped>\n",
       "    .dataframe tbody tr th:only-of-type {\n",
       "        vertical-align: middle;\n",
       "    }\n",
       "\n",
       "    .dataframe tbody tr th {\n",
       "        vertical-align: top;\n",
       "    }\n",
       "\n",
       "    .dataframe thead th {\n",
       "        text-align: right;\n",
       "    }\n",
       "</style>\n",
       "<table border=\"1\" class=\"dataframe\">\n",
       "  <thead>\n",
       "    <tr style=\"text-align: right;\">\n",
       "      <th></th>\n",
       "      <th>date</th>\n",
       "      <th>hour</th>\n",
       "      <th>comed price</th>\n",
       "      <th>rto load forecast</th>\n",
       "      <th>comed load foecast</th>\n",
       "      <th>day</th>\n",
       "    </tr>\n",
       "  </thead>\n",
       "  <tbody>\n",
       "    <tr>\n",
       "      <th>0</th>\n",
       "      <td>20110102</td>\n",
       "      <td>0</td>\n",
       "      <td>17.141179</td>\n",
       "      <td>68590.0</td>\n",
       "      <td>11432.0</td>\n",
       "      <td>1</td>\n",
       "    </tr>\n",
       "    <tr>\n",
       "      <th>1</th>\n",
       "      <td>20110102</td>\n",
       "      <td>1</td>\n",
       "      <td>14.179616</td>\n",
       "      <td>65896.0</td>\n",
       "      <td>10862.0</td>\n",
       "      <td>1</td>\n",
       "    </tr>\n",
       "    <tr>\n",
       "      <th>2</th>\n",
       "      <td>20110102</td>\n",
       "      <td>2</td>\n",
       "      <td>12.736793</td>\n",
       "      <td>64511.0</td>\n",
       "      <td>10486.0</td>\n",
       "      <td>1</td>\n",
       "    </tr>\n",
       "    <tr>\n",
       "      <th>3</th>\n",
       "      <td>20110102</td>\n",
       "      <td>3</td>\n",
       "      <td>11.096262</td>\n",
       "      <td>63935.0</td>\n",
       "      <td>10318.0</td>\n",
       "      <td>1</td>\n",
       "    </tr>\n",
       "    <tr>\n",
       "      <th>4</th>\n",
       "      <td>20110102</td>\n",
       "      <td>4</td>\n",
       "      <td>10.690926</td>\n",
       "      <td>64321.0</td>\n",
       "      <td>10208.0</td>\n",
       "      <td>1</td>\n",
       "    </tr>\n",
       "  </tbody>\n",
       "</table>\n",
       "</div>"
      ],
      "text/plain": [
       "       date  hour  comed price  rto load forecast  comed load foecast  day\n",
       "0  20110102     0    17.141179            68590.0             11432.0    1\n",
       "1  20110102     1    14.179616            65896.0             10862.0    1\n",
       "2  20110102     2    12.736793            64511.0             10486.0    1\n",
       "3  20110102     3    11.096262            63935.0             10318.0    1\n",
       "4  20110102     4    10.690926            64321.0             10208.0    1"
      ]
     },
     "execution_count": 5,
     "metadata": {},
     "output_type": "execute_result"
    }
   ],
   "source": [
    "df_PJM.head()"
   ]
  },
  {
   "cell_type": "markdown",
   "metadata": {},
   "source": [
    "### 2. Methodology"
   ]
  },
  {
   "cell_type": "markdown",
   "metadata": {},
   "source": [
    "#### 2.1. Preliminaries"
   ]
  },
  {
   "cell_type": "code",
   "execution_count": 5,
   "metadata": {},
   "outputs": [],
   "source": [
    "def normalize_prices(prices):\n",
    "    a = np.median(prices)\n",
    "    b = median_abs_deviation(prices)\n",
    "    p = 1/b * (prices - a)\n",
    "    return p, a, b\n",
    "\n",
    "def apply_vst(p): # apply the area hyperbolic sine transformation to the normalized prices\n",
    "    X = np.arcsinh(p)\n",
    "    return X\n",
    "\n",
    "def inverse_transform(forecast, a, b): # apply the inverse of VST to the forecast to obtain the price prediction\n",
    "    price_predictions = b * np.sinh(forecast) + a\n",
    "    return price_predictions"
   ]
  },
  {
   "cell_type": "code",
   "execution_count": null,
   "metadata": {},
   "outputs": [],
   "source": [
    "# Assuming array of prices\n",
    "prices = np.array([...])\n",
    "\n",
    "# Normalize prices\n",
    "p, a, b = normalize_prices(prices)\n",
    "\n",
    "# Apply VST\n",
    "X = apply_vst(p)\n",
    "\n",
    "# Steps for model training and forecasting go here\n",
    "\n",
    "# Assuming forecasts is your array of forecasts\n",
    "forecasts = np.array([...])\n",
    "\n",
    "# Apply inverse transformation\n",
    "price_predictions = inverse_transform(forecasts, a, b)"
   ]
  },
  {
   "cell_type": "markdown",
   "metadata": {},
   "source": [
    "#### 2.2. Expert Models"
   ]
  },
  {
   "cell_type": "markdown",
   "metadata": {},
   "source": [
    "##### ARX1"
   ]
  },
  {
   "cell_type": "code",
   "execution_count": 7,
   "metadata": {},
   "outputs": [],
   "source": [
    "import statsmodels.api as sm\n",
    "\n",
    "def prepare_data_arx1(data):\n",
    "    # Prepare the data for the ARX1 model\n",
    "    # This includes creating the lagged variables and the dummy variables for the weekdays\n",
    "    data['X_lag1'] = data['X'].shift(1)\n",
    "    data['X_lag2'] = data['X'].shift(2)\n",
    "    data['X_lag7'] = data['X'].shift(7)\n",
    "    data['X_min'] = data['X'].rolling(window=24).min().shift(24)\n",
    "    data['load_forecast'] = data['load'].shift(24)\n",
    "    data = pd.get_dummies(data, columns=['weekday']) # create dummy variables for the weekdays\n",
    "    data = data.dropna()  # drop missing values\n",
    "    return data\n",
    "\n",
    "def fit_arx1(data):\n",
    "    # Fit the ARX1 model\n",
    "    # The dependent variable is 'X'\n",
    "    # The independent variables are the lagged variables, the load forecast, and the dummy variables\n",
    "    exog_vars = ['X_lag1', 'X_lag2', 'X_lag7', 'X_min', 'load_forecast', 'weekday_0', 'weekday_1', 'weekday_2', 'weekday_3', 'weekday_4', 'weekday_5', 'weekday_6']\n",
    "    exog = sm.add_constant(data[exog_vars])\n",
    "    endog = data['X']\n",
    "    model = sm.OLS(endog, exog) # Ordinary Least Squares (OLS) model\n",
    "    results = model.fit()\n",
    "    return results # results of the model fitting"
   ]
  },
  {
   "cell_type": "markdown",
   "metadata": {},
   "source": [
    "##### AR1"
   ]
  },
  {
   "cell_type": "code",
   "execution_count": 8,
   "metadata": {},
   "outputs": [],
   "source": [
    "def prepare_data_ar1(data):\n",
    "    # Prepare the data for the AR1 model\n",
    "    data['X_lag1'] = data['X'].shift(1)\n",
    "    data['X_lag2'] = data['X'].shift(2)\n",
    "    data['X_lag7'] = data['X'].shift(7)\n",
    "    data['X_min'] = data['X'].rolling(window=24).min().shift(24)\n",
    "    data = pd.get_dummies(data, columns=['weekday'])\n",
    "    data = data.dropna()  # drop missing values\n",
    "    return data\n",
    "\n",
    "def fit_ar1(data):\n",
    "    # Fit the AR1 model\n",
    "    exog_vars = ['X_lag1', 'X_lag2', 'X_lag7', 'X_min', 'weekday_0', 'weekday_1', 'weekday_2', 'weekday_3', 'weekday_4', 'weekday_5', 'weekday_6']\n",
    "    exog = sm.add_constant(data[exog_vars])\n",
    "    endog = data['X']\n",
    "    model = sm.OLS(endog, exog)\n",
    "    results = model.fit()\n",
    "    return results"
   ]
  },
  {
   "cell_type": "code",
   "execution_count": null,
   "metadata": {},
   "outputs": [],
   "source": [
    "# Prepare the data\n",
    "data = prepare_data_ar1(data)\n",
    "\n",
    "# Fit the AR1 model\n",
    "results = fit_ar1(data)\n",
    "\n",
    "# Print the model summary\n",
    "print(results.summary())"
   ]
  },
  {
   "cell_type": "markdown",
   "metadata": {},
   "source": [
    "##### ARX2"
   ]
  },
  {
   "cell_type": "code",
   "execution_count": 9,
   "metadata": {},
   "outputs": [],
   "source": [
    "def prepare_data_arx2(data):\n",
    "    # Prepare the data for the ARX2 model\n",
    "    data['X_lag1'] = data['X'].shift(1)\n",
    "    data['X_lag2'] = data['X'].shift(2)\n",
    "    data['X_lag7'] = data['X'].shift(7)\n",
    "    data['X_min'] = data['X'].rolling(window=24).min().shift(24)\n",
    "    data['X_max'] = data['X'].rolling(window=24).max().shift(24)\n",
    "    data['X_last'] = data['X'].shift(24)\n",
    "    data['load_forecast'] = data['load'].shift(24)\n",
    "    data = pd.get_dummies(data, columns=['weekday'])\n",
    "    data = data.dropna()  # drop missing values\n",
    "    return data\n",
    "\n",
    "def fit_arx2(data):\n",
    "    # Fit the ARX2 model\n",
    "    exog_vars = ['X_lag1', 'X_lag2', 'X_lag7', 'X_min', 'X_max', 'X_last', 'load_forecast', 'weekday_0', 'weekday_1', 'weekday_2', 'weekday_3', 'weekday_4', 'weekday_5', 'weekday_6']\n",
    "    exog = sm.add_constant(data[exog_vars])\n",
    "    endog = data['X']\n",
    "    model = sm.OLS(endog, exog)\n",
    "    results = model.fit()\n",
    "    return results"
   ]
  },
  {
   "cell_type": "code",
   "execution_count": 10,
   "metadata": {},
   "outputs": [
    {
     "ename": "NameError",
     "evalue": "name 'data' is not defined",
     "output_type": "error",
     "traceback": [
      "\u001b[1;31m---------------------------------------------------------------------------\u001b[0m",
      "\u001b[1;31mNameError\u001b[0m                                 Traceback (most recent call last)",
      "\u001b[1;32mc:\\Users\\Edoardo\\Documents\\GitHub\\Project_Predictive Analytics\\main.ipynb Cell 15\u001b[0m line \u001b[0;36m2\n\u001b[0;32m      <a href='vscode-notebook-cell:/c%3A/Users/Edoardo/Documents/GitHub/Project_Predictive%20Analytics/main.ipynb#X23sZmlsZQ%3D%3D?line=0'>1</a>\u001b[0m \u001b[39m# Prepare the data\u001b[39;00m\n\u001b[1;32m----> <a href='vscode-notebook-cell:/c%3A/Users/Edoardo/Documents/GitHub/Project_Predictive%20Analytics/main.ipynb#X23sZmlsZQ%3D%3D?line=1'>2</a>\u001b[0m data \u001b[39m=\u001b[39m prepare_data_arx2(data)\n\u001b[0;32m      <a href='vscode-notebook-cell:/c%3A/Users/Edoardo/Documents/GitHub/Project_Predictive%20Analytics/main.ipynb#X23sZmlsZQ%3D%3D?line=3'>4</a>\u001b[0m \u001b[39m# Fit the ARX2 model\u001b[39;00m\n\u001b[0;32m      <a href='vscode-notebook-cell:/c%3A/Users/Edoardo/Documents/GitHub/Project_Predictive%20Analytics/main.ipynb#X23sZmlsZQ%3D%3D?line=4'>5</a>\u001b[0m results \u001b[39m=\u001b[39m fit_arx2(data)\n",
      "\u001b[1;31mNameError\u001b[0m: name 'data' is not defined"
     ]
    }
   ],
   "source": [
    "# Prepare the data\n",
    "data = prepare_data_arx2(data)\n",
    "\n",
    "# Fit the ARX2 model\n",
    "results = fit_arx2(data)\n",
    "\n",
    "# Print the model summary\n",
    "print(results.summary())"
   ]
  },
  {
   "cell_type": "markdown",
   "metadata": {},
   "source": [
    "##### AR2"
   ]
  },
  {
   "cell_type": "code",
   "execution_count": null,
   "metadata": {},
   "outputs": [],
   "source": [
    "def prepare_data_ar2(data):\n",
    "    # Prepare the data for the AR2 model\n",
    "    data['X_lag1'] = data['X'].shift(1)\n",
    "    data['X_lag2'] = data['X'].shift(2)\n",
    "    data['X_lag7'] = data['X'].shift(7)\n",
    "    data['X_min'] = data['X'].rolling(window=24).min().shift(24)\n",
    "    data['X_max'] = data['X'].rolling(window=24).max().shift(24)\n",
    "    data['X_last'] = data['X'].shift(24)\n",
    "    data = pd.get_dummies(data, columns=['weekday'])\n",
    "    data = data.dropna()  # drop missing values\n",
    "    return data\n",
    "\n",
    "def fit_ar2(data):\n",
    "    # Fit the AR2 model\n",
    "    exog_vars = ['X_lag1', 'X_lag2', 'X_lag7', 'X_min', 'X_max', 'X_last', 'weekday_0', 'weekday_1', 'weekday_2', 'weekday_3', 'weekday_4', 'weekday_5', 'weekday_6']\n",
    "    exog = sm.add_constant(data[exog_vars])\n",
    "    endog = data['X']\n",
    "    model = sm.OLS(endog, exog)\n",
    "    results = model.fit()\n",
    "    return results"
   ]
  },
  {
   "cell_type": "code",
   "execution_count": null,
   "metadata": {},
   "outputs": [],
   "source": [
    "# Prepare the data\n",
    "data = prepare_data_ar2(data)\n",
    "\n",
    "# Fit the AR2 model\n",
    "results = fit_ar2(data)\n",
    "\n",
    "# Print the model summary\n",
    "print(results.summary())"
   ]
  }
 ],
 "metadata": {
  "kernelspec": {
   "display_name": "Python 3",
   "language": "python",
   "name": "python3"
  },
  "language_info": {
   "codemirror_mode": {
    "name": "ipython",
    "version": 3
   },
   "file_extension": ".py",
   "mimetype": "text/x-python",
   "name": "python",
   "nbconvert_exporter": "python",
   "pygments_lexer": "ipython3",
   "version": "3.11.1"
  }
 },
 "nbformat": 4,
 "nbformat_minor": 2
}
