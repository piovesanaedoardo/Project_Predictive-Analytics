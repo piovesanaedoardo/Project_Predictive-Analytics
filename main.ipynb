{
 "cells": [
  {
   "cell_type": "markdown",
   "metadata": {},
   "source": [
    "# Selection of Calibration Windows for Day-Ahead Electricity Price Forecasting\n",
    "## by Grzegorz Marcjasz, Tomasz Serafin and Rafał Weron "
   ]
  },
  {
   "cell_type": "code",
   "execution_count": 3,
   "metadata": {},
   "outputs": [],
   "source": [
    "# libraries\n",
    "import numpy as np\n",
    "import matplotlib.pyplot as plt\n",
    "import pandas as pd\n",
    "from scipy.stats import median_abs_deviation"
   ]
  },
  {
   "cell_type": "markdown",
   "metadata": {},
   "source": [
    "### 2. Methodology"
   ]
  },
  {
   "cell_type": "markdown",
   "metadata": {},
   "source": [
    "#### 2.1. Preliminaries"
   ]
  },
  {
   "cell_type": "code",
   "execution_count": 5,
   "metadata": {},
   "outputs": [],
   "source": [
    "def normalize_prices(prices):\n",
    "    a = np.median(prices)\n",
    "    b = median_abs_deviation(prices)\n",
    "    p = 1/b * (prices - a)\n",
    "    return p, a, b\n",
    "\n",
    "def apply_vst(p): # apply the area hyperbolic sine transformation to the normalized prices\n",
    "    X = np.arcsinh(p)\n",
    "    return X\n",
    "\n",
    "def inverse_transform(forecast, a, b): # apply the inverse of VST to the forecast to obtain the price prediction\n",
    "    price_predictions = b * np.sinh(forecast) + a\n",
    "    return price_predictions"
   ]
  },
  {
   "cell_type": "code",
   "execution_count": null,
   "metadata": {},
   "outputs": [],
   "source": [
    "# Assuming array of prices\n",
    "prices = np.array([...])\n",
    "\n",
    "# Normalize prices\n",
    "p, a, b = normalize_prices(prices)\n",
    "\n",
    "# Apply VST\n",
    "X = apply_vst(p)\n",
    "\n",
    "# Steps for model training and forecasting go here\n",
    "\n",
    "# Assuming forecasts is your array of forecasts\n",
    "forecasts = np.array([...])\n",
    "\n",
    "# Apply inverse transformation\n",
    "price_predictions = inverse_transform(forecasts, a, b)"
   ]
  },
  {
   "cell_type": "markdown",
   "metadata": {},
   "source": [
    "#### 2.2. Expert Models"
   ]
  },
  {
   "cell_type": "markdown",
   "metadata": {},
   "source": [
    "ARX1"
   ]
  },
  {
   "cell_type": "code",
   "execution_count": 6,
   "metadata": {},
   "outputs": [],
   "source": [
    "import statsmodels.api as sm\n",
    "\n",
    "def prepare_data(data):\n",
    "    # Prepare the data for the ARX1 model\n",
    "    # This includes creating the lagged variables and the dummy variables for the weekdays\n",
    "    data['X_lag1'] = data['X'].shift(1)\n",
    "    data['X_lag2'] = data['X'].shift(2)\n",
    "    data['X_lag7'] = data['X'].shift(7)\n",
    "    data['X_min'] = data['X'].rolling(window=24).min().shift(24)\n",
    "    data['load_forecast'] = data['load'].shift(24)\n",
    "    data = pd.get_dummies(data, columns=['weekday'])\n",
    "    data = data.dropna()  # drop missing values\n",
    "    return data\n",
    "\n",
    "def fit_arx1(data):\n",
    "    # Fit the ARX1 model\n",
    "    # The dependent variable is 'X'\n",
    "    # The independent variables are the lagged variables, the load forecast, and the dummy variables\n",
    "    exog_vars = ['X_lag1', 'X_lag2', 'X_lag7', 'X_min', 'load_forecast', 'weekday_0', 'weekday_1', 'weekday_2', 'weekday_3', 'weekday_4', 'weekday_5', 'weekday_6']\n",
    "    exog = sm.add_constant(data[exog_vars])\n",
    "    endog = data['X']\n",
    "    model = sm.OLS(endog, exog)\n",
    "    results = model.fit()\n",
    "    return results"
   ]
  }
 ],
 "metadata": {
  "kernelspec": {
   "display_name": "Python 3",
   "language": "python",
   "name": "python3"
  },
  "language_info": {
   "codemirror_mode": {
    "name": "ipython",
    "version": 3
   },
   "file_extension": ".py",
   "mimetype": "text/x-python",
   "name": "python",
   "nbconvert_exporter": "python",
   "pygments_lexer": "ipython3",
   "version": "3.11.2"
  }
 },
 "nbformat": 4,
 "nbformat_minor": 2
}
