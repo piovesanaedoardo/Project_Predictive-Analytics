{
 "cells": [
  {
   "cell_type": "markdown",
   "metadata": {},
   "source": [
    "# Selection of Calibration Windows for Day-Ahead Electricity Price Forecasting\n",
    "## by Grzegorz Marcjasz, Tomasz Serafin and Rafał Weron "
   ]
  },
  {
   "cell_type": "code",
   "execution_count": 3,
   "metadata": {},
   "outputs": [],
   "source": [
    "# libraries\n",
    "import numpy as np\n",
    "import matplotlib.pyplot as plt\n",
    "import pandas as pd\n",
    "from scipy.stats import median_abs_deviation"
   ]
  },
  {
   "cell_type": "markdown",
   "metadata": {},
   "source": [
    "### 2. Methodology"
   ]
  },
  {
   "cell_type": "markdown",
   "metadata": {},
   "source": [
    "#### 2.1. Preliminaries"
   ]
  },
  {
   "cell_type": "code",
   "execution_count": 5,
   "metadata": {},
   "outputs": [],
   "source": [
    "def normalize_prices(prices):\n",
    "    a = np.median(prices)\n",
    "    b = median_abs_deviation(prices)\n",
    "    p = 1/b * (prices - a)\n",
    "    return p, a, b\n",
    "\n",
    "def apply_vst(p): # apply the area hyperbolic sine transformation to the normalized prices\n",
    "    X = np.arcsinh(p)\n",
    "    return X\n",
    "\n",
    "def inverse_transform(forecast, a, b): # apply the inverse of VST to the forecast to obtain the price prediction\n",
    "    price_predictions = b * np.sinh(forecast) + a\n",
    "    return price_predictions"
   ]
  },
  {
   "cell_type": "code",
   "execution_count": null,
   "metadata": {},
   "outputs": [],
   "source": [
    "# Assuming array of prices\n",
    "prices = np.array([...])\n",
    "\n",
    "# Normalize prices\n",
    "p, a, b = normalize_prices(prices)\n",
    "\n",
    "# Apply VST\n",
    "X = apply_vst(p)\n",
    "\n",
    "# Steps for model training and forecasting go here\n",
    "\n",
    "# Assuming forecasts is your array of forecasts\n",
    "forecasts = np.array([...])\n",
    "\n",
    "# Apply inverse transformation\n",
    "price_predictions = inverse_transform(forecasts, a, b)"
   ]
  },
  {
   "cell_type": "markdown",
   "metadata": {},
   "source": [
    "#### 2.2. Expert Models"
   ]
  }
 ],
 "metadata": {
  "kernelspec": {
   "display_name": "Python 3",
   "language": "python",
   "name": "python3"
  },
  "language_info": {
   "codemirror_mode": {
    "name": "ipython",
    "version": 3
   },
   "file_extension": ".py",
   "mimetype": "text/x-python",
   "name": "python",
   "nbconvert_exporter": "python",
   "pygments_lexer": "ipython3",
   "version": "3.11.2"
  }
 },
 "nbformat": 4,
 "nbformat_minor": 2
}
